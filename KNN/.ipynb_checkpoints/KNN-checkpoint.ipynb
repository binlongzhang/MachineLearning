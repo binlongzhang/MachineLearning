{
 "cells": [
  {
   "cell_type": "markdown",
   "id": "b61b3002-9567-41f1-be0d-bc8674e9a8f9",
   "metadata": {
    "jp-MarkdownHeadingCollapsed": true,
    "tags": []
   },
   "source": [
    "# KNN\n",
    "> 采用测量不同特征之间的距离的方法来进行分类\n",
    "- 优点\n",
    "    - 精度高\n",
    "    - 对异常值不敏感\n",
    "    - 无数据输入假定\n",
    "- 缺点\n",
    "    - 计算复杂度高\n",
    "    - 空间复杂度高\n",
    "- 适用数据范围\n",
    "    - 数值型\n",
    "    - 标称型"
   ]
  },
  {
   "cell_type": "markdown",
   "id": "4aca0414-0a17-4fa5-8bc7-a07adb1e8a90",
   "metadata": {
    "tags": []
   },
   "source": [
    "# 核心原理\n",
    "存在一个样本数据集合，其中每个数据都存在标签，即我们知道样本集中每一数据所属分类的对应关系\n",
    "\n",
    "输入无标签数据后，新数据的每个特征与样本集中数据对应的特征进行比较，然后提取样本集中最相似的数据数据的分类标签\n",
    "\n",
    "只选择样本数据中前k个最相似的数据，k通常不大于20，k个相似数据中心出现最多的分类就是新数据的分类"
   ]
  },
  {
   "cell_type": "markdown",
   "id": "9ad31784-6672-4035-aee3-84e0fa637be7",
   "metadata": {
    "tags": []
   },
   "source": [
    "# KNN的算法流程\n",
    "1. 收集数据\n",
    "2. 准备数据: 距离计算所需要的值，最好是结构化的数据格式\n",
    "3. 分析数据\n",
    "4. 训练算法: 此步骤不适用于KNN\n",
    "5. 测试算法\n",
    "6. 使用算法：对输入样本结构化，然后运行KNN判定输入的分类，最后对计算出的分类进行后续处理"
   ]
  },
  {
   "cell_type": "markdown",
   "id": "482ac0a6-f0f0-41d4-8206-c13b544812e1",
   "metadata": {
    "tags": []
   },
   "source": [
    "# e.g. 1 简单KNN示例"
   ]
  },
  {
   "cell_type": "markdown",
   "id": "d06d9bd8-2599-455a-b108-233d5fe165db",
   "metadata": {
    "tags": []
   },
   "source": [
    "## 数据预处理"
   ]
  },
  {
   "cell_type": "code",
   "execution_count": 6,
   "id": "f9c4469e-dcec-47d6-9051-a8500704c5e2",
   "metadata": {},
   "outputs": [
    {
     "data": {
      "image/png": "[encoded data removed]",
      "text/plain": [
       "<Figure size 432x288 with 1 Axes>"
      ]
     },
     "metadata": {
      "needs_background": "light"
     },
     "output_type": "display_data"
    }
   ],
   "source": [
    "from numpy import *\n",
    "import operator\n",
    "import matplotlib.pyplot as plt\n",
    "\n",
    "# 生成数据\n",
    "def createDataSet():\n",
    "    group = array([[1.0,1.1],[1.0,1.0],[0,0],[0,0.1]])\n",
    "    labels = ['A','A','B','B']\n",
    "    return group,labels\n",
    "group,labels = createDataSet()\n",
    "\n",
    "plt.scatter(group[:,0],group[:,1])\n",
    "# 打上标签\n",
    "for i in range(len(labels)):\n",
    "    plt.annotate(labels[i], xy = (group[i][0], group[i][1]), xytext = (group[i][0]+0.01, group[i][1]+0.01))\n",
    "\n",
    "plt.show()"
   ]
  },
  {
   "cell_type": "markdown",
   "id": "dc8162e6-f9ce-400f-8747-bc777b3c6950",
   "metadata": {},
   "source": [
    "## Model"
   ]
  },
  {
   "cell_type": "code",
   "execution_count": 2,
   "id": "690c0612-02d0-4b24-8613-72c7600c1222",
   "metadata": {},
   "outputs": [],
   "source": [
    "# 基本KNN，使用欧氏距离\n",
    "def classify0(inputX, dataSet, labels, k):\n",
    "    ## inputX：一个输入样本  dataSet：训练样本集   lebels: dataSet的标签  K：KNN中k的数量\n",
    "    dataSetSize = dataSet.shape[0]\n",
    "    \n",
    "    # diffMat用于求解测试样本与数据集的差距，tile 将原始矩阵横向，纵向的堆叠\n",
    "    diffMat = tile(inputX, (dataSetSize,1)) - dataSet\n",
    "    \n",
    "    # 求解二范数，欧氏距离\n",
    "    sqDiffMat = diffMat**2\n",
    "    sqDistances = sqDiffMat.sum(axis=1)\n",
    "    distances = sqDistances**0.5\n",
    "    \n",
    "    # 定位与测试样本最近的几个样本\n",
    "    # 距离排序返回索引\n",
    "    sortedDistIndicies = distances.argsort()     \n",
    "    classCount={}          \n",
    "    for i in range(k):\n",
    "        voteIlabel = labels[sortedDistIndicies[i]]\n",
    "        # dict.get(key, default=None)存在则返回对应的键值，否则返回0\n",
    "        classCount[voteIlabel] = classCount.get(voteIlabel,0) + 1\n",
    "    \n",
    "    # k近邻排序，并返回标签    \n",
    "    sortedClassCount = sorted(classCount.items(),key=lambda kv:(kv[1],kv[0]),reverse=True)\n",
    "    return sortedClassCount[0][0]"
   ]
  },
  {
   "cell_type": "markdown",
   "id": "45bf26db-8ee2-4159-ac92-74b75cc36cca",
   "metadata": {},
   "source": [
    "## 测试"
   ]
  },
  {
   "cell_type": "code",
   "execution_count": 3,
   "id": "4f7daf18-5827-43b2-a2bf-126aa888aa84",
   "metadata": {},
   "outputs": [
    {
     "data": {
      "text/plain": [
       "'B'"
      ]
     },
     "execution_count": 3,
     "metadata": {},
     "output_type": "execute_result"
    }
   ],
   "source": [
    "classify0([0,0],group,labels,3)"
   ]
  },
  {
   "cell_type": "code",
   "execution_count": 4,
   "id": "93ffb77b-b1f2-4e84-a6bc-9f86028d153d",
   "metadata": {},
   "outputs": [
    {
     "data": {
      "text/plain": [
       "'A'"
      ]
     },
     "execution_count": 4,
     "metadata": {},
     "output_type": "execute_result"
    }
   ],
   "source": [
    "classify0([1,1],group,labels,3)"
   ]
  },
  {
   "cell_type": "code",
   "execution_count": 5,
   "id": "add9e08a-113b-4ff4-b0e2-d7333f9c0307",
   "metadata": {},
   "outputs": [
    {
     "data": {
      "text/plain": [
       "'B'"
      ]
     },
     "execution_count": 5,
     "metadata": {},
     "output_type": "execute_result"
    }
   ],
   "source": [
    "classify0([0.5,0.5],group,labels,3)"
   ]
  },
  {
   "cell_type": "markdown",
   "id": "c2ab81c5-e4c5-46ce-a24b-f75f1b54d589",
   "metadata": {},
   "source": [
    "# e.g.2 KNN改进约会网站配对效果"
   ]
  },
  {
   "cell_type": "markdown",
   "id": "e39a8610-9a19-472d-8fc3-6f1f60215d80",
   "metadata": {},
   "source": [
    "## 数据预处理"
   ]
  },
  {
   "cell_type": "code",
   "execution_count": 11,
   "id": "817e9dc4-09b5-4bd5-84a4-a4ab69eb0769",
   "metadata": {},
   "outputs": [
    {
     "ename": "ValueError",
     "evalue": "invalid literal for int() with base 10: 'largeDoses'",
     "output_type": "error",
     "traceback": [
      "\u001b[1;31m---------------------------------------------------------------------------\u001b[0m",
      "\u001b[1;31mValueError\u001b[0m                                Traceback (most recent call last)",
      "\u001b[1;32m<ipython-input-11-ce7aa061ab74>\u001b[0m in \u001b[0;36m<module>\u001b[1;34m\u001b[0m\n\u001b[0;32m     14\u001b[0m     \u001b[0mreturnMat\u001b[0m\u001b[1;33m[\u001b[0m\u001b[0mindex\u001b[0m\u001b[1;33m,\u001b[0m\u001b[1;33m:\u001b[0m\u001b[1;33m]\u001b[0m \u001b[1;33m=\u001b[0m \u001b[0mlistFromLine\u001b[0m\u001b[1;33m[\u001b[0m\u001b[1;36m0\u001b[0m\u001b[1;33m:\u001b[0m\u001b[1;36m3\u001b[0m\u001b[1;33m]\u001b[0m\u001b[1;33m\u001b[0m\u001b[1;33m\u001b[0m\u001b[0m\n\u001b[0;32m     15\u001b[0m \u001b[1;33m\u001b[0m\u001b[0m\n\u001b[1;32m---> 16\u001b[1;33m     \u001b[0mclassLabelVector\u001b[0m\u001b[1;33m.\u001b[0m\u001b[0mappend\u001b[0m\u001b[1;33m(\u001b[0m\u001b[0mint\u001b[0m\u001b[1;33m(\u001b[0m\u001b[0mlistFromLine\u001b[0m\u001b[1;33m[\u001b[0m\u001b[1;33m-\u001b[0m\u001b[1;36m1\u001b[0m\u001b[1;33m]\u001b[0m\u001b[1;33m)\u001b[0m\u001b[1;33m)\u001b[0m\u001b[1;33m\u001b[0m\u001b[1;33m\u001b[0m\u001b[0m\n\u001b[0m\u001b[0;32m     17\u001b[0m     \u001b[0mindex\u001b[0m \u001b[1;33m+=\u001b[0m \u001b[1;36m1\u001b[0m\u001b[1;33m\u001b[0m\u001b[1;33m\u001b[0m\u001b[0m\n\u001b[0;32m     18\u001b[0m \u001b[1;33m\u001b[0m\u001b[0m\n",
      "\u001b[1;31mValueError\u001b[0m: invalid literal for int() with base 10: 'largeDoses'"
     ]
    }
   ],
   "source": [
    "filename = './data/KNN/datingTestSet.txt'\n",
    "fr = open(filename)\n",
    "arrayOlines = fr.readlines()\n",
    "numberOfLines = len(arrayOlines)\n",
    "\n",
    "returnMat = zeros((numberOfLines,3))\n",
    "classLabelVector = []\n",
    "index = 0\n",
    "for line in arrayOlines:\n",
    "    # 删除首位空格\n",
    "    line = line.strip()\n",
    "    # 以\\t为分隔符分割字符串\n",
    "    listFromLine = line.split('\\t')\n",
    "    returnMat[index,:] = listFromLine[0:3]\n",
    "    \n",
    "    classLabelVector.append(int(listFromLine[-1]))\n",
    "    if listFromLine[-1] == 'didntLike':\n",
    "        classLabelVector.append(1)\n",
    "    elif listFromLine[-1] == 'smallDoses':\n",
    "        classLabelVector.append(2)\n",
    "    elif listFromLine[-1] == 'largeDoses':\n",
    "        classLabelVector.append(3)\n",
    "    \n",
    "    index += 1\n"
   ]
  },
  {
   "cell_type": "code",
   "execution_count": 7,
   "id": "f732e330-e2a7-4c1b-9ec1-92e5a6479e28",
   "metadata": {},
   "outputs": [
    {
     "ename": "SyntaxError",
     "evalue": "invalid syntax (<ipython-input-7-3cd0b4865902>, line 1)",
     "output_type": "error",
     "traceback": [
      "\u001b[1;36m  File \u001b[1;32m\"<ipython-input-7-3cd0b4865902>\"\u001b[1;36m, line \u001b[1;32m1\u001b[0m\n\u001b[1;33m    [0:3]\u001b[0m\n\u001b[1;37m      ^\u001b[0m\n\u001b[1;31mSyntaxError\u001b[0m\u001b[1;31m:\u001b[0m invalid syntax\n"
     ]
    }
   ],
   "source": [
    "[0:3]"
   ]
  },
  {
   "cell_type": "code",
   "execution_count": null,
   "id": "5873965f-62e7-41f4-b1c3-d346cfd3970c",
   "metadata": {},
   "outputs": [],
   "source": []
  }
 ],
 "metadata": {
  "kernelspec": {
   "display_name": "Python [conda env:ML] *",
   "language": "python",
   "name": "conda-env-ML-py"
  },
  "language_info": {
   "codemirror_mode": {
    "name": "ipython",
    "version": 3
   },
   "file_extension": ".py",
   "mimetype": "text/x-python",
   "name": "python",
   "nbconvert_exporter": "python",
   "pygments_lexer": "ipython3",
   "version": "3.6.13"
  }
 },
 "nbformat": 4,
 "nbformat_minor": 5
}
