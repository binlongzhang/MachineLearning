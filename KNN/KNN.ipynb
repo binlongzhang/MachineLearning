{
 "cells": [
  {
   "cell_type": "markdown",
   "id": "b61b3002-9567-41f1-be0d-bc8674e9a8f9",
   "metadata": {
    "jp-MarkdownHeadingCollapsed": true,
    "tags": []
   },
   "source": [
    "# KNN\n",
    "> 采用测量不同特征之间的距离的方法来进行分类\n",
    "- 优点\n",
    "    - 精度高\n",
    "    - 对异常值不敏感\n",
    "    - 无数据输入假定\n",
    "- 缺点\n",
    "    - 计算复杂度高\n",
    "    - 空间复杂度高\n",
    "- 适用数据范围\n",
    "    - 数值型\n",
    "    - 标称型"
   ]
  },
  {
   "cell_type": "markdown",
   "id": "4aca0414-0a17-4fa5-8bc7-a07adb1e8a90",
   "metadata": {
    "tags": []
   },
   "source": [
    "# 核心原理\n",
    "存在一个样本数据集合，其中每个数据都存在标签，即我们知道样本集中每一数据所属分类的对应关系\n",
    "\n",
    "输入无标签数据后，新数据的每个特征与样本集中数据对应的特征进行比较，然后提取样本集中最相似的数据数据的分类标签\n",
    "\n",
    "只选择样本数据中前k个最相似的数据，k通常不大于20，k个相似数据中心出现最多的分类就是新数据的分类"
   ]
  },
  {
   "cell_type": "markdown",
   "id": "9ad31784-6672-4035-aee3-84e0fa637be7",
   "metadata": {
    "tags": []
   },
   "source": [
    "# KNN的算法流程\n",
    "1. 收集数据\n",
    "2. 准备数据: 距离计算所需要的值，最好是结构化的数据格式\n",
    "3. 分析数据\n",
    "4. 训练算法: 此步骤不适用于KNN\n",
    "5. 测试算法\n",
    "6. 使用算法：对输入样本结构化，然后运行KNN判定输入的分类，最后对计算出的分类进行后续处理"
   ]
  },
  {
   "cell_type": "markdown",
   "id": "482ac0a6-f0f0-41d4-8206-c13b544812e1",
   "metadata": {
    "tags": []
   },
   "source": [
    "# e.g.1 简单KNN示例"
   ]
  },
  {
   "cell_type": "markdown",
   "id": "d06d9bd8-2599-455a-b108-233d5fe165db",
   "metadata": {
    "tags": []
   },
   "source": [
    "## 数据预处理"
   ]
  },
  {
   "cell_type": "code",
   "execution_count": 1,
   "id": "f9c4469e-dcec-47d6-9051-a8500704c5e2",
   "metadata": {},
   "outputs": [
    {
     "data": {
      "image/png": "[encoded data removed]",
      "text/plain": [
       "<Figure size 432x288 with 1 Axes>"
      ]
     },
     "metadata": {
      "needs_background": "light"
     },
     "output_type": "display_data"
    }
   ],
   "source": [
    "from numpy import *\n",
    "import operator\n",
    "import matplotlib.pyplot as plt\n",
    "\n",
    "# 生成数据\n",
    "def createDataSet():\n",
    "    group = array([[1.0,1.1],[1.0,1.0],[0,0],[0,0.1]])\n",
    "    labels = ['A','A','B','B']\n",
    "    return group,labels\n",
    "group,labels = createDataSet()\n",
    "\n",
    "plt.scatter(group[:,0],group[:,1])\n",
    "# 打上标签\n",
    "for i in range(len(labels)):\n",
    "    plt.annotate(labels[i], xy = (group[i][0], group[i][1]), xytext = (group[i][0]+0.01, group[i][1]+0.01))\n",
    "\n",
    "plt.show()"
   ]
  },
  {
   "cell_type": "markdown",
   "id": "dc8162e6-f9ce-400f-8747-bc777b3c6950",
   "metadata": {},
   "source": [
    "## Model"
   ]
  },
  {
   "cell_type": "code",
   "execution_count": 2,
   "id": "690c0612-02d0-4b24-8613-72c7600c1222",
   "metadata": {},
   "outputs": [],
   "source": [
    "# 基本KNN，使用欧氏距离\n",
    "def classify0(inputX, dataSet, labels, k):\n",
    "    ## inputX：一个输入样本  dataSet：训练样本集   lebels: dataSet的标签  K：KNN中k的数量\n",
    "    dataSetSize = dataSet.shape[0]\n",
    "    \n",
    "    # diffMat用于求解测试样本与数据集的差距，tile 将原始矩阵横向，纵向的堆叠\n",
    "    diffMat = tile(inputX, (dataSetSize,1)) - dataSet\n",
    "    \n",
    "    # 求解二范数，欧氏距离\n",
    "    sqDiffMat = diffMat**2\n",
    "    sqDistances = sqDiffMat.sum(axis=1)\n",
    "    distances = sqDistances**0.5\n",
    "    \n",
    "    # 定位与测试样本最近的几个样本\n",
    "    # 距离排序返回索引\n",
    "    sortedDistIndicies = distances.argsort()     \n",
    "    classCount={}          \n",
    "    for i in range(k):\n",
    "        voteIlabel = labels[sortedDistIndicies[i]]\n",
    "        # dict.get(key, default=None)存在则返回对应的键值，否则返回0\n",
    "        classCount[voteIlabel] = classCount.get(voteIlabel,0) + 1\n",
    "    \n",
    "    # k近邻排序，并返回标签    \n",
    "    sortedClassCount = sorted(classCount.items(),key=lambda kv:(kv[1],kv[0]),reverse=True)\n",
    "    return sortedClassCount[0][0]"
   ]
  },
  {
   "cell_type": "markdown",
   "id": "45bf26db-8ee2-4159-ac92-74b75cc36cca",
   "metadata": {},
   "source": [
    "## 测试"
   ]
  },
  {
   "cell_type": "code",
   "execution_count": 3,
   "id": "4f7daf18-5827-43b2-a2bf-126aa888aa84",
   "metadata": {},
   "outputs": [
    {
     "data": {
      "text/plain": [
       "'B'"
      ]
     },
     "execution_count": 3,
     "metadata": {},
     "output_type": "execute_result"
    }
   ],
   "source": [
    "classify0([0,0],group,labels,3)"
   ]
  },
  {
   "cell_type": "code",
   "execution_count": 4,
   "id": "93ffb77b-b1f2-4e84-a6bc-9f86028d153d",
   "metadata": {},
   "outputs": [
    {
     "data": {
      "text/plain": [
       "'A'"
      ]
     },
     "execution_count": 4,
     "metadata": {},
     "output_type": "execute_result"
    }
   ],
   "source": [
    "classify0([1,1],group,labels,3)"
   ]
  },
  {
   "cell_type": "code",
   "execution_count": 5,
   "id": "add9e08a-113b-4ff4-b0e2-d7333f9c0307",
   "metadata": {},
   "outputs": [
    {
     "data": {
      "text/plain": [
       "'B'"
      ]
     },
     "execution_count": 5,
     "metadata": {},
     "output_type": "execute_result"
    }
   ],
   "source": [
    "classify0([0.5,0.5],group,labels,3)"
   ]
  },
  {
   "cell_type": "markdown",
   "id": "c2ab81c5-e4c5-46ce-a24b-f75f1b54d589",
   "metadata": {
    "tags": []
   },
   "source": [
    "# e.g.2 KNN改进约会网站配对效果"
   ]
  },
  {
   "cell_type": "markdown",
   "id": "e39a8610-9a19-472d-8fc3-6f1f60215d80",
   "metadata": {
    "tags": []
   },
   "source": [
    "## 获取数据"
   ]
  },
  {
   "cell_type": "code",
   "execution_count": 6,
   "id": "817e9dc4-09b5-4bd5-84a4-a4ab69eb0769",
   "metadata": {},
   "outputs": [],
   "source": [
    "def file2matrix(filename):\n",
    "    fr = open(filename)\n",
    "    arrayOlines = fr.readlines()\n",
    "    numberOfLines = len(arrayOlines)\n",
    "\n",
    "    returnMat = zeros((numberOfLines,3))\n",
    "    classLabelVector = []\n",
    "    index = 0\n",
    "    for line in arrayOlines:\n",
    "        # 删除首位空格\n",
    "        line = line.strip()\n",
    "        # 以\\t为分隔符分割字符串\n",
    "        listFromLine = line.split('\\t')\n",
    "        returnMat[index,:] = listFromLine[0:3]\n",
    "        \n",
    "        # 添加标签\n",
    "        # if listFromLine[-1] == 'didntLike':\n",
    "        #     classLabelVector.append(1)\n",
    "        # elif listFromLine[-1] == 'smallDoses':\n",
    "        #     classLabelVector.append(2)\n",
    "        # elif listFromLine[-1] == 'largeDoses':\n",
    "        #     classLabelVector.append(3)\n",
    "        classLabelVector.append(int(listFromLine[-1]))\n",
    "\n",
    "        index += 1\n",
    "    return returnMat,classLabelVector\n"
   ]
  },
  {
   "cell_type": "code",
   "execution_count": 7,
   "id": "29680458-ffbc-4c57-bbc6-19cf84b446b9",
   "metadata": {},
   "outputs": [
    {
     "data": {
      "text/plain": [
       "array([[4.0920000e+04, 8.3269760e+00, 9.5395200e-01],\n",
       "       [1.4488000e+04, 7.1534690e+00, 1.6739040e+00],\n",
       "       [2.6052000e+04, 1.4418710e+00, 8.0512400e-01],\n",
       "       ...,\n",
       "       [2.6575000e+04, 1.0650102e+01, 8.6662700e-01],\n",
       "       [4.8111000e+04, 9.1345280e+00, 7.2804500e-01],\n",
       "       [4.3757000e+04, 7.8826010e+00, 1.3324460e+00]])"
      ]
     },
     "execution_count": 7,
     "metadata": {},
     "output_type": "execute_result"
    }
   ],
   "source": [
    "filename = '../data/KNN/datingTestSet.txt'\n",
    "datingDatMat,datingLabels = file2matrix(filename)\n",
    "datingDatMat"
   ]
  },
  {
   "cell_type": "code",
   "execution_count": 8,
   "id": "fa3c56a6-cc15-465c-8890-b2b5282bcacb",
   "metadata": {},
   "outputs": [
    {
     "data": {
      "text/plain": [
       "[3, 2, 1, 1, 1, 1, 3, 3, 1, 3, 1, 1, 2, 1, 1, 1, 1, 1, 2, 3]"
      ]
     },
     "execution_count": 8,
     "metadata": {},
     "output_type": "execute_result"
    }
   ],
   "source": [
    "datingLabels[0:20]"
   ]
  },
  {
   "cell_type": "markdown",
   "id": "59e7fd2c-c550-4140-80b6-dc1a3e80fb35",
   "metadata": {},
   "source": [
    "## 数据分析"
   ]
  },
  {
   "cell_type": "code",
   "execution_count": 9,
   "id": "88b5212a-3f4c-451b-bf44-2114383b4116",
   "metadata": {
    "tags": []
   },
   "outputs": [
    {
     "data": {
      "image/png": "[encoded data removed]",
      "text/plain": [
       "<Figure size 432x288 with 1 Axes>"
      ]
     },
     "metadata": {
      "needs_background": "light"
     },
     "output_type": "display_data"
    }
   ],
   "source": [
    "import matplotlib\n",
    "import matplotlib.pyplot as plt\n",
    "fig = plt.figure()\n",
    "ax = fig.add_subplot(111)\n",
    "ax.scatter(datingDatMat[:,1],datingDatMat[:,2],15*array(datingLabels),15*array(datingLabels))\n",
    "plt.show()"
   ]
  },
  {
   "cell_type": "markdown",
   "id": "c3c74495-2829-48bf-9720-e194128bbc4d",
   "metadata": {},
   "source": [
    "## 数据处理:归一化数值"
   ]
  },
  {
   "cell_type": "code",
   "execution_count": 10,
   "id": "d4a9e817-8375-408e-91a6-d1399a53bcaa",
   "metadata": {},
   "outputs": [
    {
     "data": {
      "text/plain": [
       "array([[0.44832535, 0.39805139, 0.56233353],\n",
       "       [0.15873259, 0.34195467, 0.98724416],\n",
       "       [0.28542943, 0.06892523, 0.47449629],\n",
       "       ...,\n",
       "       [0.29115949, 0.50910294, 0.51079493],\n",
       "       [0.52711097, 0.43665451, 0.4290048 ],\n",
       "       [0.47940793, 0.3768091 , 0.78571804]])"
      ]
     },
     "execution_count": 10,
     "metadata": {},
     "output_type": "execute_result"
    }
   ],
   "source": [
    "def autoNorm(dataSet):\n",
    "    \n",
    "    minVals = dataSet.min(0)\n",
    "    maxVals = dataSet.max(0)\n",
    "    ranges = maxVals - minVals\n",
    "    \n",
    "    normDataSet = zeros(shape(dataSet))\n",
    "    m = dataSet.shape[0]\n",
    "    normDataSet = dataSet-tile(minVals,(m,1))\n",
    "    normDataSet = normDataSet / tile(ranges,(m,1))\n",
    "    \n",
    "    return normDataSet, ranges, minVals\n",
    "\n",
    "normMat,ranges,minvals = autoNorm(datingDatMat)\n",
    "normMat"
   ]
  },
  {
   "cell_type": "code",
   "execution_count": 11,
   "id": "0a90e4dc-e849-4baf-9740-ae1d3de55a39",
   "metadata": {},
   "outputs": [
    {
     "data": {
      "text/plain": [
       "array([9.1273000e+04, 2.0919349e+01, 1.6943610e+00])"
      ]
     },
     "execution_count": 11,
     "metadata": {},
     "output_type": "execute_result"
    }
   ],
   "source": [
    "ranges"
   ]
  },
  {
   "cell_type": "code",
   "execution_count": 12,
   "id": "f62585bb-4ba1-4110-843e-b4884f77c7e2",
   "metadata": {},
   "outputs": [
    {
     "data": {
      "text/plain": [
       "array([0.      , 0.      , 0.001156])"
      ]
     },
     "execution_count": 12,
     "metadata": {},
     "output_type": "execute_result"
    }
   ],
   "source": [
    "minvals"
   ]
  },
  {
   "cell_type": "markdown",
   "id": "2a3ae172-cbe1-4f51-9481-3c46d84cd8d9",
   "metadata": {},
   "source": [
    "## 测试算法"
   ]
  },
  {
   "cell_type": "code",
   "execution_count": 13,
   "id": "71d42ec6-3c45-4fb7-a1f0-13e781e5e794",
   "metadata": {},
   "outputs": [],
   "source": [
    "def datingClassTest():\n",
    "    hoRatio = 0.1\n",
    "    datingDataMat,datingLabels = file2matrix('../data/KNN/datingTestSet.txt')\n",
    "    normMat, ranges, minVals = autoNorm(datingDatMat)\n",
    "    m = normMat.shape[0]\n",
    "    numTestVecs = int(m*hoRatio)\n",
    "    errorCount = 0\n",
    "    for i in range(numTestVecs):\n",
    "        classifierResult = classify0(normMat[i,:],normMat[numTestVecs:m,:],datingLabels[numTestVecs:m],3)\n",
    "        # print('the classifier come back with: %d, the real answer is : %d' % (classifierResult,datingLabels[i]))\n",
    "        if (classifierResult != datingLabels[i]):\n",
    "            errorCount += 1\n",
    "    print('the total error rate is : %f'%(errorCount/float(numTestVecs)))    "
   ]
  },
  {
   "cell_type": "code",
   "execution_count": 14,
   "id": "42bd6c7c-e844-4c4b-90b3-1e1b967540b9",
   "metadata": {
    "tags": []
   },
   "outputs": [
    {
     "name": "stdout",
     "output_type": "stream",
     "text": [
      "the total error rate is : 0.050000\n"
     ]
    }
   ],
   "source": [
    "datingClassTest()"
   ]
  },
  {
   "cell_type": "code",
   "execution_count": 15,
   "id": "3213743b-f53f-4edd-a6ec-f6eb813700ec",
   "metadata": {},
   "outputs": [],
   "source": [
    "def classifyPerson(filename):\n",
    "    resultList = ['not at all','in small doses','in large doses']\n",
    "    percentTats = float(input('percentage of time spent playing video games?'))\n",
    "    ffMiles = float(input('frequent flier miles earned per year?'))\n",
    "    iceCream = float(input('liters of ice cream consumed per year?'))\n",
    "\n",
    "    datingDataMat,datingLabels = file2matrix(filename)\n",
    "    normMat,ranges,minVals = autoNorm(datingDataMat)\n",
    "    inputArr = array([ffMiles,percentTats,iceCream])\n",
    "    classifierResult = classify0( (inputArr-minVals)/ranges, normMat,datingLabels, 3)\n",
    "    print('You will probably like this person: ',resultList[classifierResult-1])"
   ]
  },
  {
   "cell_type": "code",
   "execution_count": 16,
   "id": "52bbb871-96aa-4805-9c28-886e7e353216",
   "metadata": {},
   "outputs": [
    {
     "name": "stdin",
     "output_type": "stream",
     "text": [
      "percentage of time spent playing video games? 10\n",
      "frequent flier miles earned per year? 10000\n",
      "liters of ice cream consumed per year? 0.5\n"
     ]
    },
    {
     "name": "stdout",
     "output_type": "stream",
     "text": [
      "You will probably like this person:  in small doses\n"
     ]
    }
   ],
   "source": [
    "filename = '../data/KNN/datingTestSet.txt'\n",
    "classifyPerson(filename)"
   ]
  },
  {
   "cell_type": "markdown",
   "id": "1bf04995-dea1-4f6a-b733-b19ae5a45519",
   "metadata": {},
   "source": [
    "# e.g. 3 KNN手写数字识别系统\n",
    "> 为了简化这里构造系统仅能识别手写数字0-9，为了方便理解，所以将图像转换为文本格式"
   ]
  },
  {
   "cell_type": "markdown",
   "id": "a0e1349e-bd60-4bab-ae5a-32522c99472a",
   "metadata": {},
   "source": [
    "## 数据预处理\n",
    "为了使用KNN首先需要将数据从32\\*32的图像转换成1\\*1024的向量"
   ]
  },
  {
   "cell_type": "code",
   "execution_count": 17,
   "id": "aa721511-c94b-4629-b236-9560e11af36e",
   "metadata": {},
   "outputs": [],
   "source": [
    "def img2vector(filename):\n",
    "    returnVect = zeros((1,1024))\n",
    "    fr = open(filename)\n",
    "    for i in range(32):\n",
    "        lineStr = fr.readline()\n",
    "        for j in range(32):\n",
    "            returnVect[0,32*i+j] = int(lineStr[j])\n",
    "    return returnVect        "
   ]
  },
  {
   "cell_type": "code",
   "execution_count": 18,
   "id": "5fec991e-1be3-41f6-8e77-a92777f8fd2b",
   "metadata": {},
   "outputs": [
    {
     "data": {
      "text/plain": [
       "array([0., 0., 0., 0., 0., 0., 0., 0., 0., 0., 0., 0., 0., 0., 0., 1., 1.,\n",
       "       1., 0., 0., 0., 0., 0., 0., 0., 0., 0., 0., 0., 0., 0.])"
      ]
     },
     "execution_count": 18,
     "metadata": {},
     "output_type": "execute_result"
    }
   ],
   "source": [
    "filename = '../data/KNN/TrainingDigits/0_13.txt'\n",
    "testVector = img2vector(filename)\n",
    "testVector[0,0:31]"
   ]
  },
  {
   "cell_type": "markdown",
   "id": "2466aee3-85dc-4601-8168-6e1762849370",
   "metadata": {},
   "source": [
    "## 测试算法"
   ]
  },
  {
   "cell_type": "code",
   "execution_count": 19,
   "id": "ba65f86d-735c-4a5c-9602-ed1f977c6d21",
   "metadata": {},
   "outputs": [],
   "source": [
    "from os import listdir\n",
    "\n",
    "def handWritingClassTest(trainDir,testDir):\n",
    "    hwLabels = []\n",
    "    trainingFileList = listdir(trainDir)\n",
    "    m = len(trainingFileList)\n",
    "    trainingMat = zeros((m,1024))\n",
    "    # 提取训练数据\n",
    "    for i in range(m):\n",
    "        # 获取标签\n",
    "        fileNameStr = trainingFileList[i]\n",
    "        fileStr = fileNameStr.split('.')[0]\n",
    "        classNumStr = int(fileStr.split('_')[0])\n",
    "        hwLabels.append(classNumStr)\n",
    "        # 获取数据\n",
    "        trainingMat[i,:] = img2vector(trainDir + '/' + fileNameStr)\n",
    "\n",
    "    testFileList = listdir(testDir)\n",
    "    errorCount = 0\n",
    "    mTest = len(testFileList)\n",
    "    \n",
    "    for i in range(mTest):\n",
    "        # 获取标签\n",
    "        fileNameStr = testFileList[i]\n",
    "        fileStr = fileNameStr.split('.')[0]\n",
    "        classNumStr = int(fileStr.split('_')[0])\n",
    "        # 获取数据局\n",
    "        vectorUnderTest = img2vector(testDir + '/' + fileNameStr)\n",
    "        # 分类\n",
    "        classifierResult = classify0(vectorUnderTest,trainingMat,hwLabels,3)\n",
    "        # 统计\n",
    "        if (classifierResult != classNumStr):\n",
    "            errorCount +=1\n",
    "    # 打印结果\n",
    "    print('the total number of error is :%d' % errorCount)\n",
    "    print('the total error rate is : %f' % (errorCount/float(mTest)))\n"
   ]
  },
  {
   "cell_type": "code",
   "execution_count": 20,
   "id": "3c834522-2ec2-48d3-bc1b-d577af80b87f",
   "metadata": {
    "tags": []
   },
   "outputs": [
    {
     "name": "stdout",
     "output_type": "stream",
     "text": [
      "the total number of error is :11\n",
      "the total error rate is : 0.011628\n"
     ]
    }
   ],
   "source": [
    "trainDir = '../data/KNN/trainingDigits'\n",
    "testDir = '../data/KNN/testDigits'\n",
    "handWritingClassTest(trainDir,testDir)"
   ]
  }
 ],
 "metadata": {
  "kernelspec": {
   "display_name": "Python [conda env:ML] *",
   "language": "python",
   "name": "conda-env-ML-py"
  },
  "language_info": {
   "codemirror_mode": {
    "name": "ipython",
    "version": 3
   },
   "file_extension": ".py",
   "mimetype": "text/x-python",
   "name": "python",
   "nbconvert_exporter": "python",
   "pygments_lexer": "ipython3",
   "version": "3.6.13"
  }
 },
 "nbformat": 4,
 "nbformat_minor": 5
}
