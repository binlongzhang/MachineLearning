{
 "cells": [
  {
   "cell_type": "markdown",
   "id": "faef4094-708a-41b2-a6e8-d175c30dac97",
   "metadata": {},
   "source": [
    "# 线性回归\n",
    "- 优点：结果易于理解，计算不复杂\n",
    "- 缺点：对非线性数据拟合不好\n",
    "- 使用数据类型：数值型和标称型数据\n",
    " \n",
    "预测结果$y_i = X^T_iw $ ,均方误差为 $\\sum^m_{i=1}(y_i-x_i^Tw)^2$,也可以表示成矩阵的形式$(Y-XW)^T(Y-XW)$求导得$X^T(Y-XW)$，令其为0得\n",
    "$$\n",
    "\\hat{w} = (X^TX)^{-1}X^Ty\n",
    "$$\n",
    "值得注意的是，上述公式包含$(X^TX)^{-1}$,也就是需要对矩阵求逆，因此这个方程只在逆矩阵存在时可用，然而**矩阵的逆可能不存在**\n",
    "求解最佳w是统计学常见的问题，除了矩阵方法之外还有很多方法，通过调用NumPy里的矩阵方法，我们仅用几行代码就能完成功能，该方法也叫作ordinary least squares"
   ]
  },
  {
   "cell_type": "code",
   "execution_count": 1,
   "id": "d8f1a483-44be-41b9-9069-ad1a250e881b",
   "metadata": {},
   "outputs": [],
   "source": [
    "import numpy as np\n",
    "# 读取数据\n",
    "def loadDataSet(fileName):\n",
    "    numFeat = len(open(fileName).readline().split('\\t'))-1\n",
    "    dataMat = []\n",
    "    labelMat = []\n",
    "    fr = open(fileName)\n",
    "    for line in fr.readlines():\n",
    "        lineArr = []\n",
    "        curLine = line.strip().split('\\t')\n",
    "        for i in range(numFeat):\n",
    "            lineArr.append(float(curLine[i]))\n",
    "        dataMat.append(lineArr)\n",
    "        labelMat.append(float(curLine[-1]))\n",
    "    return dataMat,labelMat"
   ]
  },
  {
   "cell_type": "code",
   "execution_count": 2,
   "id": "050c3ba4-9b0c-4a30-a19e-ad579e536c9e",
   "metadata": {},
   "outputs": [],
   "source": [
    "def standRegres(xArr,yArr):\n",
    "    xMat = np.mat(xArr)\n",
    "    yMat = np.mat(yArr).T\n",
    "    xTx = xMat.T*xMat\n",
    "    if np.linalg.det(xTx) == 0:\n",
    "        print('This matrix is singular, cannot do inverse')\n",
    "        return \n",
    "    ws = xTx.I * (xMat.T * yMat)\n",
    "    return ws"
   ]
  },
  {
   "cell_type": "code",
   "execution_count": 3,
   "id": "48fec121-cb07-47a3-931d-a0faa4948a96",
   "metadata": {},
   "outputs": [
    {
     "data": {
      "text/plain": [
       "[[1.0, 0.067732], [1.0, 0.42781]]"
      ]
     },
     "execution_count": 3,
     "metadata": {},
     "output_type": "execute_result"
    }
   ],
   "source": [
    "xArr,yArr = loadDataSet('../data/LinearRegression/ex0.txt')\n",
    "xArr[0:2]"
   ]
  },
  {
   "cell_type": "code",
   "execution_count": 4,
   "id": "6ce6dac9-cb99-4f91-b827-09d68f951a2a",
   "metadata": {},
   "outputs": [],
   "source": [
    "ws = standRegres(xArr,yArr)"
   ]
  },
  {
   "cell_type": "code",
   "execution_count": 5,
   "id": "41df93f9-cb5c-421a-a74f-7e75f15bd5ed",
   "metadata": {},
   "outputs": [
    {
     "data": {
      "text/plain": [
       "matrix([[3.00774324],\n",
       "        [1.69532264]])"
      ]
     },
     "execution_count": 5,
     "metadata": {},
     "output_type": "execute_result"
    }
   ],
   "source": [
    "ws"
   ]
  },
  {
   "cell_type": "code",
   "execution_count": 6,
   "id": "b47595c7-5680-497f-9696-f59096d57f6e",
   "metadata": {},
   "outputs": [],
   "source": [
    "xMat = np.mat(xArr)\n",
    "yMat = np.mat(yArr)\n",
    "yHat = xMat*ws"
   ]
  },
  {
   "cell_type": "code",
   "execution_count": 7,
   "id": "b19d24d9-4411-4ce0-af7f-a5d5f5eba738",
   "metadata": {},
   "outputs": [],
   "source": [
    "import matplotlib.pyplot as plt"
   ]
  },
  {
   "cell_type": "code",
   "execution_count": 8,
   "id": "3c5ec926-27fd-4c2f-94e4-35be49f610e3",
   "metadata": {},
   "outputs": [
    {
     "data": {
      "image/png": "[encoded data removed]",
      "text/plain": [
       "<Figure size 432x288 with 1 Axes>"
      ]
     },
     "metadata": {
      "needs_background": "light"
     },
     "output_type": "display_data"
    }
   ],
   "source": [
    "fig = plt.figure()\n",
    "ax = fig.add_subplot(111)\n",
    "# 绘制散点\n",
    "ax.scatter(xMat[:,1].flatten().A[0], yMat.T[:,0].flatten().A[0])\n",
    "\n",
    "# 绘制回归线\n",
    "xCopy = xMat.copy()\n",
    "xCopy.sort(0)\n",
    "yHat = xCopy*ws\n",
    "ax.plot(xCopy[:,1],yHat)\n",
    "plt.show()\n",
    "plt.close()"
   ]
  },
  {
   "cell_type": "markdown",
   "id": "38407d83-dd93-49ca-a463-c2d3ab1c3a35",
   "metadata": {},
   "source": [
    "对于不同的数据集拟合成了完全一致的曲线可以通过实际值和预测值的相关系数来判断二者的匹配程度"
   ]
  },
  {
   "cell_type": "code",
   "execution_count": 9,
   "id": "e12e5ca2-9f0a-4ac0-9247-9f2219f169ca",
   "metadata": {},
   "outputs": [
    {
     "data": {
      "text/plain": [
       "array([[1.        , 0.98647356],\n",
       "       [0.98647356, 1.        ]])"
      ]
     },
     "execution_count": 9,
     "metadata": {},
     "output_type": "execute_result"
    }
   ],
   "source": [
    "yHat = xMat*ws\n",
    "np.corrcoef(yHat.T,yMat)"
   ]
  },
  {
   "cell_type": "markdown",
   "id": "b2634f51-5789-450d-82d8-782d66d635fe",
   "metadata": {},
   "source": [
    "# 局部加权线性回归\n",
    "- 线性回归可能出现欠拟合现象，因为其所求是具有均方误差的无偏估计\n",
    "- LWLR(Locally Weighted Linear Regression)给带预测点附近的每个点赋一个权重，然后在这个子集上基于最小均方差进行回归\n",
    "- 与knn一样，这种算法每次预测均需要先选出对应的数据子集,回归系数$\\hat w=(X^TWX)^{-1}X^TWy$,$W$是一个矩阵，用来给每个数据点赋权重\n",
    "- LWLR使用kernel来对附近的点赋予更高的权重$W$。核的类型可以自由选择，最常见的就是高斯核$w(i,j)=exp(\\frac{|x^i-x|}{-2k^2})$\n",
    "- 如此构建了一个只含对角元素的权重矩阵w，并且点x与x(i)越近，w(i,i)将会越大。上述核只需要用户指定一个k，他决定对附近点赋予多大权重，这也是LWLR唯一需要考虑的参数\n"
   ]
  },
  {
   "cell_type": "code",
   "execution_count": 10,
   "id": "2a2bc5b8-7980-483e-8184-14c23f472498",
   "metadata": {},
   "outputs": [],
   "source": [
    "def lwlr(testPoint,xArr,yArr,k=1.0):\n",
    "    xMat = np.mat(xArr)\n",
    "    yMat = np.mat(yArr).T\n",
    "    m = np.shape(xMat)[0]\n",
    "    weights = np.mat(np.eye(m))\n",
    "    for j in range(m):\n",
    "        diffMat = testPoint-xMat[j,:]\n",
    "        weights[j,j] = np.exp(diffMat*diffMat.T/(-2.0*k**2))\n",
    "    xTx = xMat.T * (weights*xMat)\n",
    "    if np.linalg.det(xTx) == 0.0:\n",
    "        print('This matrix is singular, cannot do inverse!')\n",
    "        return\n",
    "    ws = xTx.I * (xMat.T * (weights * yMat))\n",
    "    return testPoint*ws"
   ]
  },
  {
   "cell_type": "code",
   "execution_count": 11,
   "id": "c2f37562-4c8f-4017-bb3a-bbb1a306b013",
   "metadata": {},
   "outputs": [],
   "source": [
    "def lwlrTest(testArr,xArr,yArr,k=1.0):\n",
    "    m = np.shape(testArr)[0]\n",
    "    yHat = np.zeros(m)\n",
    "    for i in range(m):\n",
    "        yHat[i] = lwlr(testArr[i],xArr,yArr,k)\n",
    "    return yHat"
   ]
  },
  {
   "cell_type": "code",
   "execution_count": 12,
   "id": "76c1b7d4-fbac-4d4e-92e7-16debb5963bd",
   "metadata": {},
   "outputs": [
    {
     "data": {
      "text/plain": [
       "3.176513"
      ]
     },
     "execution_count": 12,
     "metadata": {},
     "output_type": "execute_result"
    }
   ],
   "source": [
    "yArr[0]"
   ]
  },
  {
   "cell_type": "code",
   "execution_count": 13,
   "id": "9c0191fd-0098-4b0a-9a46-51db74b3cf7e",
   "metadata": {},
   "outputs": [
    {
     "data": {
      "text/plain": [
       "matrix([[3.12204471]])"
      ]
     },
     "execution_count": 13,
     "metadata": {},
     "output_type": "execute_result"
    }
   ],
   "source": [
    "lwlr(xArr[0],xArr,yArr,1.0)"
   ]
  },
  {
   "cell_type": "code",
   "execution_count": 14,
   "id": "cc686df3-3432-4e71-90e3-dd9135b7b675",
   "metadata": {},
   "outputs": [
    {
     "data": {
      "text/plain": [
       "matrix([[3.20175729]])"
      ]
     },
     "execution_count": 14,
     "metadata": {},
     "output_type": "execute_result"
    }
   ],
   "source": [
    "lwlr(xArr[0],xArr,yArr,0.001)"
   ]
  },
  {
   "cell_type": "markdown",
   "id": "f70ce439-0201-4e00-b13b-fc3dab6fc0a0",
   "metadata": {},
   "source": [
    "---\n",
    "获取所有点的估计和原始值，看看拟合效果。\n",
    "- k=1.0时权重很大，如同将所有数据视为等权重，得出的最佳拟合直线与标准回归一致\n",
    "- k=0.01得到了不错的效果抓到了数据潜在特征\n",
    "- k=0.003则纳入过多的噪声点，拟合的直线与训练数据过于接近，发生了过拟合"
   ]
  },
  {
   "cell_type": "code",
   "execution_count": 15,
   "id": "e7822673-3149-4f8c-bf33-bd8270fb2de1",
   "metadata": {},
   "outputs": [],
   "source": [
    "def plotTest(xArr,yArr,k):\n",
    "    # 获取所有点预测值\n",
    "    yHat = lwlrTest(xArr,xArr,yArr,k)\n",
    "\n",
    "    # 对x进行排序\n",
    "    xMat = np.mat(xArr)\n",
    "    srtInd = xMat[:,1].argsort(0)\n",
    "    xSort = xMat[srtInd][:,0,:]\n",
    "\n",
    "    # 绘图\n",
    "    import matplotlib.pyplot as plt\n",
    "    fig = plt.figure()\n",
    "    ax = fig.add_subplot(111)\n",
    "    ax.plot(xSort[:,1],yHat[srtInd])\n",
    "    ax.scatter(xMat[:,1].flatten().A[0],np.mat(yArr).T.flatten().A[0],s=2,c='red')\n",
    "    plt.title('k == ' + str(k))\n",
    "    plt.show()"
   ]
  },
  {
   "cell_type": "code",
   "execution_count": 16,
   "id": "8e30c682-e6fa-4e00-912b-bbc2af6f49a9",
   "metadata": {},
   "outputs": [
    {
     "data": {
      "image/png": "[encoded data removed]",
      "text/plain": [
       "<Figure size 432x288 with 1 Axes>"
      ]
     },
     "metadata": {
      "needs_background": "light"
     },
     "output_type": "display_data"
    }
   ],
   "source": [
    "plotTest(xArr,yArr,1.0)"
   ]
  },
  {
   "cell_type": "code",
   "execution_count": 17,
   "id": "03f7533b-a370-495a-8230-d953ccd5e6c0",
   "metadata": {},
   "outputs": [
    {
     "data": {
      "image/png": "[encoded data removed]",
      "text/plain": [
       "<Figure size 432x288 with 1 Axes>"
      ]
     },
     "metadata": {
      "needs_background": "light"
     },
     "output_type": "display_data"
    }
   ],
   "source": [
    "plotTest(xArr,yArr,0.01)"
   ]
  },
  {
   "cell_type": "code",
   "execution_count": 18,
   "id": "de783c25-3bab-4502-92b5-0f8a5e6e395c",
   "metadata": {},
   "outputs": [
    {
     "data": {
      "image/png": "[encoded data removed]",
      "text/plain": [
       "<Figure size 432x288 with 1 Axes>"
      ]
     },
     "metadata": {
      "needs_background": "light"
     },
     "output_type": "display_data"
    }
   ],
   "source": [
    "plotTest(xArr,yArr,0.003)"
   ]
  },
  {
   "cell_type": "markdown",
   "id": "1b0629a4-d7ab-4596-aaf4-1a4031105ca8",
   "metadata": {},
   "source": [
    "---\n",
    "- 局部加权线性回归也存在问题，增加了计算量，对每个点做预测都必须使用整个数据集\n",
    "- 观察k=0.01的情况就会发现大多数数据点权重接近0.避免这些计算就可以减少运行时间，缓解计算量带来的问题"
   ]
  },
  {
   "cell_type": "markdown",
   "id": "5930be4c-9b5b-46ca-8a21-3233b476e979",
   "metadata": {},
   "source": [
    "## 预测鲍鱼年龄"
   ]
  },
  {
   "cell_type": "code",
   "execution_count": 19,
   "id": "90d05e7c-21c4-4242-beea-22fc9768aa49",
   "metadata": {},
   "outputs": [],
   "source": [
    "def rssError(yArr,yHatArr):\n",
    "    return ((yArr-yHatArr)**2).sum()\n",
    "\n",
    "abX,abY = loadDataSet('../data/LinearRegression/abalone.txt')\n",
    "yHat01 = lwlrTest(abX[0:99],abX[0:99],abY[0:99],0.1)\n",
    "yHat1 = lwlrTest(abX[0:99],abX[0:99],abY[0:99],1)\n",
    "yHat10 = lwlrTest(abX[0:99],abX[0:99],abY[0:99],10)"
   ]
  },
  {
   "cell_type": "code",
   "execution_count": 20,
   "id": "e2a0bc1c-ddad-49a2-bb68-f75d398721f1",
   "metadata": {},
   "outputs": [
    {
     "data": {
      "text/plain": [
       "56.78420911837208"
      ]
     },
     "execution_count": 20,
     "metadata": {},
     "output_type": "execute_result"
    }
   ],
   "source": [
    "rssError(abY[0:99],yHat01.T)"
   ]
  },
  {
   "cell_type": "code",
   "execution_count": 21,
   "id": "9b89c1c8-f24f-4e29-ad67-bc0abdf9e16e",
   "metadata": {},
   "outputs": [
    {
     "data": {
      "text/plain": [
       "429.89056187030394"
      ]
     },
     "execution_count": 21,
     "metadata": {},
     "output_type": "execute_result"
    }
   ],
   "source": [
    "rssError(abY[0:99],yHat1.T)"
   ]
  },
  {
   "cell_type": "code",
   "execution_count": 22,
   "id": "15de6dba-36a1-4542-948d-4635f4734a5a",
   "metadata": {},
   "outputs": [
    {
     "data": {
      "text/plain": [
       "549.1181708826065"
      ]
     },
     "execution_count": 22,
     "metadata": {},
     "output_type": "execute_result"
    }
   ],
   "source": [
    "rssError(abY[0:99],yHat10.T)"
   ]
  },
  {
   "cell_type": "markdown",
   "id": "cf6a6243-a91c-47a0-bf90-f1dfb8dceea9",
   "metadata": {},
   "source": [
    "---\n",
    "显然较小的核通常会得到更低的误差，但是使用最小的核可能会过拟合，对新数据效果差"
   ]
  },
  {
   "cell_type": "code",
   "execution_count": 23,
   "id": "7a356684-debf-4c58-90b0-051a991b7d5f",
   "metadata": {},
   "outputs": [
    {
     "data": {
      "text/plain": [
       "25119.459111157415"
      ]
     },
     "execution_count": 23,
     "metadata": {},
     "output_type": "execute_result"
    }
   ],
   "source": [
    "yHat01 = lwlrTest(abX[100:199],abX[0:99],abY[0:99],0.1)\n",
    "rssError(abY[100:199],yHat01.T)"
   ]
  },
  {
   "cell_type": "code",
   "execution_count": 24,
   "id": "018b6309-a083-4543-867b-4098ecb15c6f",
   "metadata": {},
   "outputs": [
    {
     "data": {
      "text/plain": [
       "573.5261441895706"
      ]
     },
     "execution_count": 24,
     "metadata": {},
     "output_type": "execute_result"
    }
   ],
   "source": [
    "yHat1 = lwlrTest(abX[100:199],abX[0:99],abY[0:99],1)\n",
    "rssError(abY[100:199],yHat1.T)"
   ]
  },
  {
   "cell_type": "code",
   "execution_count": 25,
   "id": "f260a16b-8a0a-414a-9125-d70db7de6e38",
   "metadata": {},
   "outputs": [
    {
     "data": {
      "text/plain": [
       "517.5711905381745"
      ]
     },
     "execution_count": 25,
     "metadata": {},
     "output_type": "execute_result"
    }
   ],
   "source": [
    "yHat10 = lwlrTest(abX[100:199],abX[0:99],abY[0:99],10)\n",
    "rssError(abY[100:199],yHat10.T)"
   ]
  },
  {
   "cell_type": "markdown",
   "id": "b2b52126-7c43-4119-a826-69bfc8c9cc1a",
   "metadata": {},
   "source": [
    "---\n",
    "- 显然核大小为10时候测试误差最小，但是其在训练集上误差最大\n",
    "- 下面是标准线性回归的结果,显然线性回归获得了与局部加权线性回归相似的效果，这也表明最佳核大小需要测试\n",
    "- 局部加权线性回归每次必须在整个数据集上运行，就必须保存大量数据，这是一大缺陷"
   ]
  },
  {
   "cell_type": "code",
   "execution_count": 26,
   "id": "f67cc683-32e4-4c0d-917a-f4909c603bdf",
   "metadata": {},
   "outputs": [
    {
     "data": {
      "text/plain": [
       "518.6363153249081"
      ]
     },
     "execution_count": 26,
     "metadata": {},
     "output_type": "execute_result"
    }
   ],
   "source": [
    "ws = standRegres(abX[0:99],abY[0:99])\n",
    "yHat = np.mat(abX[100:199])*ws\n",
    "rssError(abY[100:199],yHat.T.A)"
   ]
  },
  {
   "cell_type": "markdown",
   "id": "305b7f71-53fa-4657-863d-f30267716c29",
   "metadata": {},
   "source": [
    "# 缩减系数来“理解”数据\n",
    "- 如果数据特征比样本数多，则不能使用之前的线性回归，因为计算$(X^TX)^{-1}$会出错，如果特征比样本点多，也就是输入数据矩阵$X$不是满秩的，非满秩矩阵求逆会出错\n",
    "    - 统计学家引入**岭回归（ridge regression）**,这是一种缩减方法\n",
    "    - **Lasso法**效果很好但计算复杂\n",
    "    - **前向逐步回归** 可以得到与lasso差不多的效果，且更容易实现"
   ]
  },
  {
   "cell_type": "markdown",
   "id": "98578c86-03d4-4218-9bf1-83a8787c052a",
   "metadata": {},
   "source": [
    "## 岭回归\n",
    "岭回归就是在矩阵$X^TX$上加上一个$\\lambda I$从而使得矩阵非奇异，进而能对$X^TX+\\lambda I$求逆，如此回归系数变成了\n",
    "$$\n",
    "    \\hat{w} = (X^TX+\\lambda I)^{-1}X^Ty\n",
    "$$\n",
    "岭回归最先用来处理特征数多余样本的情况，现在也用于在估计中加入偏差从而得到更好的估计，这里通过引入$\\lambda$限制所有$w$之和,通过引入该惩罚项，能减少不重要的参数，这个技术在统计学中称为shrinkage\n",
    "\n",
    "- 缩减方法可以去掉不重要参数，因此能更好的理解数据。此外，与简单线性回归相比缩减法能取得更好效果\n",
    "- 与训练其他参数的方法类似，这里通过误差最小化得到$\\lambda$,获得数据之后，首先抽一部分数据用于测试，剩余的作为训练集用于训练参数$w$，随后则在测试集上预测性能。通过选取不同的$\\lambda$重复上述过程最终得到一个预测误差最小的$\\lambda$"
   ]
  },
  {
   "cell_type": "code",
   "execution_count": 27,
   "id": "6038c7c1-ab18-46b1-b710-5964ea6e0abc",
   "metadata": {},
   "outputs": [],
   "source": [
    "# 岭回归计算回归系数\n",
    "def ridgeRegres(xMat,yMat,lam=0.2):\n",
    "    xTx = xMat.T*xMat\n",
    "    denom = xTx + np.eye(np.shape(xMat)[1])*lam\n",
    "    if np.linalg.det(denom) == 0.0:\n",
    "        print('This matrix is singular, cannot do inverse')\n",
    "        return \n",
    "    ws = denom.I * (xMat.T*yMat)\n",
    "    return ws\n",
    "\n",
    "# 在一组lambda上测试结果\n",
    "def ridgeTest(xArr,yArr):\n",
    "    xMat = np.mat(xArr)\n",
    "    yMat = np.mat(yArr).T\n",
    "    \n",
    "    yMean = np.mean(yMat,0)\n",
    "    yMat = yMat - yMean    \n",
    "    xMeans = np.mean(xMat,0)\n",
    "    xVar = np.var(xMat,0)\n",
    "    xMat = (xMat-xMeans)/xVar\n",
    "    \n",
    "    numTestPts = 30\n",
    "    wMat = np.zeros((numTestPts,np.shape(xMat)[1]))\n",
    "    for i in range(numTestPts):\n",
    "        ws = ridgeRegres(xMat,yMat,np.exp(i-10))\n",
    "        wMat[i,:] = ws.T\n",
    "    return wMat"
   ]
  },
  {
   "cell_type": "code",
   "execution_count": 28,
   "id": "31c7be0b-f2aa-49a4-88d1-d0a0ca3b5ebd",
   "metadata": {},
   "outputs": [
    {
     "data": {
      "text/plain": [
       "(30, 8)"
      ]
     },
     "execution_count": 28,
     "metadata": {},
     "output_type": "execute_result"
    }
   ],
   "source": [
    "abX,abY = loadDataSet('../data/LinearRegression/abalone.txt')\n",
    "ridgeWeights = ridgeTest(abX,abY)\n",
    "ridgeWeights.shape"
   ]
  },
  {
   "cell_type": "code",
   "execution_count": 29,
   "id": "7fdad996-69f2-4df1-992d-02eb4c67c4fd",
   "metadata": {},
   "outputs": [
    {
     "data": {
      "image/png": "[encoded data removed]",
      "text/plain": [
       "<Figure size 432x288 with 1 Axes>"
      ]
     },
     "metadata": {
      "needs_background": "light"
     },
     "output_type": "display_data"
    }
   ],
   "source": [
    "import matplotlib.pyplot as plt\n",
    "fig = plt.figure()\n",
    "ax = fig.add_subplot(111)\n",
    "ax.plot(ridgeWeights)\n",
    "plt.show()"
   ]
  },
  {
   "cell_type": "markdown",
   "id": "5b516e1c-0c7c-4b9f-96e6-fcf02b9ba4f9",
   "metadata": {},
   "source": [
    "## Lasso\n",
    "不难证明，在增加如下约束时，普通最小二乘法回归得到与岭回归一样的公式\n",
    "$$\n",
    "    \\sum^n_{k=1}{w^2_k}\\leq \\lambda\n",
    "$$\n",
    "上式限定了所有回归系数的平方和不能大于$\\lambda$，使用普通的最小二乘回归在当两个或更多特征相关时，可能得出一个很大的正系数和负系数。正是因为上述限制条件的存在，使用岭回归可以避免这个问题\n",
    "\n",
    "与岭回归类似，另一个缩减方法lasso也对回归系数做了限定，对应条件如下\n",
    "$$\n",
    "    \\sum^n_{k=1}{|w_k|}\\leq \\lambda\n",
    "$$\n",
    "显然这里不同在于约束条件用绝对值取代平方和。$\\lambda$足够小时，一些系数会因此被迫减到0，这个特性帮助我们更好的理解数据。这种细微的变化缺极大增加了计算复杂度，实际上有一种更简单的方法得到结构，称为**前向逐步回归**\n"
   ]
  },
  {
   "cell_type": "markdown",
   "id": "315ca4cf-de18-4f8b-93ca-7cb3be267a26",
   "metadata": {},
   "source": [
    "## 前向逐步回归\n",
    "前向逐步回归算法可以得到与lasso接近的效果，他是一种贪心算法，每一步都尽可能减小误差，一开始所有权重都设置为1，然后每一步做的决策是对某个权重增加或减少一个很小的值\n",
    "\n",
    "伪代码如下\n",
    "```\n",
    "    数据标准化，使其满足0均值和单位方差\n",
    "    每轮迭代过程中：\n",
    "            设置当前最小误差lowestError为正无穷\n",
    "            对每个特征：\n",
    "                    增大或缩小：\n",
    "                            改变一个系数得到一个新的w\n",
    "                            计算新w下的误差\n",
    "                            如果误差error小于当前最小lowerError;设置wbest等于当前w\n",
    "                    将w设置为新的wbest\n",
    "```"
   ]
  },
  {
   "cell_type": "code",
   "execution_count": 30,
   "id": "468ebe7c-8429-416b-b844-d0fff3e99fbc",
   "metadata": {},
   "outputs": [],
   "source": [
    "def regularize(xMat):\n",
    "    inMat = xMat.copy()\n",
    "    inMeans = np.mean(inMat,0)   \n",
    "    inVar = np.var(inMat,0)   \n",
    "    inMat = (inMat - inMeans)/inVar\n",
    "    return inMat\n",
    "\n",
    "def stageWise(xArr,yArr,eps=0.01,numIt=100):\n",
    "    xMat = np.mat(xArr)\n",
    "    yMat = np.mat(yArr).T\n",
    "    yMean = np.mean(yMat,0)\n",
    "    yMat = yMat - yMean\n",
    "    xMat = regularize(xMat)\n",
    "    \n",
    "    m,n = np.shape(xMat)\n",
    "    returnMat = np.zeros((numIt,n))\n",
    "    ws = np.zeros((n,1))\n",
    "    wsTest = ws.copy()\n",
    "    wsMax = ws.copy()\n",
    "    \n",
    "    for i in range(numIt):\n",
    "        # print(ws.T)\n",
    "        lowestError = np.inf\n",
    "        for j in range(n):\n",
    "            for sign in [-1,1]:\n",
    "                wsTest = ws.copy()\n",
    "                wsTest[j] += eps*sign\n",
    "                yTest = xMat*wsTest\n",
    "                rssE = rssError(yMat.A,yTest.A)\n",
    "                if rssE <lowestError:\n",
    "                    lowestError = rssE\n",
    "                    wsMax = wsTest\n",
    "        ws = wsMax.copy()\n",
    "        returnMat[i,:] = ws.T\n",
    "    return returnMat"
   ]
  },
  {
   "cell_type": "code",
   "execution_count": 31,
   "id": "8a2754ef-ccfd-4370-8186-b81de5db8527",
   "metadata": {},
   "outputs": [
    {
     "data": {
      "text/plain": [
       "array([[ 0.  ,  0.  ,  0.  , ...,  0.  ,  0.  ,  0.  ],\n",
       "       [ 0.  ,  0.  ,  0.  , ...,  0.  ,  0.  ,  0.  ],\n",
       "       [ 0.  ,  0.  ,  0.  , ...,  0.  ,  0.  ,  0.  ],\n",
       "       ...,\n",
       "       [ 0.05,  0.  ,  0.09, ..., -0.64,  0.  ,  0.36],\n",
       "       [ 0.04,  0.  ,  0.09, ..., -0.64,  0.  ,  0.36],\n",
       "       [ 0.05,  0.  ,  0.09, ..., -0.64,  0.  ,  0.36]])"
      ]
     },
     "execution_count": 31,
     "metadata": {},
     "output_type": "execute_result"
    }
   ],
   "source": [
    "xArr,yArr = loadDataSet('../data/LinearRegression/abalone.txt')\n",
    "stageWise(xArr,yArr,0.01,200)"
   ]
  },
  {
   "cell_type": "code",
   "execution_count": 32,
   "id": "adf45f07-abf0-467f-a9ce-831027ab3259",
   "metadata": {},
   "outputs": [
    {
     "data": {
      "text/plain": [
       "array([[ 0.   ,  0.   ,  0.   , ...,  0.   ,  0.   ,  0.   ],\n",
       "       [ 0.   ,  0.   ,  0.   , ...,  0.   ,  0.   ,  0.   ],\n",
       "       [ 0.   ,  0.   ,  0.   , ...,  0.   ,  0.   ,  0.   ],\n",
       "       ...,\n",
       "       [ 0.043, -0.011,  0.12 , ..., -0.963, -0.105,  0.187],\n",
       "       [ 0.044, -0.011,  0.12 , ..., -0.963, -0.105,  0.187],\n",
       "       [ 0.043, -0.011,  0.12 , ..., -0.963, -0.105,  0.187]])"
      ]
     },
     "execution_count": 32,
     "metadata": {},
     "output_type": "execute_result"
    }
   ],
   "source": [
    "stageWise(xArr,yArr,0.001,5000)"
   ]
  },
  {
   "cell_type": "markdown",
   "id": "d14f21a6-5028-43f4-a444-8e5e2e3b5712",
   "metadata": {},
   "source": [
    "将结果和最小二乘法进行比较"
   ]
  },
  {
   "cell_type": "code",
   "execution_count": 33,
   "id": "5bec5cfc-b664-46a6-a709-27a7811a74b7",
   "metadata": {},
   "outputs": [
    {
     "data": {
      "text/plain": [
       "matrix([[ 0.0430442 , -0.02274163,  0.13214087,  0.02075182,  2.22403814,\n",
       "         -0.99895312, -0.11725427,  0.16622915]])"
      ]
     },
     "execution_count": 33,
     "metadata": {},
     "output_type": "execute_result"
    }
   ],
   "source": [
    "xMat = np.mat(xArr)\n",
    "yMat = np.mat(yArr).T\n",
    "xMat = regularize(xMat)\n",
    "yM = np.mean(yMat,0)\n",
    "yMat = yMat-yM\n",
    "weights = standRegres(xMat,yMat.T)\n",
    "weights.T"
   ]
  },
  {
   "cell_type": "code",
   "execution_count": 34,
   "id": "965555a5-1f66-4184-8cad-a59dcc8272ed",
   "metadata": {},
   "outputs": [
    {
     "data": {
      "image/png": "[encoded data removed]",
      "text/plain": [
       "<Figure size 432x288 with 1 Axes>"
      ]
     },
     "metadata": {
      "needs_background": "light"
     },
     "output_type": "display_data"
    }
   ],
   "source": [
    "forwardStepWeights = stageWise(xArr,yArr,0.005,1000)\n",
    "import matplotlib.pyplot as plt\n",
    "fig = plt.figure()\n",
    "ax = fig.add_subplot(111)\n",
    "ax.plot(forwardStepWeights)\n",
    "plt.show()"
   ]
  },
  {
   "cell_type": "markdown",
   "id": "694a9080-52a4-488a-ac9c-75b4ef9a2e9e",
   "metadata": {},
   "source": [
    "- 逐步线性回归实际好处不在于绘制出上述的图，主要优点在于他可以帮助人们理解现有模型并做出改进。\n",
    "- 构建一个模型后，可以运行该算法找出重要特征，这样就能及时停止收集不重要的特征数据\n",
    "- 当应用缩减方法（逐步线性回归或岭回归）时，模型也就增加了bias,与此同时减少了variance\n",
    "- 这也提供了一种潜在的挖掘大量数据内战在规律的方法，其可以指出哪些特征是关键的，那些特征不重要"
   ]
  },
  {
   "cell_type": "code",
   "execution_count": null,
   "id": "c76f92f6-e7cf-4a73-a785-3ff02f46cbd8",
   "metadata": {},
   "outputs": [],
   "source": []
  }
 ],
 "metadata": {
  "kernelspec": {
   "display_name": "Python [conda env:Anaconda3-ML]",
   "language": "python",
   "name": "conda-env-Anaconda3-ML-py"
  },
  "language_info": {
   "codemirror_mode": {
    "name": "ipython",
    "version": 3
   },
   "file_extension": ".py",
   "mimetype": "text/x-python",
   "name": "python",
   "nbconvert_exporter": "python",
   "pygments_lexer": "ipython3",
   "version": "3.6.13"
  }
 },
 "nbformat": 4,
 "nbformat_minor": 5
}
