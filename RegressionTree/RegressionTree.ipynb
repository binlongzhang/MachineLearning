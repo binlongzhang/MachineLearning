{
 "cells": [
  {
   "cell_type": "markdown",
   "id": "f308b6a5-fd04-4a3d-b5f3-61f40fcf2eb2",
   "metadata": {},
   "source": [
    "# 复杂数据局部性建模\n",
    "树回归\n",
    "- 优点：可以对复杂和非线性的数据建模\n",
    "- 缺点：结果不易理解\n",
    "- 使用数据类型：数值型和标称型\n",
    "\n",
    "CART是十分著名且广泛记在的树构建算法，使用二元切分处理连续性变量，对CART稍作修改就可以处理回归问题"
   ]
  },
  {
   "cell_type": "markdown",
   "id": "1d004502-7c32-431d-9c7d-30dfb24e7749",
   "metadata": {},
   "source": [
    "# 连续和离散特征的树的构建\n",
    "使用字典来存储树结构，字典包含：\n",
    "- 带切分的特征\n",
    "- 待切分的特征值\n",
    "- 右子树\n",
    "- 左子树"
   ]
  },
  {
   "cell_type": "code",
   "execution_count": 1,
   "id": "c8394865-d3f1-4bea-a5c7-ba7407a6aeb9",
   "metadata": {},
   "outputs": [],
   "source": [
    "class treeNode():\n",
    "    def __init__(self,feat,val,right,left):\n",
    "        featureToSplitOn = feat\n",
    "        valueOfSplit = val\n",
    "        rightBranch = right\n",
    "        leftBranch = left\n",
    "        "
   ]
  },
  {
   "cell_type": "code",
   "execution_count": 2,
   "id": "45f13061-8af8-4ecf-b24f-ac631ba810bc",
   "metadata": {},
   "outputs": [],
   "source": [
    "import numpy as np\n",
    "\n",
    "def loadDataSet(fileName):\n",
    "    dataMat = []\n",
    "    fr = open(fileName)\n",
    "    for line in fr.readlines():\n",
    "        curLine = line.strip().split('\\t')\n",
    "        fltLine = list(map(float,curLine))\n",
    "        dataMat.append(fltLine)\n",
    "    return dataMat\n",
    "\n",
    "def binSplitDataSet(dataSet,feature,value):\n",
    "    mat0 = dataSet[np.nonzero(dataSet[:,feature] > value)[0],:]\n",
    "    mat1 = dataSet[np.nonzero(dataSet[:,feature] <= value)[0],:]\n",
    "    return mat0,mat1"
   ]
  },
  {
   "cell_type": "code",
   "execution_count": 3,
   "id": "cb637595-557d-498f-92a6-3643068e2762",
   "metadata": {},
   "outputs": [
    {
     "data": {
      "text/plain": [
       "matrix([[1., 0., 0., 0.],\n",
       "        [0., 1., 0., 0.],\n",
       "        [0., 0., 1., 0.],\n",
       "        [0., 0., 0., 1.]])"
      ]
     },
     "execution_count": 3,
     "metadata": {},
     "output_type": "execute_result"
    }
   ],
   "source": [
    "testMat = np.mat(np.eye(4))\n",
    "testMat"
   ]
  },
  {
   "cell_type": "code",
   "execution_count": 4,
   "id": "f642b87b-d031-4571-b111-a92ac645202f",
   "metadata": {},
   "outputs": [
    {
     "data": {
      "text/plain": [
       "matrix([[0., 1., 0., 0.]])"
      ]
     },
     "execution_count": 4,
     "metadata": {},
     "output_type": "execute_result"
    }
   ],
   "source": [
    "mat0,mat1 = binSplitDataSet(testMat,1,0.5)\n",
    "mat0"
   ]
  },
  {
   "cell_type": "code",
   "execution_count": 5,
   "id": "8e91a130-43e9-47d7-9e8c-86a185ed340f",
   "metadata": {},
   "outputs": [
    {
     "data": {
      "text/plain": [
       "matrix([[1., 0., 0., 0.],\n",
       "        [0., 0., 1., 0.],\n",
       "        [0., 0., 0., 1.]])"
      ]
     },
     "execution_count": 5,
     "metadata": {},
     "output_type": "execute_result"
    }
   ],
   "source": [
    "mat1"
   ]
  },
  {
   "cell_type": "markdown",
   "id": "1d634edb-eb82-4c4f-bf5d-6ae0bbf61f02",
   "metadata": {},
   "source": [
    "# CART算法用于回归\n"
   ]
  },
  {
   "cell_type": "code",
   "execution_count": 6,
   "id": "2ba27193-b0a1-441a-b106-d09acef6b225",
   "metadata": {},
   "outputs": [],
   "source": [
    "# 实现chooseBestSplit()函数，用最优方式划分数据集并生成相应的叶节点\n",
    "# 注意，此处默认当前数据最后一列为标签\n",
    "\n",
    "# 负责产生叶节点\n",
    "def regLeaf(dataSet):\n",
    "    # print(dataSet.shape)\n",
    "    return np.mean(dataSet[:,-1])\n",
    "\n",
    "# 误差估计函数，在该函数给定数据上计算目标变量的平方误差和\n",
    "def regErr(dataSet):\n",
    "    return np.var(dataSet[:,-1])*np.shape(dataSet)[0]\n",
    "\n",
    "\n",
    "def chooseBestSplit(dataSet,leafType=regLeaf, errType=regErr,ops=(1,4)):\n",
    "    tolS = ops[0]\n",
    "    tolN = ops[1]\n",
    "    # 所有标签值相等，则直接返回\n",
    "    if len( set(dataSet[:,-1].T.tolist()[0]) ) == 1:\n",
    "        # print(dataSet.shape)\n",
    "        return None, leafType(dataSet)\n",
    "    m,n = np.shape(dataSet)\n",
    "    S = errType(dataSet)\n",
    "    bestS = np.inf\n",
    "    bestIndex = 0\n",
    "    bestValue = 0\n",
    "    for featIndex in range(n-1):\n",
    "        for splitVal in set(dataSet[:,featIndex].T.A.tolist()[0]):\n",
    "            mat0,mat1 = binSplitDataSet(dataSet,featIndex,splitVal)\n",
    "            if (np.shape(mat0)[0] < tolN) or (np.shape(mat1)[0] < tolN):\n",
    "                continue\n",
    "            newS = errType(mat0) + errType(mat1)\n",
    "            if newS<bestS:\n",
    "                bestIndex = featIndex\n",
    "                bestValue = splitVal\n",
    "                bestS = newS\n",
    "    # 测试方差优化程度，过小则放弃更新\n",
    "    if (S-bestS)<tolS:\n",
    "        return None,leafType(dataSet)\n",
    "    mat0,mat1 = binSplitDataSet(dataSet,bestIndex,bestValue)\n",
    "    if (np.shape(mat0)[0] < tolN) or (np.shape(mat1)[0] < tolN):\n",
    "        return None,leafType(dataSet)\n",
    "    return bestIndex,bestValue\n",
    "\n",
    "def createTree(dataSet ,leafType=regLeaf, errType=regErr, ops=(1,4)):\n",
    "    feat,val = chooseBestSplit(dataSet,leafType,errType,ops)\n",
    "    if feat == None:\n",
    "        return val\n",
    "    retTree = {}\n",
    "    retTree['spInd'] = feat\n",
    "    retTree['spVal'] = val\n",
    "    lSet,rSet = binSplitDataSet(dataSet,feat,val)\n",
    "    retTree['left'] = createTree(lSet,leafType,errType,ops)\n",
    "    retTree['right'] = createTree(rSet,leafType,errType,ops)\n",
    "    return retTree"
   ]
  },
  {
   "cell_type": "code",
   "execution_count": 7,
   "id": "caf40c5c-4c93-436c-ac9e-b72ee182f628",
   "metadata": {},
   "outputs": [],
   "source": [
    "import matplotlib.pyplot as plt\n",
    "\n",
    "def showData(dataMat):\n",
    "    fig = plt.figure()\n",
    "    ax = fig.add_subplot(111)       \n",
    "    ax.scatter(dataMat[:,0].T.A[0],dataMat[:,1].T.A[0])\n",
    "    plt.show()"
   ]
  },
  {
   "cell_type": "code",
   "execution_count": 8,
   "id": "72e7fe46-eeff-43d6-abb8-7456c34e60a5",
   "metadata": {},
   "outputs": [
    {
     "data": {
      "image/png": "[encoded data removed]",
      "text/plain": [
       "<Figure size 432x288 with 1 Axes>"
      ]
     },
     "metadata": {
      "needs_background": "light"
     },
     "output_type": "display_data"
    },
    {
     "data": {
      "text/plain": [
       "{'spInd': 0,\n",
       " 'spVal': 0.48813,\n",
       " 'left': 1.0180967672413792,\n",
       " 'right': -0.04465028571428572}"
      ]
     },
     "execution_count": 8,
     "metadata": {},
     "output_type": "execute_result"
    }
   ],
   "source": [
    "myDat = loadDataSet('../data/RegressionTree/ex00.txt')\n",
    "myMat = np.mat(myDat)\n",
    "showData(myMat)\n",
    "createTree(myMat)"
   ]
  },
  {
   "cell_type": "code",
   "execution_count": 9,
   "id": "8d0bdd8e-d36f-4f60-91a1-65f73050c818",
   "metadata": {},
   "outputs": [
    {
     "data": {
      "image/png": "[encoded data removed]",
      "text/plain": [
       "<Figure size 432x288 with 1 Axes>"
      ]
     },
     "metadata": {
      "needs_background": "light"
     },
     "output_type": "display_data"
    },
    {
     "data": {
      "text/plain": [
       "{'spInd': 1,\n",
       " 'spVal': 0.39435,\n",
       " 'left': {'spInd': 1,\n",
       "  'spVal': 0.582002,\n",
       "  'left': {'spInd': 1,\n",
       "   'spVal': 0.797583,\n",
       "   'left': 3.9871632,\n",
       "   'right': 2.9836209534883724},\n",
       "  'right': 1.980035071428571},\n",
       " 'right': {'spInd': 1,\n",
       "  'spVal': 0.197834,\n",
       "  'left': 1.0289583666666666,\n",
       "  'right': -0.023838155555555553}}"
      ]
     },
     "execution_count": 9,
     "metadata": {},
     "output_type": "execute_result"
    }
   ],
   "source": [
    "myDat1 = loadDataSet('../data/RegressionTree/ex0.txt')\n",
    "myMat1 = np.mat(myDat1)\n",
    "showData(myMat1)\n",
    "createTree(myMat1)"
   ]
  },
  {
   "cell_type": "markdown",
   "id": "6fecb3c5-2b30-4a2a-b37d-8b66fe508b08",
   "metadata": {},
   "source": [
    "# 树剪枝(Tree pruning)\n",
    "- 树的节点过多，则模型可能发生了过拟合，可以考虑在测试集上使用交叉验证技术发现过拟合\n",
    "- 通过降低决策树的复杂度来避免过拟合的过程叫做Pruning\n",
    "- chooseBestSplit()中的提前终止条件，实际上是一种预剪枝(prePruning)\n",
    "- 另一种需要用到测试集和训练集的称为后剪枝(postPruning)\n"
   ]
  },
  {
   "cell_type": "markdown",
   "id": "4661fafc-1f39-49e2-9bb1-4140eacf0113",
   "metadata": {},
   "source": [
    "## 预剪枝\n",
    "上述实验结果大致令人满意，但是显然树的构建算法对输入tolS和tolN非常敏感，如果使用其他值可能不容易获得如此效果，例如\n",
    "```python\n",
    "createTree(myMat,ops=(0,1))\n",
    "```\n",
    "将会构建臃肿的树，其中每个样本都分配了一个叶节点"
   ]
  },
  {
   "cell_type": "code",
   "execution_count": 10,
   "id": "eaf006d0-94b3-4e76-8bb2-5e27f91744c9",
   "metadata": {
    "tags": []
   },
   "outputs": [
    {
     "data": {
      "image/png": "[encoded data removed]",
      "text/plain": [
       "<Figure size 432x288 with 1 Axes>"
      ]
     },
     "metadata": {
      "needs_background": "light"
     },
     "output_type": "display_data"
    },
    {
     "name": "stdout",
     "output_type": "stream",
     "text": [
      "{'spInd': 0, 'spVal': 0.499171, 'left': {'spInd': 0, 'spVal': 0.729397, 'left': {'spInd': 0, 'spVal': 0.952833, 'left': {'spInd': 0, 'spVal': 0.958512, 'left': 105.24862350000001, 'right': 112.42895575000001}, 'right': {'spInd': 0, 'spVal': 0.759504, 'left': {'spInd': 0, 'spVal': 0.790312, 'left': {'spInd': 0, 'spVal': 0.833026, 'left': {'spInd': 0, 'spVal': 0.944221, 'left': 87.3103875, 'right': {'spInd': 0, 'spVal': 0.85497, 'left': {'spInd': 0, 'spVal': 0.910975, 'left': 96.452867, 'right': {'spInd': 0, 'spVal': 0.892999, 'left': 104.825409, 'right': {'spInd': 0, 'spVal': 0.872883, 'left': 95.181793, 'right': 102.25234449999999}}}, 'right': 95.27584316666666}}, 'right': {'spInd': 0, 'spVal': 0.811602, 'left': 81.110152, 'right': 88.78449880000001}}, 'right': 102.35780185714285}, 'right': 78.08564325}}, 'right': {'spInd': 0, 'spVal': 0.640515, 'left': {'spInd': 0, 'spVal': 0.666452, 'left': {'spInd': 0, 'spVal': 0.706961, 'left': 114.554706, 'right': {'spInd': 0, 'spVal': 0.698472, 'left': 104.82495374999999, 'right': 108.92921799999999}}, 'right': 114.1516242857143}, 'right': {'spInd': 0, 'spVal': 0.613004, 'left': 93.67344971428572, 'right': {'spInd': 0, 'spVal': 0.582311, 'left': 123.2101316, 'right': {'spInd': 0, 'spVal': 0.553797, 'left': 97.20018024999999, 'right': {'spInd': 0, 'spVal': 0.51915, 'left': {'spInd': 0, 'spVal': 0.543843, 'left': 109.38961049999999, 'right': 110.979946}, 'right': 101.73699325000001}}}}}}, 'right': {'spInd': 0, 'spVal': 0.457563, 'left': {'spInd': 0, 'spVal': 0.467383, 'left': 12.50675925, 'right': 3.4331330000000007}, 'right': {'spInd': 0, 'spVal': 0.126833, 'left': {'spInd': 0, 'spVal': 0.373501, 'left': {'spInd': 0, 'spVal': 0.437652, 'left': -12.558604833333334, 'right': {'spInd': 0, 'spVal': 0.412516, 'left': 14.38417875, 'right': {'spInd': 0, 'spVal': 0.385021, 'left': -0.8923554999999995, 'right': 3.6584772500000016}}}, 'right': {'spInd': 0, 'spVal': 0.335182, 'left': {'spInd': 0, 'spVal': 0.350725, 'left': -15.08511175, 'right': -22.693879600000002}, 'right': {'spInd': 0, 'spVal': 0.324274, 'left': 15.05929075, 'right': {'spInd': 0, 'spVal': 0.297107, 'left': -19.9941552, 'right': {'spInd': 0, 'spVal': 0.166765, 'left': {'spInd': 0, 'spVal': 0.202161, 'left': {'spInd': 0, 'spVal': 0.217214, 'left': {'spInd': 0, 'spVal': 0.228473, 'left': {'spInd': 0, 'spVal': 0.25807, 'left': 0.40377471428571476, 'right': -13.070501}, 'right': 6.770429}, 'right': -11.822278500000001}, 'right': 3.4496025}, 'right': {'spInd': 0, 'spVal': 0.156067, 'left': -12.1079725, 'right': -6.247900000000001}}}}}}, 'right': {'spInd': 0, 'spVal': 0.084661, 'left': 6.509843285714284, 'right': {'spInd': 0, 'spVal': 0.044737, 'left': -2.544392714285715, 'right': 4.091626}}}}}\n"
     ]
    }
   ],
   "source": [
    "myDat2 = loadDataSet('../data/RegressionTree/ex2.txt')\n",
    "myMat2 = np.mat(myDat2)\n",
    "showData(myMat2)\n",
    "print(createTree(myMat2))"
   ]
  },
  {
   "cell_type": "markdown",
   "id": "0abdb79b-e088-4e4e-8b8d-6782f4177e3b",
   "metadata": {},
   "source": [
    "实际上该数据集仅仅是在y轴上扩大了100倍，由此可见停止条件tolS对误差的数量级十分敏感，如果在选项中花费时间应对上述误差容忍取平方，或许能得到仅两个点组成的树"
   ]
  },
  {
   "cell_type": "code",
   "execution_count": 11,
   "id": "17bf4b51-4076-43d1-825e-b61539330ea9",
   "metadata": {},
   "outputs": [
    {
     "data": {
      "text/plain": [
       "{'spInd': 0,\n",
       " 'spVal': 0.499171,\n",
       " 'left': 101.35815937735848,\n",
       " 'right': -2.637719329787234}"
      ]
     },
     "execution_count": 11,
     "metadata": {},
     "output_type": "execute_result"
    }
   ],
   "source": [
    "createTree(myMat2,ops=(10000,4))"
   ]
  },
  {
   "cell_type": "markdown",
   "id": "5354e60a-9c33-4489-a63b-f88932c70197",
   "metadata": {},
   "source": [
    "## 后剪枝\n",
    "首先构建足够大、足够复杂的树便于剪枝，接下来从上而下寻找叶节点，用测试机判断能否降低测试误差，可以的话就进行合并"
   ]
  },
  {
   "cell_type": "code",
   "execution_count": 12,
   "id": "f9680f20-4ae6-4aec-9e6a-00e54addf73f",
   "metadata": {},
   "outputs": [],
   "source": [
    "def isTree(obj):\n",
    "    return (type(obj).__name__=='dict')\n",
    "\n",
    "def getMean(tree):\n",
    "    if isTree(tree['right']):\n",
    "        tree['right'] = getMean(tree['right'])\n",
    "    if isTree(tree['left']):\n",
    "        tree['left'] = getMean(tree['left'])\n",
    "        \n",
    "    return (tree['left']+tree['right'])/2.0\n",
    "\n",
    "def prune(tree,testData):\n",
    "    \n",
    "    if np.shape(testData)[0] ==0:\n",
    "        return getMean(tree)\n",
    "    \n",
    "    if (isTree(tree['left']) or isTree(tree['right'])):\n",
    "        lSet,rSet = binSplitDataSet(testData,tree['spInd'],tree['spVal'])\n",
    "        \n",
    "    if (isTree(tree['left'])):\n",
    "        tree['left'] = prune(tree['left'],lSet)\n",
    "    if (isTree(tree['right'])):\n",
    "        tree['right'] = prune(tree['right'],rSet)\n",
    "        \n",
    "    if not isTree(tree['left']) and not isTree(tree['right']):\n",
    "        lSet,rSet = binSplitDataSet(testData,tree['spInd'],tree['spVal'])\n",
    "        errorNoMerge = np.sum(np.power(lSet[:,-1]-tree['left'],2))+\\\n",
    "            np.sum(np.power(rSet[:,-1]-tree['right'],2))\n",
    "        treeMean = (tree['left']+tree['right'])/2.0\n",
    "        errorMerge = np.sum(np.power(rSet[:,-1]-treeMean,2))\n",
    "        if errorMerge < errorNoMerge:\n",
    "            # print('Merging')\n",
    "            return treeMean\n",
    "        else:\n",
    "            return tree\n",
    "    else:\n",
    "        return tree"
   ]
  },
  {
   "cell_type": "code",
   "execution_count": 13,
   "id": "d4e9d022-dda3-409e-9e1f-216fd176b0b1",
   "metadata": {},
   "outputs": [
    {
     "name": "stdout",
     "output_type": "stream",
     "text": [
      "{'spInd': 0, 'spVal': 0.499171, 'left': {'spInd': 0, 'spVal': 0.729397, 'left': {'spInd': 0, 'spVal': 0.952833, 'left': 105.7886099375, 'right': {'spInd': 0, 'spVal': 0.759504, 'left': {'spInd': 0, 'spVal': 0.763328, 'left': {'spInd': 0, 'spVal': 0.769043, 'left': {'spInd': 0, 'spVal': 0.790312, 'left': {'spInd': 0, 'spVal': 0.806158, 'left': {'spInd': 0, 'spVal': 0.815215, 'left': {'spInd': 0, 'spVal': 0.833026, 'left': {'spInd': 0, 'spVal': 0.841547, 'left': {'spInd': 0, 'spVal': 0.841625, 'left': {'spInd': 0, 'spVal': 0.944221, 'left': 82.86875062499999, 'right': {'spInd': 0, 'spVal': 0.85497, 'left': {'spInd': 0, 'spVal': 0.936524, 'left': 110.03503850000001, 'right': {'spInd': 0, 'spVal': 0.934853, 'left': 65.548418, 'right': {'spInd': 0, 'spVal': 0.925782, 'left': 115.753994, 'right': {'spInd': 0, 'spVal': 0.910975, 'left': 89.70073275, 'right': {'spInd': 0, 'spVal': 0.901444, 'left': 112.664071, 'right': {'spInd': 0, 'spVal': 0.901421, 'left': 87.300625, 'right': {'spInd': 0, 'spVal': 0.892999, 'left': {'spInd': 0, 'spVal': 0.900699, 'left': 100.133819, 'right': 108.094934}, 'right': {'spInd': 0, 'spVal': 0.888426, 'left': 82.436686, 'right': 102.3565725}}}}}}}}, 'right': 89.309294}}, 'right': 60.552308}, 'right': 124.87935300000001}, 'right': 70.71112525}, 'right': {'spInd': 0, 'spVal': 0.811602, 'left': 118.319942, 'right': {'spInd': 0, 'spVal': 0.811363, 'left': 99.841379, 'right': 112.981216}}}, 'right': 73.49439925}, 'right': {'spInd': 0, 'spVal': 0.786865, 'left': 114.4008695, 'right': 102.26514075}}, 'right': 64.041941}, 'right': 115.199195}, 'right': 78.08564325}}, 'right': {'spInd': 0, 'spVal': 0.640515, 'left': {'spInd': 0, 'spVal': 0.642373, 'left': {'spInd': 0, 'spVal': 0.642707, 'left': {'spInd': 0, 'spVal': 0.665329, 'left': {'spInd': 0, 'spVal': 0.706961, 'left': 121.921494375, 'right': {'spInd': 0, 'spVal': 0.698472, 'left': {'spInd': 0, 'spVal': 0.69892, 'left': {'spInd': 0, 'spVal': 0.699873, 'left': {'spInd': 0, 'spVal': 0.70639, 'left': 106.180427, 'right': 105.062147}, 'right': 115.586605}, 'right': 92.470636}, 'right': 113.93409231249998}}, 'right': 118.09113425000001}, 'right': 82.500766}, 'right': 140.613941}, 'right': {'spInd': 0, 'spVal': 0.613004, 'left': {'spInd': 0, 'spVal': 0.623909, 'left': {'spInd': 0, 'spVal': 0.628061, 'left': {'spInd': 0, 'spVal': 0.637999, 'left': 82.713621, 'right': 92.650955}, 'right': 111.7995445}, 'right': 82.04976400000001}, 'right': {'spInd': 0, 'spVal': 0.606417, 'left': 168.180746, 'right': {'spInd': 0, 'spVal': 0.513332, 'left': {'spInd': 0, 'spVal': 0.533511, 'left': {'spInd': 0, 'spVal': 0.548539, 'left': {'spInd': 0, 'spVal': 0.553797, 'left': {'spInd': 0, 'spVal': 0.560301, 'left': {'spInd': 0, 'spVal': 0.599142, 'left': 93.521396, 'right': {'spInd': 0, 'spVal': 0.589806, 'left': 130.378529, 'right': {'spInd': 0, 'spVal': 0.582311, 'left': 111.9849935, 'right': {'spInd': 0, 'spVal': 0.571214, 'left': 82.589328, 'right': {'spInd': 0, 'spVal': 0.569327, 'left': 114.872056, 'right': 108.435392}}}}}, 'right': 82.903945}, 'right': 129.0624485}, 'right': {'spInd': 0, 'spVal': 0.546601, 'left': 83.114502, 'right': {'spInd': 0, 'spVal': 0.537834, 'left': 97.3405265, 'right': 90.995536}}}, 'right': {'spInd': 0, 'spVal': 0.51915, 'left': {'spInd': 0, 'spVal': 0.531944, 'left': 129.766743, 'right': 124.795495}, 'right': 116.176162}}, 'right': {'spInd': 0, 'spVal': 0.508548, 'left': 101.075609, 'right': {'spInd': 0, 'spVal': 0.508542, 'left': 93.292829, 'right': 96.403373}}}}}}}, 'right': {'spInd': 0, 'spVal': 0.457563, 'left': {'spInd': 0, 'spVal': 0.465561, 'left': -2.5333013750000006, 'right': {'spInd': 0, 'spVal': 0.463241, 'left': 30.051931, 'right': 17.171057}}, 'right': {'spInd': 0, 'spVal': 0.455761, 'left': -34.044555, 'right': {'spInd': 0, 'spVal': 0.126833, 'left': {'spInd': 0, 'spVal': 0.130626, 'left': {'spInd': 0, 'spVal': 0.382037, 'left': {'spInd': 0, 'spVal': 0.388789, 'left': {'spInd': 0, 'spVal': 0.437652, 'left': -4.1911745, 'right': 4.080843125000001}, 'right': 23.197474}, 'right': {'spInd': 0, 'spVal': 0.335182, 'left': {'spInd': 0, 'spVal': 0.370042, 'left': {'spInd': 0, 'spVal': 0.378965, 'left': -29.007783, 'right': {'spInd': 0, 'spVal': 0.373501, 'left': {'spInd': 0, 'spVal': 0.377383, 'left': 13.583555, 'right': 5.241196}, 'right': -8.228297}}, 'right': -25.273513078125003}, 'right': {'spInd': 0, 'spVal': 0.324274, 'left': 22.286959625, 'right': {'spInd': 0, 'spVal': 0.309133, 'left': -35.16842475, 'right': {'spInd': 0, 'spVal': 0.131833, 'left': {'spInd': 0, 'spVal': 0.138619, 'left': {'spInd': 0, 'spVal': 0.156067, 'left': {'spInd': 0, 'spVal': 0.166765, 'left': {'spInd': 0, 'spVal': 0.193282, 'left': {'spInd': 0, 'spVal': 0.211633, 'left': {'spInd': 0, 'spVal': 0.228473, 'left': {'spInd': 0, 'spVal': 0.25807, 'left': {'spInd': 0, 'spVal': 0.284794, 'left': {'spInd': 0, 'spVal': 0.300318, 'left': 8.814725, 'right': -13.14773975}, 'right': {'spInd': 0, 'spVal': 0.273863, 'left': 35.623746, 'right': {'spInd': 0, 'spVal': 0.264926, 'left': -9.457556, 'right': {'spInd': 0, 'spVal': 0.264639, 'left': 5.280579, 'right': 2.557923}}}}, 'right': -11.236716874999999}, 'right': 6.099239}, 'right': {'spInd': 0, 'spVal': 0.202161, 'left': -16.42737025, 'right': -2.6781805}}, 'right': 9.5773855}, 'right': {'spInd': 0, 'spVal': 0.156273, 'left': {'spInd': 0, 'spVal': 0.164134, 'left': {'spInd': 0, 'spVal': 0.166431, 'left': -14.740059, 'right': -6.512506}, 'right': -27.405211}, 'right': 0.225886}}, 'right': 7.4470665}, 'right': -29.087463}, 'right': 22.478291}}}}}, 'right': -39.524461}, 'right': {'spInd': 0, 'spVal': 0.124723, 'left': 22.891675, 'right': {'spInd': 0, 'spVal': 0.085111, 'left': {'spInd': 0, 'spVal': 0.108801, 'left': 6.196516, 'right': {'spInd': 0, 'spVal': 0.10796, 'left': -16.106164, 'right': -5.715149500000001}}, 'right': {'spInd': 0, 'spVal': 0.084661, 'left': 37.820659, 'right': {'spInd': 0, 'spVal': 0.080061, 'left': -24.132226, 'right': {'spInd': 0, 'spVal': 0.068373, 'left': 15.824970500000001, 'right': {'spInd': 0, 'spVal': 0.061219, 'left': -15.160836, 'right': {'spInd': 0, 'spVal': 0.044737, 'left': {'spInd': 0, 'spVal': 0.053764, 'left': 1.7820349999999998, 'right': -13.731698}, 'right': 4.091626}}}}}}}}}}}\n"
     ]
    }
   ],
   "source": [
    "myTree = createTree(myMat2,ops=(0,1))\n",
    "myDatTest = loadDataSet('../data/RegressionTree/ex2test.txt')\n",
    "myMat2Test = np.mat(myDatTest)\n",
    "print(prune(myTree,myMat2Test))"
   ]
  },
  {
   "cell_type": "markdown",
   "id": "10ca5c3f-902b-4b3c-85f4-701512a56965",
   "metadata": {},
   "source": [
    "虽然已经剪掉了大量节点，但并没到达预期的剪枝成两部分，这说明**后剪枝不如预剪枝有效，一般的为了寻求最佳模型，可以同时使用两种剪枝技术**"
   ]
  },
  {
   "cell_type": "markdown",
   "id": "2c7b10ce-9f32-4111-b969-db5325560dbc",
   "metadata": {},
   "source": [
    "# 模型树\n",
    "用树来对数据建模，除了把叶节点简单设定为常数值之外，另一种方法是将叶节点设为分段线性函数（piecewise linear）指模型由多个先行片段组成。\n",
    "\n",
    "利用树生成算法将数据切分，每份数据都可以很容易的用线性模型表示。"
   ]
  },
  {
   "cell_type": "code",
   "execution_count": 14,
   "id": "dac3c23b-21fb-421a-ad85-b41bb20488dd",
   "metadata": {},
   "outputs": [],
   "source": [
    "def linearSlove(dataSet):\n",
    "    # 处理数据\n",
    "    m,n = np.shape(dataSet)\n",
    "    X = np.mat(np.ones((m,n)))\n",
    "    Y = np.mat(np.ones((m,1)))\n",
    "    X[:,1:n] = dataSet[:,0:n-1]\n",
    "    Y = dataSet[:,-1]\n",
    "    \n",
    "    xTx = X.T*X\n",
    "    if np.linalg.det(xTx) == 0.0:\n",
    "        print('this matrix is singular!')\n",
    "    \n",
    "    ws = xTx.I *(X.T*Y)\n",
    "    return ws,X,Y\n",
    "\n",
    "def modelLeaf(dataSet):\n",
    "    ws,X,Y = linearSlove(dataSet)\n",
    "    return ws\n",
    "\n",
    "def modelErr(dataSet):\n",
    "    ws,X,Y = linearSlove(dataSet)\n",
    "    yHat = X*ws\n",
    "    return np.sum(np.power(Y-yHat,2))"
   ]
  },
  {
   "cell_type": "code",
   "execution_count": 15,
   "id": "80da1697-dcd9-416e-ab78-12ec2cc8b6c6",
   "metadata": {},
   "outputs": [],
   "source": [
    "myMat2 = np.mat(loadDataSet('../data/RegressionTree/exp2.txt'))"
   ]
  },
  {
   "cell_type": "code",
   "execution_count": 16,
   "id": "b4c92ba1-21db-4158-80df-2736ddc71994",
   "metadata": {},
   "outputs": [
    {
     "data": {
      "text/plain": [
       "{'spInd': 0,\n",
       " 'spVal': 0.285477,\n",
       " 'left': matrix([[1.69855694e-03],\n",
       "         [1.19647739e+01]]),\n",
       " 'right': matrix([[3.46877936],\n",
       "         [1.18521743]])}"
      ]
     },
     "execution_count": 16,
     "metadata": {},
     "output_type": "execute_result"
    }
   ],
   "source": [
    "createTree(myMat2,modelLeaf,modelErr)"
   ]
  },
  {
   "cell_type": "markdown",
   "id": "b5e55212-c887-4514-89f0-37e8eb03125a",
   "metadata": {},
   "source": [
    "# 树回归和标准回归比较"
   ]
  },
  {
   "cell_type": "code",
   "execution_count": 17,
   "id": "6d6bf569-01b1-4717-921c-084ce0e0b9a6",
   "metadata": {},
   "outputs": [],
   "source": [
    "def regTreeEval(model,inDat):\n",
    "    return float(model)\n",
    "\n",
    "def modelTreeEval(model,inDat):\n",
    "    n = np.shape(inDat)[1]\n",
    "    X = np.mat(np.ones((1,n+1)))\n",
    "    X[:,1:n+1] = inDat\n",
    "    return float(X*model)\n",
    "\n",
    "def treeForeCast(tree,inData,modelEval = regTreeEval):\n",
    "    if not isTree(tree):\n",
    "        return modelEval(tree,inData)\n",
    "    if inData[tree['spInd']] > tree['spVal']:\n",
    "        if isTree(tree['left']):\n",
    "            return treeForeCast(tree['left'],inData,modelEval)\n",
    "        else:\n",
    "            return modelEval(tree['left'],inData)\n",
    "    else:\n",
    "        if isTree(tree['right']):\n",
    "            return treeForeCast(tree['right'],inData,modelEval)\n",
    "        else:\n",
    "            return modelEval(tree['right'],inData)\n",
    "def createForeCast(tree,testData,modelEval = regTreeEval):\n",
    "    m = len(testData)\n",
    "    yHat = np.mat(np.zeros((m,1)))\n",
    "    for i in range(m):\n",
    "        yHat[i,0] = treeForeCast(tree,np.mat(testData[i]),modelEval)\n",
    "    return yHat"
   ]
  },
  {
   "cell_type": "code",
   "execution_count": 18,
   "id": "1879ae68-2909-49c0-8e0d-06100281609b",
   "metadata": {},
   "outputs": [
    {
     "data": {
      "text/plain": [
       "0.9640852318222141"
      ]
     },
     "execution_count": 18,
     "metadata": {},
     "output_type": "execute_result"
    }
   ],
   "source": [
    "# 创建回归树并测试效果\n",
    "trainMat = np.mat(loadDataSet('../data/RegressionTree/bikeSpeedVsIq_train.txt'))\n",
    "testMat = np.mat(loadDataSet('../data/RegressionTree/bikeSpeedVsIq_test.txt'))\n",
    "myTree = createTree(trainMat,ops=(1,20))\n",
    "yHat = createForeCast(myTree,testMat[:,0],regTreeEval)\n",
    "np.corrcoef(yHat,testMat[:,1],rowvar=0)[0,1]"
   ]
  },
  {
   "cell_type": "code",
   "execution_count": 19,
   "id": "98e3e2e5-526e-426a-83a4-e8bac9968d80",
   "metadata": {},
   "outputs": [
    {
     "data": {
      "text/plain": [
       "0.9760412191380593"
      ]
     },
     "execution_count": 19,
     "metadata": {},
     "output_type": "execute_result"
    }
   ],
   "source": [
    "# 创建并测试模型树\n",
    "myTree = createTree(trainMat,modelLeaf,modelErr,(1,20))\n",
    "yHat = createForeCast(myTree,testMat[:,0],modelTreeEval)\n",
    "np.corrcoef(yHat,testMat[:,1],rowvar=0)[0,1]"
   ]
  },
  {
   "cell_type": "markdown",
   "id": "97d60404-c0ba-4404-a49a-a45ed76982a5",
   "metadata": {},
   "source": [
    "$R^2$越接近1.0越好,从上面可以看出模型树的结果比回归树好。下面是标准线性回归的结果"
   ]
  },
  {
   "cell_type": "code",
   "execution_count": 20,
   "id": "dafceefe-7e82-4ab3-8440-2c19555f47ba",
   "metadata": {},
   "outputs": [
    {
     "data": {
      "text/plain": [
       "matrix([[37.58916794],\n",
       "        [ 6.18978355]])"
      ]
     },
     "execution_count": 20,
     "metadata": {},
     "output_type": "execute_result"
    }
   ],
   "source": [
    "# 创建并测试线性模型\n",
    "ws,X,Y = linearSlove(trainMat)\n",
    "ws"
   ]
  },
  {
   "cell_type": "code",
   "execution_count": 21,
   "id": "b95b3242-0d40-4ad4-ae6e-e6203ea3ad20",
   "metadata": {},
   "outputs": [
    {
     "data": {
      "text/plain": [
       "0.9434684235674763"
      ]
     },
     "execution_count": 21,
     "metadata": {},
     "output_type": "execute_result"
    }
   ],
   "source": [
    "for i in range(np.shape(testMat)[0]):\n",
    "    yHat[i] = testMat[i,0]*ws[1,0]+ws[0,0]\n",
    "np.corrcoef(yHat,testMat[:,1],rowvar=0)[0,1]"
   ]
  },
  {
   "cell_type": "code",
   "execution_count": null,
   "id": "ec743975-2da0-476c-abd3-04e0af211f08",
   "metadata": {},
   "outputs": [],
   "source": []
  }
 ],
 "metadata": {
  "kernelspec": {
   "display_name": "Python [conda env:ML] *",
   "language": "python",
   "name": "conda-env-ML-py"
  },
  "language_info": {
   "codemirror_mode": {
    "name": "ipython",
    "version": 3
   },
   "file_extension": ".py",
   "mimetype": "text/x-python",
   "name": "python",
   "nbconvert_exporter": "python",
   "pygments_lexer": "ipython3",
   "version": "3.6.13"
  }
 },
 "nbformat": 4,
 "nbformat_minor": 5
}
