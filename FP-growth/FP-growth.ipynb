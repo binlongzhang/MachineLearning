{
 "cells": [
  {
   "cell_type": "markdown",
   "id": "572953f5-4ab6-4bb7-a350-293729a563f7",
   "metadata": {},
   "source": [
    "# FP-growth\n",
    "- FP-growth算法\n",
    "    - 优点：快于Apriori\n",
    "    - 缺点：实现比较困难，在某些数据集上性能下降\n",
    "    - 适用数据类型：标称型\n",
    "- FP-growth算法将数据存储在一种称为FP树的紧凑数据结构中\n",
    "    - FP树存储项集出现的频率，每个项集以路径的方式存储在树中\n",
    "    - 相似元素的集合共享树的一部分\n",
    "    - 一个FP树对应一个最小支持度，小于最小支持度\n",
    "    - 构建FP树需要对数据做两遍扫描，第一次统计出现的频率，第二次只考虑那些频繁元素"
   ]
  },
  {
   "cell_type": "markdown",
   "id": "d85a2efb-0b94-40f7-9c9a-e9055bb51a3c",
   "metadata": {},
   "source": [
    "## 构建FP树"
   ]
  },
  {
   "cell_type": "code",
   "execution_count": 1,
   "id": "679e9d40-a72b-4ba0-956d-11bb5046062d",
   "metadata": {},
   "outputs": [],
   "source": [
    "class treeNode:\n",
    "    def __init__(self,nameValue,numOccur,parentNode):\n",
    "        self.name = nameValue\n",
    "        self.count = numOccur\n",
    "        self.nodeLink = None\n",
    "        self.parent = parentNode\n",
    "        self.children = {}\n",
    "        \n",
    "    def inc(self,numOccur):\n",
    "        self.count += numOccur\n",
    "    \n",
    "    def disp(self,ind=1):\n",
    "        print('  '*ind,self.name,'  ',self.count)\n",
    "        for child in self.children.values():\n",
    "            child.disp(ind+1)       "
   ]
  },
  {
   "cell_type": "code",
   "execution_count": 2,
   "id": "841d98b2-5bfe-4105-87e4-7d7c56f6ba83",
   "metadata": {},
   "outputs": [
    {
     "name": "stdout",
     "output_type": "stream",
     "text": [
      "   pramid    9\n",
      "     eye    13\n",
      "     phoenix    3\n"
     ]
    }
   ],
   "source": [
    "rootNode = treeNode('pramid',9,None)\n",
    "rootNode.children['eye'] = treeNode('eye',13,None)\n",
    "rootNode.children['phoenix'] = treeNode('phoenix',3,None)\n",
    "\n",
    "rootNode.disp()"
   ]
  },
  {
   "cell_type": "markdown",
   "id": "462cdc03-f16f-4ef2-8a03-eb2bff2cb186",
   "metadata": {},
   "source": [
    "- 除了上述的数据结构之外，还需要一个头指针指向给定类型的第一个实例。利用头指针，可以快速访问FP树中的一个给定类型的所有元素，此外头指针还可以用来保存FP树中每类元素的数目\n",
    "- 第一次遍历数据集挥霍的每个元素项出现的频率，随后去掉不满足最小支持度的元素项，再进一步构建FP树\n",
    "- 构建时，读入每个项集并添加到一条已经存在的路径中。为了方便需要在集合添加到树之前对每个元素排序，排序基于绝对出现频率进行"
   ]
  },
  {
   "cell_type": "code",
   "execution_count": 3,
   "id": "575c9162-72ba-46df-a124-44692279b6fa",
   "metadata": {},
   "outputs": [],
   "source": [
    "def loadSimpDat():\n",
    "    simpDat = [['r', 'z', 'h', 'j', 'p'],\n",
    "               ['z', 'y', 'x', 'w', 'v', 'u', 't', 's'],\n",
    "               ['z'],\n",
    "               ['r', 'x', 'n', 'o', 's'],\n",
    "               ['y', 'r', 'x', 'z', 'q', 't', 'p'],\n",
    "               ['y', 'z', 'x', 'e', 'q', 's', 't', 'm']]\n",
    "    return simpDat\n",
    "\n",
    "def createInitSet(dataSet):\n",
    "    retDict = {}\n",
    "    for trans in dataSet:\n",
    "        retDict[frozenset(trans)] = 1\n",
    "    return retDict"
   ]
  },
  {
   "cell_type": "code",
   "execution_count": 4,
   "id": "25caaa2f-f060-460e-be80-a6015883df45",
   "metadata": {},
   "outputs": [
    {
     "data": {
      "text/plain": [
       "{frozenset({'h', 'j', 'p', 'r', 'z'}): 1,\n",
       " frozenset({'s', 't', 'u', 'v', 'w', 'x', 'y', 'z'}): 1,\n",
       " frozenset({'z'}): 1,\n",
       " frozenset({'n', 'o', 'r', 's', 'x'}): 1,\n",
       " frozenset({'p', 'q', 'r', 't', 'x', 'y', 'z'}): 1,\n",
       " frozenset({'e', 'm', 'q', 's', 't', 'x', 'y', 'z'}): 1}"
      ]
     },
     "execution_count": 4,
     "metadata": {},
     "output_type": "execute_result"
    }
   ],
   "source": [
    "simpDat = loadSimpDat()\n",
    "initSet = createInitSet(simpDat)\n",
    "initSet"
   ]
  },
  {
   "cell_type": "code",
   "execution_count": 5,
   "id": "33cb2e3d-2b64-4558-bc12-f95fc184d849",
   "metadata": {},
   "outputs": [],
   "source": [
    "# 将新的元素挂接到头指针表\n",
    "def updateHeader(nodeToTest,tragetNode):\n",
    "    while (nodeToTest.nodeLink != None):\n",
    "        nodeToTest = nodeToTest.nodeLink\n",
    "    nodeToTest.nodeLink = tragetNode\n",
    "\n",
    "def updateTree(items,inTree,headerTable,count):\n",
    "    # 处理频率最高元素\n",
    "    if items[0] in inTree.children:\n",
    "        inTree.children[items[0]].inc(count)\n",
    "    else:\n",
    "        inTree.children[items[0]] = treeNode(items[0],count,inTree)\n",
    "    \n",
    "        # 链接头指针列表\n",
    "        if headerTable[items[0]][1] == None:\n",
    "            headerTable[items[0]][1] = inTree.children[items[0]]\n",
    "        else:\n",
    "            updateHeader(headerTable[items[0]][1],inTree.children[items[0]])\n",
    "        \n",
    "    # 对剩下的元素迭代更新\n",
    "    if len(items)>1:\n",
    "        updateTree(items[1::],inTree.children[items[0]],headerTable,count)"
   ]
  },
  {
   "cell_type": "code",
   "execution_count": 6,
   "id": "8618824c-6d04-4e32-a1d6-4ef50fa039de",
   "metadata": {},
   "outputs": [],
   "source": [
    "def createTree(dataSet,minSup=1):\n",
    "    # 初始化元素频率集合\n",
    "    headerTable = {}\n",
    "    for trans in dataSet:\n",
    "        for item in trans:\n",
    "            headerTable[item] = headerTable.get(item,0) + dataSet[trans]\n",
    "    # 筛选不满足条件的\n",
    "    for k in list(headerTable.keys()):\n",
    "        if headerTable[k] < minSup:\n",
    "            del(headerTable[k])\n",
    "    freqItemSet = set(headerTable.keys())\n",
    "    if len(freqItemSet) == 0: \n",
    "        return None, None\n",
    "    \n",
    "    # 修正头指针表\n",
    "    for k in headerTable:\n",
    "        headerTable[k] = [headerTable[k],None]\n",
    "\n",
    "\n",
    "    retTree = treeNode('Null Set',1,None)\n",
    "    for tranSet,count in dataSet.items():\n",
    "        localD = {}\n",
    "        for item in tranSet:\n",
    "            if item in freqItemSet:\n",
    "                localD[item] = headerTable[item][0]\n",
    "        if len(localD) > 0:#这里改成大于minSup也等价\n",
    "            orderedItems = [v[0] for v in sorted(localD.items(),key=lambda  p:p[1],reverse=True)]\n",
    "            updateTree(orderedItems,retTree,headerTable,count)            \n",
    "    return retTree,headerTable\n"
   ]
  },
  {
   "cell_type": "code",
   "execution_count": 7,
   "id": "0520cff6-7d81-43d7-b407-8ca46b5fcf55",
   "metadata": {},
   "outputs": [
    {
     "data": {
      "text/plain": [
       "{frozenset({'h', 'j', 'p', 'r', 'z'}): 1,\n",
       " frozenset({'s', 't', 'u', 'v', 'w', 'x', 'y', 'z'}): 1,\n",
       " frozenset({'z'}): 1,\n",
       " frozenset({'n', 'o', 'r', 's', 'x'}): 1,\n",
       " frozenset({'p', 'q', 'r', 't', 'x', 'y', 'z'}): 1,\n",
       " frozenset({'e', 'm', 'q', 's', 't', 'x', 'y', 'z'}): 1}"
      ]
     },
     "execution_count": 7,
     "metadata": {},
     "output_type": "execute_result"
    }
   ],
   "source": [
    "initSet"
   ]
  },
  {
   "cell_type": "code",
   "execution_count": 8,
   "id": "e2a7a9a7-bea6-49a8-99c9-2f99137e32d0",
   "metadata": {},
   "outputs": [],
   "source": [
    "myFPtree,myHeaderTab = createTree(initSet,3)"
   ]
  },
  {
   "cell_type": "code",
   "execution_count": 9,
   "id": "ecd7e59f-266e-422e-b9e6-122ec3d181c5",
   "metadata": {},
   "outputs": [
    {
     "name": "stdout",
     "output_type": "stream",
     "text": [
      "   Null Set    1\n",
      "     z    5\n",
      "       r    1\n",
      "       x    3\n",
      "         t    3\n",
      "           y    3\n",
      "             s    2\n",
      "             r    1\n",
      "     x    1\n",
      "       s    1\n",
      "         r    1\n"
     ]
    }
   ],
   "source": [
    "myFPtree.disp()"
   ]
  },
  {
   "cell_type": "markdown",
   "id": "6106e76e-3978-4fbe-b3c9-cdb709f41b8a",
   "metadata": {},
   "source": [
    "# 从FP树中挖掘频繁项集\n",
    "1. 从FP树中获取条件模式基\n",
    "2. 利用条件模式基构建一个条件FP树\n",
    "3. 迭代直到树只有一个元素"
   ]
  },
  {
   "cell_type": "markdown",
   "id": "d94b45f4-837c-4ea5-b4e1-23207d44ead6",
   "metadata": {},
   "source": [
    "## 抽取条件模式基\n",
    "- 对于头指针表仲每个频繁单个元素项，获得对应的**条件模式基**（conditional pattern base）\n",
    "- 条件模式基是以查找元素为结尾的路径集合，每一条路径其实都是一条**前缀路径**（prefix path）\n",
    "- 可以通过穷举搜索得到前缀路径，也可以使用更有效的方法加速搜索过程（利用头指针包含想同类型元素链表的启事指针，一旦达到了某一个元素项，就可以上溯到这棵树的根节点为止）\n"
   ]
  },
  {
   "cell_type": "code",
   "execution_count": 10,
   "id": "09f2752d-2d39-44f0-a300-6a7fd13a0bef",
   "metadata": {},
   "outputs": [],
   "source": [
    "# 发现给顶元素项结尾的所有路径函数\n",
    "\n",
    "# 迭代向上回溯整个树\n",
    "def ascendTree(leafNode,prefixPath):\n",
    "    if leafNode.parent != None:\n",
    "        prefixPath.append(leafNode.name)\n",
    "        ascendTree(leafNode.parent,prefixPath)\n",
    "        \n",
    "def findPrefixPath(basePat,treeNode):\n",
    "    condPats = {}\n",
    "    while treeNode != None:\n",
    "        prefixPath = []\n",
    "        ascendTree(treeNode,prefixPath)\n",
    "        if len(prefixPath)>1:\n",
    "            condPats[frozenset(prefixPath[1::])] = treeNode.count\n",
    "        treeNode = treeNode.nodeLink\n",
    "    return condPats"
   ]
  },
  {
   "cell_type": "code",
   "execution_count": 11,
   "id": "61dcf67a-be83-4321-b9e5-cfd10269a04a",
   "metadata": {},
   "outputs": [
    {
     "data": {
      "text/plain": [
       "{frozenset({'z'}): 3}"
      ]
     },
     "execution_count": 11,
     "metadata": {},
     "output_type": "execute_result"
    }
   ],
   "source": [
    "findPrefixPath('x',myHeaderTab['x'][1])"
   ]
  },
  {
   "cell_type": "code",
   "execution_count": 12,
   "id": "43102909-54d3-4311-b265-425d3a0b9c8b",
   "metadata": {},
   "outputs": [
    {
     "data": {
      "text/plain": [
       "{}"
      ]
     },
     "execution_count": 12,
     "metadata": {},
     "output_type": "execute_result"
    }
   ],
   "source": [
    "findPrefixPath('z',myHeaderTab['z'][1])"
   ]
  },
  {
   "cell_type": "code",
   "execution_count": 13,
   "id": "b4a1c262-160d-442e-a6fe-4c80e923b869",
   "metadata": {},
   "outputs": [
    {
     "data": {
      "text/plain": [
       "{frozenset({'z'}): 1,\n",
       " frozenset({'s', 'x'}): 1,\n",
       " frozenset({'t', 'x', 'y', 'z'}): 1}"
      ]
     },
     "execution_count": 13,
     "metadata": {},
     "output_type": "execute_result"
    }
   ],
   "source": [
    "findPrefixPath('r',myHeaderTab['r'][1])"
   ]
  },
  {
   "cell_type": "markdown",
   "id": "20aec3d6-2258-4a93-9f17-cbe879344474",
   "metadata": {},
   "source": [
    "## 创建条件FP树\n",
    "- 对于每一个频繁项，创建一个条件FP树\n",
    "- 使用条件模式基作为输入，并构建对应的树"
   ]
  },
  {
   "cell_type": "code",
   "execution_count": 14,
   "id": "f9f8fe0f-80af-4a30-a412-d611be6b1c21",
   "metadata": {},
   "outputs": [],
   "source": [
    "def mineTree(inTree,headerTable,minSup,preFix,freqitemList):\n",
    "    bigL = [v[0] for v in sorted(headerTable.items(),key=lambda p:p[0])]\n",
    "    \n",
    "    for basePat in bigL:\n",
    "        newFreqSet = preFix.copy()\n",
    "        newFreqSet.add(basePat)\n",
    "        freqitemList.append(newFreqSet)\n",
    "        condPattBases = findPrefixPath(basePat,headerTable[basePat][1])\n",
    "        myCondTree,myHead = createTree(condPattBases,minSup)\n",
    "        \n",
    "        if myHead != None:\n",
    "            print('conditional tree for :',newFreqSet)\n",
    "            myCondTree.disp()\n",
    "            mineTree(myCondTree,myHead,minSup,newFreqSet,freqitemList)\n",
    "        "
   ]
  },
  {
   "cell_type": "code",
   "execution_count": 15,
   "id": "1d2da5f2-86c0-4e11-87c2-ab18388d4211",
   "metadata": {},
   "outputs": [],
   "source": [
    "freqItems = []"
   ]
  },
  {
   "cell_type": "code",
   "execution_count": 16,
   "id": "9c1afc4b-3ca0-457e-9c38-45246371a940",
   "metadata": {},
   "outputs": [
    {
     "name": "stdout",
     "output_type": "stream",
     "text": [
      "conditional tree for : {'s'}\n",
      "   Null Set    1\n",
      "     x    3\n",
      "conditional tree for : {'t'}\n",
      "   Null Set    1\n",
      "     z    3\n",
      "       x    3\n",
      "conditional tree for : {'t', 'x'}\n",
      "   Null Set    1\n",
      "     z    3\n",
      "conditional tree for : {'x'}\n",
      "   Null Set    1\n",
      "     z    3\n",
      "conditional tree for : {'y'}\n",
      "   Null Set    1\n",
      "     t    3\n",
      "       z    3\n",
      "         x    3\n",
      "conditional tree for : {'y', 'x'}\n",
      "   Null Set    1\n",
      "     t    3\n",
      "       z    3\n",
      "conditional tree for : {'z', 'y', 'x'}\n",
      "   Null Set    1\n",
      "     t    3\n",
      "conditional tree for : {'z', 'y'}\n",
      "   Null Set    1\n",
      "     t    3\n"
     ]
    }
   ],
   "source": [
    "mineTree(myFPtree,myHeaderTab,3,set([]),freqItems)"
   ]
  },
  {
   "cell_type": "code",
   "execution_count": 17,
   "id": "5ff1dc9d-35da-4758-baa8-f0749606a22b",
   "metadata": {},
   "outputs": [
    {
     "data": {
      "text/plain": [
       "[{'r'},\n",
       " {'s'},\n",
       " {'s', 'x'},\n",
       " {'t'},\n",
       " {'t', 'x'},\n",
       " {'t', 'x', 'z'},\n",
       " {'t', 'z'},\n",
       " {'x'},\n",
       " {'x', 'z'},\n",
       " {'y'},\n",
       " {'t', 'y'},\n",
       " {'x', 'y'},\n",
       " {'t', 'x', 'y'},\n",
       " {'x', 'y', 'z'},\n",
       " {'t', 'x', 'y', 'z'},\n",
       " {'y', 'z'},\n",
       " {'t', 'y', 'z'},\n",
       " {'z'}]"
      ]
     },
     "execution_count": 17,
     "metadata": {},
     "output_type": "execute_result"
    }
   ],
   "source": [
    "freqItems"
   ]
  },
  {
   "cell_type": "markdown",
   "id": "d47965a3-7c7b-4335-b0fe-75e2f477e3a6",
   "metadata": {},
   "source": [
    "# e.g. 从新闻网站点击流中挖掘"
   ]
  },
  {
   "cell_type": "code",
   "execution_count": 18,
   "id": "d780b6fb-0724-46e6-9510-09cda13f29a5",
   "metadata": {},
   "outputs": [],
   "source": [
    "parsedDat = [line.split() for line in open('../data/FP_growth/kosarak.dat').readlines()]"
   ]
  },
  {
   "cell_type": "code",
   "execution_count": 19,
   "id": "c6af3d15-23f0-4e90-822f-d4f674905cbf",
   "metadata": {},
   "outputs": [],
   "source": [
    "initSet = createInitSet(parsedDat)"
   ]
  },
  {
   "cell_type": "code",
   "execution_count": 20,
   "id": "dbfbbf4e-4daa-4e8e-a815-f795169bf4d0",
   "metadata": {},
   "outputs": [],
   "source": [
    "myFPtree,myHeaderTab = createTree(initSet,100000)"
   ]
  },
  {
   "cell_type": "code",
   "execution_count": 21,
   "id": "88641a63-377f-41bc-a073-d6aec2b7736b",
   "metadata": {},
   "outputs": [
    {
     "name": "stdout",
     "output_type": "stream",
     "text": [
      "conditional tree for : {'1'}\n",
      "   Null Set    1\n",
      "     6    107404\n",
      "conditional tree for : {'11'}\n",
      "   Null Set    1\n",
      "     6    261773\n",
      "conditional tree for : {'3'}\n",
      "   Null Set    1\n",
      "     6    186289\n",
      "       11    117401\n",
      "     11    9718\n",
      "conditional tree for : {'3', '11'}\n",
      "   Null Set    1\n",
      "     6    117401\n"
     ]
    }
   ],
   "source": [
    "myFreqList = []\n",
    "mineTree(myFPtree,myHeaderTab,100000,set([]),myFreqList)"
   ]
  },
  {
   "cell_type": "code",
   "execution_count": 22,
   "id": "392122e0-6863-4120-893e-f7f5ff80e797",
   "metadata": {},
   "outputs": [
    {
     "data": {
      "text/plain": [
       "[{'1'},\n",
       " {'1', '6'},\n",
       " {'11'},\n",
       " {'11', '6'},\n",
       " {'3'},\n",
       " {'11', '3'},\n",
       " {'11', '3', '6'},\n",
       " {'3', '6'},\n",
       " {'6'}]"
      ]
     },
     "execution_count": 22,
     "metadata": {},
     "output_type": "execute_result"
    }
   ],
   "source": [
    "myFreqList"
   ]
  },
  {
   "cell_type": "code",
   "execution_count": null,
   "id": "25841257-0490-46ec-8799-af84f55252a3",
   "metadata": {},
   "outputs": [],
   "source": []
  }
 ],
 "metadata": {
  "kernelspec": {
   "display_name": "Python [conda env:ML] *",
   "language": "python",
   "name": "conda-env-ML-py"
  },
  "language_info": {
   "codemirror_mode": {
    "name": "ipython",
    "version": 3
   },
   "file_extension": ".py",
   "mimetype": "text/x-python",
   "name": "python",
   "nbconvert_exporter": "python",
   "pygments_lexer": "ipython3",
   "version": "3.6.13"
  }
 },
 "nbformat": 4,
 "nbformat_minor": 5
}
