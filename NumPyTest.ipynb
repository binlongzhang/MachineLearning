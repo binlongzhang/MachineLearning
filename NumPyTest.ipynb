{
 "cells": [
  {
   "cell_type": "markdown",
   "id": "ce8026cc",
   "metadata": {},
   "source": [
    "# Simple NumPy Test"
   ]
  },
  {
   "cell_type": "code",
   "execution_count": 1,
   "id": "65a7a06c-6719-48e0-8a87-3b562a4c9a92",
   "metadata": {},
   "outputs": [],
   "source": [
    "from numpy import *"
   ]
  },
  {
   "cell_type": "markdown",
   "id": "0f6f5db3-17a6-4582-8386-33c3a0bc80d1",
   "metadata": {
    "tags": []
   },
   "source": [
    "## 数据类型\n",
    "numpy中提供两种不同的数据类型,array和matrix,二者数学运算方式有所不同"
   ]
  },
  {
   "cell_type": "code",
   "execution_count": 2,
   "id": "b279a3d5-e803-4692-a72f-b2ef469f611c",
   "metadata": {},
   "outputs": [
    {
     "data": {
      "text/plain": [
       "array([[0.54086119, 0.46367117, 0.24242012, 0.4788656 ],\n",
       "       [0.28019174, 0.27478699, 0.35500738, 0.12827488],\n",
       "       [0.16359084, 0.51270133, 0.49518044, 0.72836616],\n",
       "       [0.45200996, 0.52879062, 0.57064944, 0.50138251]])"
      ]
     },
     "execution_count": 2,
     "metadata": {},
     "output_type": "execute_result"
    }
   ],
   "source": [
    "randArray = random.rand(4,4)\n",
    "randArray"
   ]
  },
  {
   "cell_type": "code",
   "execution_count": 4,
   "id": "41e4b7eb-59b2-47da-9a39-3f2f4aeb863e",
   "metadata": {},
   "outputs": [
    {
     "data": {
      "text/plain": [
       "matrix([[0.54086119, 0.46367117, 0.24242012, 0.4788656 ],\n",
       "        [0.28019174, 0.27478699, 0.35500738, 0.12827488],\n",
       "        [0.16359084, 0.51270133, 0.49518044, 0.72836616],\n",
       "        [0.45200996, 0.52879062, 0.57064944, 0.50138251]])"
      ]
     },
     "execution_count": 4,
     "metadata": {},
     "output_type": "execute_result"
    }
   ],
   "source": [
    "randMat = mat(randArray)\n",
    "randMat"
   ]
  },
  {
   "cell_type": "markdown",
   "id": "d6243d11-7cda-4b28-8e95-697469632406",
   "metadata": {},
   "source": [
    "## 矩阵求逆\n"
   ]
  },
  {
   "cell_type": "code",
   "execution_count": 13,
   "id": "2bf5af5e-8548-4ca6-8e31-e82b7a8facbe",
   "metadata": {},
   "outputs": [
    {
     "data": {
      "text/plain": [
       "matrix([[ -1.27569102, -11.85706652,  -6.26771719,  13.35715011],\n",
       "        [  8.98636521,  34.6632819 ,  13.55774061, -37.14666673],\n",
       "        [ -4.99344103,  -9.01609721,  -4.11442791,  13.0529802 ],\n",
       "        [ -2.64424108, -15.60699683,  -3.96551416,  14.2736692 ]])"
      ]
     },
     "execution_count": 13,
     "metadata": {},
     "output_type": "execute_result"
    }
   ],
   "source": [
    "invRandMat = randMat.I\n",
    "invRandMat"
   ]
  },
  {
   "cell_type": "code",
   "execution_count": 9,
   "id": "6e393397-668e-4364-93be-a84f7dabfd7e",
   "metadata": {},
   "outputs": [
    {
     "data": {
      "text/plain": [
       "matrix([[ 1.00000000e+00,  1.77635684e-15,  8.88178420e-16,\n",
       "          0.00000000e+00],\n",
       "        [-4.44089210e-16,  1.00000000e+00,  0.00000000e+00,\n",
       "          0.00000000e+00],\n",
       "        [ 4.44089210e-16,  0.00000000e+00,  1.00000000e+00,\n",
       "          0.00000000e+00],\n",
       "        [ 0.00000000e+00, -1.77635684e-15,  0.00000000e+00,\n",
       "          1.00000000e+00]])"
      ]
     },
     "execution_count": 9,
     "metadata": {},
     "output_type": "execute_result"
    }
   ],
   "source": [
    "randMat*invRandMat"
   ]
  },
  {
   "cell_type": "markdown",
   "id": "a33e0bb4-f30e-4ce2-b336-d0ece09ef882",
   "metadata": {},
   "source": [
    "实际上,这里应该是单位矩阵,然而由于计算机计算误差,因此实际输出非对角线元素只是尽可能小\n",
    "\n",
    "我们可以计算产生的误差"
   ]
  },
  {
   "cell_type": "code",
   "execution_count": 12,
   "id": "7ac5f289-8e59-4911-b974-1d8cb7745459",
   "metadata": {},
   "outputs": [
    {
     "data": {
      "text/plain": [
       "matrix([[ 2.22044605e-16,  1.77635684e-15,  8.88178420e-16,\n",
       "          0.00000000e+00],\n",
       "        [-4.44089210e-16, -8.88178420e-16,  0.00000000e+00,\n",
       "          0.00000000e+00],\n",
       "        [ 4.44089210e-16,  0.00000000e+00,  4.44089210e-16,\n",
       "          0.00000000e+00],\n",
       "        [ 0.00000000e+00, -1.77635684e-15,  0.00000000e+00,\n",
       "          1.77635684e-15]])"
      ]
     },
     "execution_count": 12,
     "metadata": {},
     "output_type": "execute_result"
    }
   ],
   "source": [
    "myEye = randMat*invRandMat\n",
    "myEye - eye(4)"
   ]
  },
  {
   "cell_type": "code",
   "execution_count": null,
   "id": "d0f2bb22-625f-4354-9f70-c8d6d682c290",
   "metadata": {},
   "outputs": [],
   "source": []
  }
 ],
 "metadata": {
  "kernelspec": {
   "display_name": "Python [conda env:ML]",
   "language": "python",
   "name": "conda-env-ML-py"
  },
  "language_info": {
   "codemirror_mode": {
    "name": "ipython",
    "version": 3
   },
   "file_extension": ".py",
   "mimetype": "text/x-python",
   "name": "python",
   "nbconvert_exporter": "python",
   "pygments_lexer": "ipython3",
   "version": "3.6.13"
  }
 },
 "nbformat": 4,
 "nbformat_minor": 5
}
