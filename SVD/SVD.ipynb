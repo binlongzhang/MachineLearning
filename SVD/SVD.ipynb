{
 "cells": [
  {
   "cell_type": "markdown",
   "id": "d52d95de-3816-4621-a128-a76e75f85a9c",
   "metadata": {},
   "source": [
    "# SVD\n",
    "- 应用\n",
    "    - 隐性语义索引（Latent Semantic Indexing,LSI）或 隐性语义分析（Latent Semantic Analysis,LSA）\n",
    "        - 利用SVD构建出多个奇异值，代表文档的概念或潜在语义，概念\n",
    "    - 推荐系统\n",
    "        - 利用SVD从数据中构建一个主题空间，然后再该空间下计算相似度\n",
    "        \n",
    "- 矩阵分解\n",
    "    - 不同的矩阵分解技术有不同的性质，其中有些更适合与某个应用，其中一种最常见的技术就是SVD\n",
    "    - SVD可以表示为：$Data_{m\\times n} = U_{m \\times n} \\Sigma_{m\\times n} V^T_{m\\times n}$ "
   ]
  },
  {
   "cell_type": "code",
   "execution_count": 1,
   "id": "68214998-ed2a-4ad2-a949-72142b6dea17",
   "metadata": {},
   "outputs": [
    {
     "name": "stdout",
     "output_type": "stream",
     "text": [
      "[[-0.14142136 -0.98994949]\n",
      " [-0.98994949  0.14142136]] \n",
      "\n",
      "[1.00000000e+01 2.82797782e-16] \n",
      "\n",
      "[[-0.70710678 -0.70710678]\n",
      " [ 0.70710678 -0.70710678]] \n",
      "\n"
     ]
    }
   ],
   "source": [
    "import numpy as np\n",
    "U,Sigma,VT = np.linalg.svd([[1,1],[7,7]])\n",
    "print(U,'\\n')\n",
    "# 这里的sigma实际上是矩阵，但是由于是对角阵为了方便保存，因此以向量的形式返回\n",
    "print(Sigma,'\\n')\n",
    "print(VT,'\\n')"
   ]
  },
  {
   "cell_type": "code",
   "execution_count": 2,
   "id": "51fcc85a-aea8-43fc-bead-d5bc29362767",
   "metadata": {},
   "outputs": [
    {
     "data": {
      "text/plain": [
       "array([9.72140007e+00, 5.29397912e+00, 6.84226362e-01, 4.11502614e-16,\n",
       "       1.36030206e-16])"
      ]
     },
     "execution_count": 2,
     "metadata": {},
     "output_type": "execute_result"
    }
   ],
   "source": [
    "def loadExData():\n",
    "    return[[1, 1, 1, 0, 0],\n",
    "           [2, 2, 2, 0, 0],\n",
    "           [1, 1, 1, 0, 0],\n",
    "           [5, 5, 5, 0, 0],\n",
    "           [1, 1, 0, 2, 2],\n",
    "           [0, 0, 0, 3, 3],\n",
    "           [0, 0, 0, 1, 1]]\n",
    "\n",
    "Data = loadExData()\n",
    "U,Sigma,VT = np.linalg.svd(Data)\n",
    "Sigma"
   ]
  },
  {
   "cell_type": "code",
   "execution_count": 3,
   "id": "fee81b65-85ff-43ec-90a6-daa3e06f937c",
   "metadata": {},
   "outputs": [
    {
     "data": {
      "text/plain": [
       "matrix([[9.72140007, 0.        , 0.        ],\n",
       "        [0.        , 5.29397912, 0.        ],\n",
       "        [0.        , 0.        , 0.68422636]])"
      ]
     },
     "execution_count": 3,
     "metadata": {},
     "output_type": "execute_result"
    }
   ],
   "source": [
    "# 重构原始矩阵\n",
    "Sig3 = np.mat([[Sigma[0],0,0],[0,Sigma[1],0],[0,0,Sigma[2]]])\n",
    "Sig3"
   ]
  },
  {
   "cell_type": "code",
   "execution_count": 4,
   "id": "7b74d7ad-4336-42f4-9bf2-60c915943bac",
   "metadata": {},
   "outputs": [
    {
     "data": {
      "text/plain": [
       "matrix([[ 1.00000000e+00,  1.00000000e+00,  1.00000000e+00,\n",
       "          7.75989921e-16,  7.71587483e-16],\n",
       "        [ 2.00000000e+00,  2.00000000e+00,  2.00000000e+00,\n",
       "          3.00514919e-16,  2.77832253e-16],\n",
       "        [ 1.00000000e+00,  1.00000000e+00,  1.00000000e+00,\n",
       "          2.18975112e-16,  2.07633779e-16],\n",
       "        [ 5.00000000e+00,  5.00000000e+00,  5.00000000e+00,\n",
       "          3.00675663e-17, -1.28697294e-17],\n",
       "        [ 1.00000000e+00,  1.00000000e+00, -5.48397422e-16,\n",
       "          2.00000000e+00,  2.00000000e+00],\n",
       "        [ 3.21319929e-16,  4.43562065e-16, -3.48967188e-16,\n",
       "          3.00000000e+00,  3.00000000e+00],\n",
       "        [ 9.71445147e-17,  1.45716772e-16, -1.52655666e-16,\n",
       "          1.00000000e+00,  1.00000000e+00]])"
      ]
     },
     "execution_count": 4,
     "metadata": {},
     "output_type": "execute_result"
    }
   ],
   "source": [
    "U[:,:3]*Sig3*VT[:3,:]"
   ]
  },
  {
   "cell_type": "markdown",
   "id": "a2eddc50-12ab-4f20-afd4-98373de2a758",
   "metadata": {},
   "source": [
    "如何知道保留几个奇异值呢？确定要保留的奇异值有许多启发策略，其中一个典型做法就是保留矩阵90%的信息，我们将所有奇异值平方求和，并累计到90%"
   ]
  },
  {
   "cell_type": "markdown",
   "id": "7fdc0ba2-ee59-4dde-99c2-74d35ebd122d",
   "metadata": {},
   "source": [
    "# 基于协同过滤的推荐引擎\n",
    "- 协同过滤是通过将用户和其他用户数据对比实现推荐\n",
    "## 相似度计算\n",
    "- 不利用专家给出的重要属性，而是利用用户对他们的意见来计算相似度，这就是协同过滤所使用的方法\n",
    "\n",
    "1. 可以利用欧氏距离计算物品评分之间的相似度\n",
    "2. Pearson correlation计算向量间相似度\n",
    "3. 余弦相似度"
   ]
  },
  {
   "cell_type": "code",
   "execution_count": 5,
   "id": "2a59ba1d-90f0-48bd-9415-5df603d059bd",
   "metadata": {},
   "outputs": [],
   "source": [
    "import numpy as np\n",
    "\n",
    "def ecludSim(inA,inB):\n",
    "    return 1.0/(1.0 + np.linalg.norm(inA-inB))\n",
    "\n",
    "def pearsSim(inA,inB):\n",
    "    if len(inA)<3:\n",
    "        return 1.0\n",
    "    return 0.5+0.5*np.corrcoef(inA,inB,rowvar=0)[0][1]\n",
    "\n",
    "def cosSim(inA,inB):\n",
    "    num = float(inA.T*inB)\n",
    "    denom = np.linalg.norm(inA)*np.linalg.norm(inB)\n",
    "    return 0.5+0.5*(num/denom)\n"
   ]
  },
  {
   "cell_type": "code",
   "execution_count": 6,
   "id": "4b1f91d9-2ffa-4432-8d51-e56f9c263f22",
   "metadata": {},
   "outputs": [
    {
     "name": "stdout",
     "output_type": "stream",
     "text": [
      "0.13367660240019172\n",
      "1.0\n"
     ]
    }
   ],
   "source": [
    "myMat = np.mat(loadExData())\n",
    "print(ecludSim(myMat[:,0],myMat[:,4]))\n",
    "print(ecludSim(myMat[:,0],myMat[:,0]))\n"
   ]
  },
  {
   "cell_type": "code",
   "execution_count": 7,
   "id": "bfa0bab7-f574-40fb-8d20-8dbf10270262",
   "metadata": {},
   "outputs": [
    {
     "name": "stdout",
     "output_type": "stream",
     "text": [
      "0.5472455591261534\n",
      "0.9999999999999999\n"
     ]
    }
   ],
   "source": [
    "print(cosSim(myMat[:,0],myMat[:,4]))\n",
    "print(cosSim(myMat[:,0],myMat[:,0]))"
   ]
  },
  {
   "cell_type": "code",
   "execution_count": 8,
   "id": "fdb3172b-452e-4475-93fe-2d49583ad26f",
   "metadata": {},
   "outputs": [
    {
     "name": "stdout",
     "output_type": "stream",
     "text": [
      "0.23768619407595815\n",
      "1.0\n"
     ]
    }
   ],
   "source": [
    "print(pearsSim(myMat[:,0],myMat[:,4]))\n",
    "print(pearsSim(myMat[:,0],myMat[:,0]))"
   ]
  },
  {
   "cell_type": "markdown",
   "id": "e6f34ec6-6e75-4610-a76b-daa4e009b959",
   "metadata": {},
   "source": [
    "- 基于物品还是基于用户的相似度，实际上用户数目多，基于用户相似度的复杂度会比较高，反之亦然。因此具体如何使用取决于使用场景，用户数量多则倾向于使用物品相似度；物品多则倾向于用户相似度\n",
    "- 另外如何评价推荐引擎呢，由于没有预测目标，因此可以采用交叉验证的方法，最后计算预测值和真实打分之间的差异"
   ]
  },
  {
   "cell_type": "markdown",
   "id": "404e258a-0c94-4bac-95d8-4b42aa3e69cf",
   "metadata": {
    "tags": []
   },
   "source": [
    "# e.g. \n",
    "## 餐馆菜肴推荐引擎"
   ]
  },
  {
   "cell_type": "code",
   "execution_count": 9,
   "id": "cba192f1-2ba7-49a2-8d27-65c2dea7aa11",
   "metadata": {},
   "outputs": [],
   "source": [
    "def standEst(dataMat,user,simMeas,item):\n",
    "    n = np.shape(dataMat)[1]\n",
    "    simTotal = 0.0\n",
    "    ratSimTotal = 0.0\n",
    "    \n",
    "    for j in range(n):\n",
    "        userRating = dataMat[user,j]\n",
    "        # 寻找两个用户都评分的物品\n",
    "        if userRating==0:\n",
    "            continue\n",
    "        overlap = np.nonzero(np.logical_and(dataMat[:,item].A>0,dataMat[:,j].A>0))[0]\n",
    "        if len(overlap)==0:\n",
    "            similarity = 0\n",
    "        else:\n",
    "            similarity = simMeas(dataMat[overlap,item],dataMat[overlap,j])\n",
    "            \n",
    "        # 累计\n",
    "        simTotal += similarity\n",
    "        ratSimTotal += similarity*userRating\n",
    "    \n",
    "    # 相当于对相似度做了加权归一\n",
    "    if simTotal == 0:\n",
    "        return 0\n",
    "    else:\n",
    "        return ratSimTotal/simTotal"
   ]
  },
  {
   "cell_type": "code",
   "execution_count": 10,
   "id": "527a1e14-2e3b-4324-b1c1-41283d83ce5d",
   "metadata": {},
   "outputs": [],
   "source": [
    "def recommend(dataMat,user,N=3,simMeas=cosSim,estMethod=standEst):\n",
    "    unratedItems = np.nonzero(dataMat[user,:].A==0)[1]\n",
    "    if len(unratedItems)==0:\n",
    "        return 'you rated everything'\n",
    "    itemScores = []\n",
    "    for item in unratedItems:\n",
    "        estimatedScore = estMethod(dataMat,user,simMeas,item)\n",
    "        itemScores.append((item,estimatedScore))\n",
    "    return sorted(itemScores,key = lambda jj:jj[1],reverse=True)[:N]"
   ]
  },
  {
   "cell_type": "code",
   "execution_count": 11,
   "id": "56a04aca-597a-47f4-a64b-0ee61fa503c2",
   "metadata": {},
   "outputs": [
    {
     "data": {
      "text/plain": [
       "matrix([[4, 4, 0, 2, 2],\n",
       "        [4, 0, 0, 3, 3],\n",
       "        [4, 0, 0, 1, 1],\n",
       "        [1, 1, 1, 2, 0],\n",
       "        [2, 2, 2, 0, 0],\n",
       "        [1, 1, 1, 0, 0],\n",
       "        [5, 5, 5, 0, 0]])"
      ]
     },
     "execution_count": 11,
     "metadata": {},
     "output_type": "execute_result"
    }
   ],
   "source": [
    "def loadExData():\n",
    "    return[[0, 0, 0, 2, 2],\n",
    "           [0, 0, 0, 3, 3],\n",
    "           [0, 0, 0, 1, 1],\n",
    "           [1, 1, 1, 0, 0],\n",
    "           [2, 2, 2, 0, 0],\n",
    "           [1, 1, 1, 0, 0],\n",
    "           [5, 5, 5, 0, 0]]\n",
    "\n",
    "myMat = np.mat(loadExData())\n",
    "myMat[0,1]=myMat[0,0]=myMat[1,0]=myMat[2,0]=4\n",
    "myMat[3,3] = 2\n",
    "# 行表示用户，列表示物品\n",
    "myMat"
   ]
  },
  {
   "cell_type": "code",
   "execution_count": 12,
   "id": "6db4c0d6-5b76-41e1-958c-d78d5bfa9de0",
   "metadata": {},
   "outputs": [
    {
     "name": "stdout",
     "output_type": "stream",
     "text": [
      "[(2, 2.5), (1, 2.0243290220056256)]\n",
      "[(2, 3.0), (1, 2.8266504712098603)]\n",
      "[(2, 2.5), (1, 2.0)]\n"
     ]
    }
   ],
   "source": [
    "print(recommend(myMat,2))\n",
    "print(recommend(myMat,2,simMeas=ecludSim))\n",
    "print(recommend(myMat,2,simMeas=pearsSim))"
   ]
  },
  {
   "cell_type": "markdown",
   "id": "f7aff07b-6358-4e92-adec-e3d35388ea74",
   "metadata": {},
   "source": [
    "---\n",
    "实际数据集要比上述例子更大且更稀疏例如\n",
    "![一个更大的用户菜肴矩阵，其中很多菜都没有评分](./dataExample1.jpg)"
   ]
  },
  {
   "cell_type": "code",
   "execution_count": 13,
   "id": "85022ded-1cc2-4e11-afd8-68fd5286d465",
   "metadata": {},
   "outputs": [
    {
     "data": {
      "text/plain": [
       "array([15.77075346, 11.40670395, 11.03044558,  4.84639758,  3.09292055,\n",
       "        2.58097379,  1.00413543,  0.72817072,  0.43800353,  0.22082113,\n",
       "        0.07367823])"
      ]
     },
     "execution_count": 13,
     "metadata": {},
     "output_type": "execute_result"
    }
   ],
   "source": [
    "def loadExData2():\n",
    "    return[[0, 0, 0, 0, 0, 4, 0, 0, 0, 0, 5],\n",
    "           [0, 0, 0, 3, 0, 4, 0, 0, 0, 0, 3],\n",
    "           [0, 0, 0, 0, 4, 0, 0, 1, 0, 4, 0],\n",
    "           [3, 3, 4, 0, 0, 0, 0, 2, 2, 0, 0],\n",
    "           [5, 4, 5, 0, 0, 0, 0, 5, 5, 0, 0],\n",
    "           [0, 0, 0, 0, 5, 0, 1, 0, 0, 5, 0],\n",
    "           [4, 3, 4, 0, 0, 0, 0, 5, 5, 0, 1],\n",
    "           [0, 0, 0, 4, 0, 4, 0, 0, 0, 0, 4],\n",
    "           [0, 0, 0, 2, 0, 2, 5, 0, 0, 1, 2],\n",
    "           [0, 0, 0, 0, 5, 0, 0, 0, 0, 4, 0],\n",
    "           [1, 0, 0, 0, 0, 0, 0, 1, 2, 0, 0]]\n",
    "U,Sigma,VT = np.linalg.svd(np.mat(loadExData2()))\n",
    "Sigma"
   ]
  },
  {
   "cell_type": "code",
   "execution_count": 14,
   "id": "127201ee-0858-4225-9758-bb2ab4a37aa1",
   "metadata": {},
   "outputs": [
    {
     "data": {
      "text/plain": [
       "487.7999999999996"
      ]
     },
     "execution_count": 14,
     "metadata": {},
     "output_type": "execute_result"
    }
   ],
   "source": [
    "# 寻找多少奇异值能占据90%的信息\n",
    "Sig2 = Sigma**2\n",
    "np.sum(Sig2)*0.9"
   ]
  },
  {
   "cell_type": "code",
   "execution_count": 15,
   "id": "95f7f5b4-0809-4ec0-bc78-cc2f457f53cc",
   "metadata": {},
   "outputs": [
    {
     "name": "stdout",
     "output_type": "stream",
     "text": [
      "378.8295595113579\n",
      "500.5002891275793\n"
     ]
    }
   ],
   "source": [
    "print(np.sum(Sig2[:2]))\n",
    "print(np.sum(Sig2[:3]))"
   ]
  },
  {
   "cell_type": "markdown",
   "id": "18e84ed5-93ff-429f-876a-b5e1a78c2549",
   "metadata": {},
   "source": [
    "---\n",
    "我们利用SVD将所有菜肴映射到一个低维空间中，在低维空间中利用相似度来进行推荐"
   ]
  },
  {
   "cell_type": "code",
   "execution_count": 16,
   "id": "6873e259-c9a8-4789-9f07-6f90d4334915",
   "metadata": {},
   "outputs": [],
   "source": [
    "def svdEst(dataMat,user,simMeas,item):\n",
    "    n = np.shape(dataMat)[1]\n",
    "    simTotal = 0.0\n",
    "    ratSimTotal = 0.0\n",
    "    U,Sigma,VT = np.linalg.svd(dataMat)\n",
    "    Sig4 = np.mat(np.eye(4)*Sigma[:4])\n",
    "    \n",
    "    #降维后的物品\n",
    "    xformedItems = dataMat.T * U[:,:4]*Sig4.I\n",
    "    for j in range(n):\n",
    "        userRating = dataMat[user,j]\n",
    "        if userRating==0 or j==item:\n",
    "            continue\n",
    "        similarity = simMeas(xformedItems[item,:].T,xformedItems[j,:].T)\n",
    "        simTotal += similarity\n",
    "        ratSimTotal += similarity*userRating\n",
    "    if simTotal==0:\n",
    "        return 0\n",
    "    else:\n",
    "        return ratSimTotal/simTotal"
   ]
  },
  {
   "cell_type": "code",
   "execution_count": 17,
   "id": "02bf8392-7318-4327-95ab-cb7e11bc110d",
   "metadata": {},
   "outputs": [
    {
     "data": {
      "text/plain": [
       "[(4, 3.344714938469228), (7, 3.3294020724526967), (9, 3.3281008763900686)]"
      ]
     },
     "execution_count": 17,
     "metadata": {},
     "output_type": "execute_result"
    }
   ],
   "source": [
    "myMat = np.mat(loadExData2())\n",
    "recommend(myMat,1,estMethod=svdEst)"
   ]
  },
  {
   "cell_type": "code",
   "execution_count": 18,
   "id": "43db20ce-b110-403f-be1e-69d64cf431ca",
   "metadata": {},
   "outputs": [
    {
     "data": {
      "text/plain": [
       "[(4, 3.346952186702173), (9, 3.33537965732747), (6, 3.3071930278130366)]"
      ]
     },
     "execution_count": 18,
     "metadata": {},
     "output_type": "execute_result"
    }
   ],
   "source": [
    "recommend(myMat,1,estMethod=svdEst,simMeas=pearsSim)"
   ]
  },
  {
   "cell_type": "markdown",
   "id": "d112f704-4a2a-4eeb-b617-e12b646ea427",
   "metadata": {},
   "source": [
    "- 该实例简单展示了推荐引擎的工作流程以及svd将数据映射为重要特征的过程\n",
    "- SVD实际上不用每次评估都分解，使用前运行一次即可，大型系统中svd每天运行一次或者运行频率不高，并且还要离线运行\n",
    "- 矩阵表示方法：稀疏矩阵的存储传输也是提高效率的方式\n",
    "- 每次推荐计算多个物品间相似度也是一大消耗，因此需要时这些物品间得分也可以被另一用户使用；实际中，另一普遍的做法就是离线计算并保存相似度得分\n",
    "- 推荐引擎面临的另一问题就是如何在缺乏数据时给出推荐——冷启动问题\n",
    "- 冷启动问题的解决就是将推荐看成搜索问题，内部表现上不同方法有所不同但是对用户是透明的。为此我们需要推荐物品的属性，将这些属性作为相似度的数据计算，这被称为**基于内容的推荐**，该方法效果可能不如协同过滤的好，但这只是个开始\n"
   ]
  },
  {
   "cell_type": "markdown",
   "id": "cf2f4510-c3ee-4ca5-9b2a-7d5daa81e6e0",
   "metadata": {},
   "source": [
    "## 基于SVD的图像压缩"
   ]
  },
  {
   "cell_type": "code",
   "execution_count": 19,
   "id": "579ffa31-c2d6-41a8-945e-598a5dfa8dd2",
   "metadata": {},
   "outputs": [],
   "source": [
    "def printMat(inMat,thresh=0.8):\n",
    "    for i in range(32):\n",
    "        for k in range(32):\n",
    "            if float(inMat[i,k])>thresh:\n",
    "                print(1,end='')\n",
    "            else:\n",
    "                print(0,end='')\n",
    "        print('')"
   ]
  },
  {
   "cell_type": "code",
   "execution_count": 20,
   "id": "d2a6fe4b-5722-4a4b-8f5f-96de1d08c39b",
   "metadata": {},
   "outputs": [],
   "source": [
    "def imgCompress(numSV=3,thresh=0.8):\n",
    "    myl = []\n",
    "    for line in open('../data/SVD/0_5.txt').readlines():\n",
    "        newRow = []\n",
    "        for i in range(32):\n",
    "            newRow.append(int(line[i]))\n",
    "        myl.append(newRow)\n",
    "    myMat = np.mat(myl)\n",
    "    print('*'*5,'Original  matrix','*'*5)\n",
    "    printMat(myMat,thresh)\n",
    "    \n",
    "    U,Sigma,VT = np.linalg.svd(myMat)\n",
    "    SigRecon = np.mat(np.zeros((numSV,numSV)))\n",
    "    for k in range(numSV):\n",
    "        SigRecon[k,k] = Sigma[k]\n",
    "    reconMat = U[:,:numSV]*SigRecon*VT[:numSV,:]\n",
    "    \n",
    "    print('*'*5,'reconstructed  matrix  using %d singular'%numSV,'*'*5)\n",
    "    printMat(reconMat,thresh)"
   ]
  },
  {
   "cell_type": "code",
   "execution_count": 21,
   "id": "91055ba5-51ec-431a-85b9-daa50823667e",
   "metadata": {},
   "outputs": [
    {
     "name": "stdout",
     "output_type": "stream",
     "text": [
      "***** Original  matrix *****\n",
      "00000000000000110000000000000000\n",
      "00000000000011111100000000000000\n",
      "00000000000111111110000000000000\n",
      "00000000001111111111000000000000\n",
      "00000000111111111111100000000000\n",
      "00000001111111111111110000000000\n",
      "00000000111111111111111000000000\n",
      "00000000111111100001111100000000\n",
      "00000001111111000001111100000000\n",
      "00000011111100000000111100000000\n",
      "00000011111100000000111110000000\n",
      "00000011111100000000011110000000\n",
      "00000011111100000000011110000000\n",
      "00000001111110000000001111000000\n",
      "00000011111110000000001111000000\n",
      "00000011111100000000001111000000\n",
      "00000001111100000000001111000000\n",
      "00000011111100000000001111000000\n",
      "00000001111100000000001111000000\n",
      "00000001111100000000011111000000\n",
      "00000000111110000000001111100000\n",
      "00000000111110000000001111100000\n",
      "00000000111110000000001111100000\n",
      "00000000111110000000011111000000\n",
      "00000000111110000000111111000000\n",
      "00000000111111000001111110000000\n",
      "00000000011111111111111110000000\n",
      "00000000001111111111111110000000\n",
      "00000000001111111111111110000000\n",
      "00000000000111111111111000000000\n",
      "00000000000011111111110000000000\n",
      "00000000000000111111000000000000\n",
      "***** reconstructed  matrix  using 2 singular *****\n",
      "00000000000000000000000000000000\n",
      "00000000000000000000000000000000\n",
      "00000000000001111100000000000000\n",
      "00000000000011111111000000000000\n",
      "00000000000111111111100000000000\n",
      "00000000001111111111110000000000\n",
      "00000000001111111111110000000000\n",
      "00000000011110000000001000000000\n",
      "00000000111100000000001100000000\n",
      "00000000111100000000001110000000\n",
      "00000000111100000000001110000000\n",
      "00000000111100000000001110000000\n",
      "00000000111100000000001110000000\n",
      "00000000111100000000001110000000\n",
      "00000000111100000000001110000000\n",
      "00000000111100000000001110000000\n",
      "00000000111100000000001110000000\n",
      "00000000111100000000001110000000\n",
      "00000000111100000000001110000000\n",
      "00000000111100000000001110000000\n",
      "00000000111100000000001110000000\n",
      "00000000111100000000001110000000\n",
      "00000000111100000000001110000000\n",
      "00000000111100000000001110000000\n",
      "00000000111100000000001110000000\n",
      "00000000111100000000001100000000\n",
      "00000000001111111111111000000000\n",
      "00000000001111111111110000000000\n",
      "00000000001111111111110000000000\n",
      "00000000000011111111100000000000\n",
      "00000000000011111111000000000000\n",
      "00000000000000000000000000000000\n"
     ]
    }
   ],
   "source": [
    "imgCompress(2)"
   ]
  },
  {
   "cell_type": "markdown",
   "id": "4c3a4199-637b-405c-ad2e-7ad453a842a3",
   "metadata": {},
   "source": [
    "可见我们使用$U_{32\\times 2},V^T_{2\\times 32},\\Sigma_{2\\times 2} $共32*2*2+2=130个像素就能存储1024个原始像素的图片，因此获得了将近10倍的压缩率"
   ]
  },
  {
   "cell_type": "code",
   "execution_count": null,
   "id": "83deb707-76bf-41ce-8c5c-fc7999373ff1",
   "metadata": {},
   "outputs": [],
   "source": []
  }
 ],
 "metadata": {
  "kernelspec": {
   "display_name": "Python [conda env:ML] *",
   "language": "python",
   "name": "conda-env-ML-py"
  },
  "language_info": {
   "codemirror_mode": {
    "name": "ipython",
    "version": 3
   },
   "file_extension": ".py",
   "mimetype": "text/x-python",
   "name": "python",
   "nbconvert_exporter": "python",
   "pygments_lexer": "ipython3",
   "version": "3.6.13"
  }
 },
 "nbformat": 4,
 "nbformat_minor": 5
}
