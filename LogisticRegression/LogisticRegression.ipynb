{
 "cells": [
  {
   "cell_type": "markdown",
   "id": "3d64fb74-b90b-436d-81ec-cbf41e519e8e",
   "metadata": {
    "tags": []
   },
   "source": [
    "# Logistic回归\n",
    "\n",
    "**一般流程**\n",
    "\n",
    "---\n",
    "1. 收集数据\n",
    "2. 准备数据：因为要进行距离计算，因此要求数据为数值型，另外结构化数据格式最佳\n",
    "3. 分析数据\n",
    "4. 训练算法：找到最佳的分类回归系数\n",
    "5. 测试算法\n",
    "6. 使用算法：给定一部分输入，并将其格式转化，基于训练好的回归系数进行简单的回归计算，判断其所属类别\n",
    "\n",
    "---\n",
    "- 优点: 计算代价不高，易于理解和实现\n",
    "- 缺点：容易欠拟合，分类精度可能不足\n",
    "- 使用数据类型：数值型和标称型\n",
    "---"
   ]
  },
  {
   "cell_type": "markdown",
   "id": "e22759e4-55d0-42fa-bf89-abf2e307dce3",
   "metadata": {},
   "source": [
    "## 理论基础\n",
    "\n",
    "我们需要函数能接受所有的输入然后预测出类别，这类函数称为Heaviside step function或单位阶跃函数，而sigmoid/logistic函数可以提供相似的功能，且sigmoid有更多优势，sigmoid如下,**W**是待调整参数\n",
    "$$\n",
    "\\sigma(z) = \\frac 1 {1+e^{-z}} \\\\\n",
    "z = w_0x_0 + w_1x_1 + \\cdots + w_nx_n = W^TX\n",
    "$$\n",
    "\n",
    "依据sigmoid函数的特性，做出如下假设\n",
    "$$\n",
    "p(y=1|x,\\theta) = h_{\\theta}(x)\\\\\n",
    "p(y=0|x,\\theta) = 1 - h_{\\theta}(x)\\\\\n",
    "$$\n",
    "理论上来说各点概率为1效果最好，合并上述两个公式为代价函数 $ cost(h_\\theta(x),y) = h_\\theta(x)^y(1-h_\\theta(x))^{1-y}$\n",
    "\n",
    "为了简化对其求对数,于是代价函数为 $cost(h_\\theta(x),y) =y log(h_\\theta(x))+(1-y)log(1-h_\\theta(x))$\n",
    "\n",
    "假设样本之间相互独立，使用**极大似然估计法**，整个样本集合产生的概率为所有样本生成概率的乘积，再将其对数化:\n",
    "$$\n",
    "J(\\theta) = \\sum^m_{i=1}{cost(h_\\theta(x^i),y^i)}\n",
    "$$\n",
    "故由极大似然估计可知，使得$J(\\theta)$为最大的$\\theta$即为估计值\n"
   ]
  },
  {
   "cell_type": "markdown",
   "id": "97ba1170-eaad-49e1-a6b1-5ed118cd79b4",
   "metadata": {
    "tags": []
   },
   "source": [
    "# 基于最优化方法获取最佳回归系数\n",
    "## 批次梯度上升法\n",
    "$$\n",
    "\\nabla f(x,y) = \n",
    "    \\begin{pmatrix}\n",
    "        \\frac{\\partial f(x,y)}{\\delta x} \\\\\n",
    "        \\frac{\\partial f(x,y)}{\\delta y} \\\\\n",
    "    \\end{pmatrix}\n",
    "    \\\\\n",
    "    w:= w+\\alpha \\nabla_w f(w)\n",
    "$$\n",
    "- w将会被一直迭代知道达到某个停止条件，由于每次迭代w的移动方向都是当前位置上使得目标函数改变最大的方向，因此叫做梯度上升法\n",
    "- 梯度下降法阈值相对应，只不过加法换成减法。另外梯度上升求解最大值，梯度下降通常用来求解最小值\n",
    "\n",
    "由理论基础知,链式法则得\n",
    "$$\n",
    "\\frac{\\partial cost(\\theta)}{\\partial \\theta_j} = \\frac{\\partial cost(\\theta)}{\\partial h(z)}*\n",
    "\\frac{\\partial h(z)}{\\partial z}*\\frac{\\partial z}{\\partial \\theta_j}\\\\\n",
    "= \\{y\\frac{1}{h(z)} + (y-1)\\frac{1}{1-h(z)}\\} * \\{{h(z)(1-h(z))}\\} * {x_j}\\\\\n",
    "= (y-h(z))x_j\n",
    "$$"
   ]
  },
  {
   "cell_type": "markdown",
   "id": "31ac0d21-7356-4d16-a8dc-325051e07db5",
   "metadata": {},
   "source": [
    "### 训练算法\n"
   ]
  },
  {
   "cell_type": "code",
   "execution_count": 1,
   "id": "a9331ab0-efb3-4565-b64d-fcd414aa582e",
   "metadata": {},
   "outputs": [],
   "source": [
    "import numpy as np\n",
    "def loadDataSet():\n",
    "    dataMat = []\n",
    "    labelMat = []\n",
    "    fr = open('../data/LogisticRegression/testSet.txt')\n",
    "    for line in fr.readlines():\n",
    "        lineArr = line.strip().split()\n",
    "        dataMat.append([1.0,float(lineArr[0]),float(lineArr[1])])\n",
    "        labelMat.append(int(lineArr[2]))\n",
    "    return dataMat,labelMat\n",
    "\n",
    "def sigmoid(inX):\n",
    "    return 1.0/(1+np.exp(-inX))\n",
    "\n",
    "def gradAscent(dataMatIn,classLabels):\n",
    "    dataMatrix = np.matrix(dataMatIn)\n",
    "    labelMat = np.matrix(classLabels).transpose()\n",
    "    m,n = dataMatrix.shape\n",
    "    # 步长\n",
    "    alpha = 0.001 \n",
    "    maxCycles = 500\n",
    "    weights = np.matrix(np.ones((n,1)))\n",
    "    for k in range(maxCycles):\n",
    "        h = sigmoid(dataMatrix*weights)\n",
    "        error = (labelMat-h)\n",
    "        weights += alpha * dataMatrix.transpose()*error\n",
    "    return weights"
   ]
  },
  {
   "cell_type": "code",
   "execution_count": 2,
   "id": "ea1de3a0-ea80-4f03-8fa0-5f0b347022b1",
   "metadata": {},
   "outputs": [
    {
     "data": {
      "text/plain": [
       "matrix([[ 4.12414349],\n",
       "        [ 0.48007329],\n",
       "        [-0.6168482 ]])"
      ]
     },
     "execution_count": 2,
     "metadata": {},
     "output_type": "execute_result"
    }
   ],
   "source": [
    "dataArr,labelMat = loadDataSet()\n",
    "weights = gradAscent(dataArr,labelMat)\n",
    "weights"
   ]
  },
  {
   "cell_type": "markdown",
   "id": "091a1260-7a32-423f-93c7-259b2c33718d",
   "metadata": {},
   "source": [
    "### 分析数据：绘制决策边界"
   ]
  },
  {
   "cell_type": "code",
   "execution_count": 3,
   "id": "e5968f67-618d-4168-a190-131f6e745430",
   "metadata": {},
   "outputs": [
    {
     "data": {
      "image/png": "[encoded data removed]",
      "text/plain": [
       "<Figure size 432x288 with 1 Axes>"
      ]
     },
     "metadata": {
      "needs_background": "light"
     },
     "output_type": "display_data"
    }
   ],
   "source": [
    "import matplotlib.pyplot as plt\n",
    "def plotBestFit(weights):\n",
    "    dataMat,labelMat = loadDataSet()\n",
    "    dataArr = np.array(dataMat)\n",
    "    n = dataArr.shape[0]\n",
    "    xcord1 = []\n",
    "    ycord1 = []\n",
    "    xcord2 = []\n",
    "    ycord2 = []\n",
    "    for i in range(n):\n",
    "        if int(labelMat[i])==1:\n",
    "            xcord1.append(dataArr[i,1])\n",
    "            ycord1.append(dataArr[i,2])\n",
    "        else:\n",
    "            xcord2.append(dataArr[i,1])\n",
    "            ycord2.append(dataArr[i,2])\n",
    "\n",
    "    fig = plt.figure()\n",
    "    ax = fig.add_subplot(111)\n",
    "    ax.scatter(xcord1,ycord1,s=30,c='red',marker='s')\n",
    "    ax.scatter(xcord2,ycord2,s=30,c='green')\n",
    "\n",
    "\n",
    "    # 由分界面0=w0x0 + w1x1 + w2x2 导出x2\n",
    "    x1 = np.arange(-3.0,3.0,0.1)\n",
    "    x2 = (-weights[0]-weights[1]*x1)/weights[2]\n",
    "    ax.plot(x1,x2)\n",
    "    plt.xlabel('X1')\n",
    "    plt.ylabel('X2')\n",
    "    plt.show()\n",
    "    \n",
    "plotBestFit(weights.getA())"
   ]
  },
  {
   "cell_type": "markdown",
   "id": "934607f0-1c8c-484a-9bef-3f7a0fcbb739",
   "metadata": {},
   "source": [
    "## 随机梯度上升法\n",
    "\n",
    "- 批梯度上升法每次更新系数都要遍历数据集，如果数据和特征数量太多该方法计算复杂度会过高\n",
    "- 可以通过随机梯度上升法来改进，每次仅用一个样本点更新参数\n",
    "- 由于可以在新样本到来时对分类器进行增量更新，该算法是一个在线学习算法，与在线学习对应一次处理所有数据被称为‘批处理’\n",
    "### e.g. 1"
   ]
  },
  {
   "cell_type": "code",
   "execution_count": 4,
   "id": "fc93ea50-4df6-43be-a775-5f25eab13078",
   "metadata": {},
   "outputs": [],
   "source": [
    "def stocGradAscent0(dataMatrix,classLabels):\n",
    "    m,n = np.shape(dataMatrix)\n",
    "    alpha = 0.01\n",
    "    weights = np.ones(n)\n",
    "    for i in range(m):\n",
    "        # 这里是array所以需要使用sum而不是之前的矩阵转置相乘操作\n",
    "        h = sigmoid(sum(dataMatrix[i]*weights))\n",
    "        error = classLabels[i]-h\n",
    "        weights = weights + alpha*error*dataMatrix[i]\n",
    "    return weights"
   ]
  },
  {
   "cell_type": "code",
   "execution_count": 5,
   "id": "ab28d90c-1028-48ca-bb67-cb2906858d7d",
   "metadata": {},
   "outputs": [
    {
     "data": {
      "image/png": "[encoded data removed]",
      "text/plain": [
       "<Figure size 432x288 with 1 Axes>"
      ]
     },
     "metadata": {
      "needs_background": "light"
     },
     "output_type": "display_data"
    }
   ],
   "source": [
    "dataArr,labelMat = loadDataSet()\n",
    "weights = stocGradAscent0(np.array(dataArr),labelMat)\n",
    "plotBestFit(weights)"
   ]
  },
  {
   "cell_type": "markdown",
   "id": "05864b5e-088c-4bec-a639-fb54b1dfe17b",
   "metadata": {},
   "source": [
    "### e.g.2 \n",
    "1. 步长**非严格下降**来进行优化\n",
    "2. 随机选取样本来更新回归系数，可以减少周期性的波动\n",
    "3. 这种方式收敛的更快"
   ]
  },
  {
   "cell_type": "code",
   "execution_count": 6,
   "id": "b149d1ea-ef7a-4f96-8856-749acc42e75a",
   "metadata": {},
   "outputs": [],
   "source": [
    "import random\n",
    "# 改进随机梯度上升算法\n",
    "def stocGradAscent1(dataMatrix,classLabels,numIter=150):\n",
    "    m,n = np.shape(dataMatrix)\n",
    "    weights = np.ones(n)\n",
    "    for j in range(numIter):\n",
    "        dataIndex = list(range(m))\n",
    "        for i in range(m):\n",
    "            # alpha动态调整，同时利用i，j也能避免参数严格下降\n",
    "            alpha = 4/(1.0+j+i) +0.01\n",
    "            # 随机选择样本进行梯度下降\n",
    "            randIndex = int(random.uniform(0,len(dataIndex)))\n",
    "            h = sigmoid(sum(dataMatrix[randIndex]*weights))\n",
    "            error = classLabels[randIndex]-h\n",
    "            weights = weights + alpha*error*dataMatrix[randIndex]\n",
    "            del(dataIndex[randIndex])\n",
    "            \n",
    "    return weights"
   ]
  },
  {
   "cell_type": "code",
   "execution_count": 7,
   "id": "64a00448-8c01-4369-b84f-6c33a8310e6b",
   "metadata": {},
   "outputs": [
    {
     "data": {
      "image/png": "[encoded data removed]",
      "text/plain": [
       "<Figure size 432x288 with 1 Axes>"
      ]
     },
     "metadata": {
      "needs_background": "light"
     },
     "output_type": "display_data"
    }
   ],
   "source": [
    "dataArr,labelMat = loadDataSet()\n",
    "weights = stocGradAscent1(np.array(dataArr),labelMat)\n",
    "plotBestFit(weights)"
   ]
  },
  {
   "cell_type": "markdown",
   "id": "ae243f17-fb01-4cc8-b0e6-45dba9c772cb",
   "metadata": {},
   "source": [
    "**显然在此使用了更少的迭代次数，且获得了与之前批梯度上升接近的效果**"
   ]
  },
  {
   "cell_type": "markdown",
   "id": "59ee51e7-35c8-4e07-bca3-bf8c82f20ea4",
   "metadata": {},
   "source": [
    "# e.g. 从疝气病症预测病马死亡率\n",
    "- 在此使用logistic回归预测疝病马的存活问题，数据包含368个样本和28个特征\n",
    "- 该数据部分值班表比较主观，难以测量\n",
    "- 数据集中有30%的缺失值"
   ]
  },
  {
   "cell_type": "markdown",
   "id": "b1c63c07-f16a-487c-a4fe-35731f7dcf75",
   "metadata": {},
   "source": [
    "## 准备数据：处理数据中缺失值\n",
    "1. 所有缺失值用一个实值来替换，此处选择使用0替换，这样在更新时缺失值不会影响系数\n",
    "2. 由于sigmoid(0) = 0.5其对结果的预测不具有倾向性，因此这种补充也不会对误差造成影响\n",
    "3. 由于数据中有效值大都不是0，因此其在某种意义上也满足‘特殊值的要求’\n",
    "4. 对于缺失类别标签的数据，我们对其直接丢弃，因为标签数据通常很难对其进行填补"
   ]
  },
  {
   "cell_type": "markdown",
   "id": "33355771-b125-46aa-8b10-94351353d7fa",
   "metadata": {
    "tags": []
   },
   "source": [
    "## 测试算法"
   ]
  },
  {
   "cell_type": "code",
   "execution_count": 8,
   "id": "48dad6c1-2e54-4462-b9c6-3f4bac59390b",
   "metadata": {},
   "outputs": [],
   "source": [
    "#对sigmoid函数的优化，避免了出现极大的数据溢出\n",
    "def sigmoid(inX):\n",
    "    if inX>=0:      \n",
    "        return 1.0/(1+np.exp(-inX))\n",
    "    else:\n",
    "        return np.exp(inX)/(1+np.exp(inX))\n",
    "\n",
    "# 分类函数\n",
    "def classifyVector(inX,weights):\n",
    "    prob = sigmoid(sum(inX*weights))\n",
    "    if prob > 0.5:\n",
    "        return 1.0\n",
    "    else:\n",
    "        return 0.0\n",
    "    \n",
    "def colicTest():\n",
    "    frTrain = open('../data/LogisticRegression/horseColicTraining.txt')\n",
    "    frTest = open('../data/LogisticRegression/horseColicTest.txt')\n",
    "    trainingSet = []\n",
    "    trainingLabels = []\n",
    "    for line in frTrain.readlines():\n",
    "        currLine = line.strip().split('\\t')\n",
    "        lineArr = []\n",
    "        # 添加特征\n",
    "        for i in range(len(currLine)-1):\n",
    "            lineArr.append(float(currLine[i]))\n",
    "        trainingSet.append(lineArr)\n",
    "        # 添加标签\n",
    "        trainingLabels.append(float(currLine[-1]))\n",
    "\n",
    "    # 训练权重weights\n",
    "    trainWeights = stocGradAscent1(np.array(trainingSet),trainingLabels,500)\n",
    "\n",
    "    # 测试\n",
    "    errorCount = 0.0\n",
    "    numTestVec = 0.0\n",
    "    for line in frTest.readlines():\n",
    "        numTestVec += 1.0\n",
    "        currLine = line.strip().split('\\t')\n",
    "        lineArr = []\n",
    "        for i in range(len(currLine)-1):\n",
    "            lineArr.append(float(currLine[i]))\n",
    "        if int(classifyVector(np.array(lineArr),trainWeights)) != int(currLine[-1]):\n",
    "            errorCount += 1\n",
    "    errorRate = float(errorCount)/numTestVec\n",
    "    print('the error rate of this test is: %f'%errorRate)\n",
    "    return errorRate\n",
    "\n",
    "def multiTest():\n",
    "    numTests = 10\n",
    "    errorSum = 0.0\n",
    "    for k in range(numTests):\n",
    "        errorSum += colicTest()\n",
    "    print('After %d iterations the average error rate is %f '%(numTests,errorSum/float(numTests)))"
   ]
  },
  {
   "cell_type": "code",
   "execution_count": 9,
   "id": "17eb1dd3-163a-4b87-af61-476f750b28bc",
   "metadata": {},
   "outputs": [
    {
     "name": "stdout",
     "output_type": "stream",
     "text": [
      "the error rate of this test is: 0.402985\n",
      "the error rate of this test is: 0.328358\n",
      "the error rate of this test is: 0.328358\n",
      "the error rate of this test is: 0.373134\n",
      "the error rate of this test is: 0.298507\n",
      "the error rate of this test is: 0.328358\n",
      "the error rate of this test is: 0.402985\n",
      "the error rate of this test is: 0.507463\n",
      "the error rate of this test is: 0.447761\n",
      "the error rate of this test is: 0.328358\n",
      "After 10 iterations the average error rate is 0.374627 \n"
     ]
    }
   ],
   "source": [
    "multiTest()"
   ]
  },
  {
   "cell_type": "markdown",
   "id": "6f56c976-5517-4c4b-814b-fb66e2318098",
   "metadata": {},
   "source": [
    "# Summary\n",
    "- logistic回归的目的是寻找一个非线性函数Sigmoid的最佳拟合参数，且结果呈可以由最优化算法完成。\n",
    "- 最优化算法中，常用的是梯度上升法，而梯度上升算法可以简化为随机梯度上升\n",
    "- 随机梯度上升性能更优，而且并不需要读取整个数据集进行批运算\n",
    "- 关于缺失数据的处理，没有标准答案，取决于实际应用中的需求"
   ]
  },
  {
   "cell_type": "code",
   "execution_count": null,
   "id": "ff7d1c57-41b1-4d54-89d1-8ee67b1f243b",
   "metadata": {},
   "outputs": [],
   "source": []
  }
 ],
 "metadata": {
  "kernelspec": {
   "display_name": "Python [conda env:ML] *",
   "language": "python",
   "name": "conda-env-ML-py"
  },
  "language_info": {
   "codemirror_mode": {
    "name": "ipython",
    "version": 3
   },
   "file_extension": ".py",
   "mimetype": "text/x-python",
   "name": "python",
   "nbconvert_exporter": "python",
   "pygments_lexer": "ipython3",
   "version": "3.6.13"
  }
 },
 "nbformat": 4,
 "nbformat_minor": 5
}
