{
 "cells": [
  {
   "cell_type": "markdown",
   "id": "6faf4c1a-68ea-478c-a462-e54e8c2c3580",
   "metadata": {},
   "source": [
    "# Platt SMO\n",
    "- 简化版的SMO算法在大数据集上运行缓慢\n",
    "- 两个版本的alpha更改和代数的优化环节一致，不同的在于选择alpha的方式\n",
    "- 完整版的platt SMO应用了一些能提速的启发式方法\n",
    "\n",
    "- 外循环选择第一个alpha值，并且选择过程在两种方式间交替\n",
    "    - 一种是在数据集上扫描\n",
    "    - 另一种是在非边界的alpha中实现单边扫描\n",
    "    - 非边界指那些不等于边界0和C的alpha\n",
    "- 选择第一个alpha值后，算法会通过一个内循环选择第二个alpha\n",
    "    - 优化过程中会通过最大化步长的方式获得第二个alpha\n",
    "    - 我们建立一个全局缓存用于保存误差值，并从中选择步长或者Ei-Ej最大的alpha\n"
   ]
  },
  {
   "cell_type": "markdown",
   "id": "929917e7-ec4d-419f-9859-af06440433a3",
   "metadata": {},
   "source": [
    "## 支持函数（Support Function）"
   ]
  },
  {
   "cell_type": "code",
   "execution_count": 1,
   "id": "058d515b-ad50-400d-a362-7b4dcdf41324",
   "metadata": {},
   "outputs": [],
   "source": [
    "import numpy as np\n",
    "import random\n",
    "\n",
    "# 加载数据\n",
    "def loadDataSet(fileName):\n",
    "    dataMat = []\n",
    "    labelMat = []\n",
    "    fr = open(fileName)\n",
    "    for line in fr.readlines():\n",
    "        lineArr = line.strip().split('\\t')\n",
    "        dataMat.append([float(lineArr[0]),float(lineArr[1])])\n",
    "        labelMat.append(float(lineArr[2]))\n",
    "    return dataMat,labelMat\n",
    "\n",
    "\n",
    "# 调整alpha在H和L之间\n",
    "def clipAlpha(aj,H,L):\n",
    "    if aj>H:\n",
    "        aj = H\n",
    "    if aj<L:\n",
    "        aj = L\n",
    "    return aj\n",
    "\n",
    "def selectJrand(i,m):\n",
    "    # 随机选择j!=i\n",
    "    j=i \n",
    "    while (j==i):\n",
    "        j = int(random.uniform(0,m))\n",
    "    return j\n",
    "\n",
    "class optStruct():\n",
    "    def __init__(self,dataMatIn,classLabels,C,toler,kTup):\n",
    "        self.X = dataMatIn\n",
    "        self.labelMat = classLabels\n",
    "        self.C = C\n",
    "        self.tol = toler\n",
    "        self.m = np.shape(dataMatIn)[0]\n",
    "        self.alphas = np.mat(np.zeros((self.m,1)))\n",
    "        self.b = 0\n",
    "        self.eCache = np.mat(np.zeros((self.m,2)))\n",
    "\n",
    "# 计算误差\n",
    "def calcEk(oS,k):\n",
    "    fXk = float(np.multiply(oS.alphas,oS.labelMat).T * (oS.X*oS.X[k,:].T)) + oS.b\n",
    "    Ek = fXk - float(oS.labelMat[k])\n",
    "    return Ek\n",
    "\n",
    "# 选择第二个alpha_j,希望能让alpha_j变化最大\n",
    "def selectJ(i,oS,Ei):\n",
    "    maxK = -1\n",
    "    maxDeltaE = 0\n",
    "    Ej = 0\n",
    "    \n",
    "    oS.eCache[i] = [1,Ei]\n",
    "    validEcacheList = np.nonzero(oS.eCache[:,0].A)[0]\n",
    "    \n",
    "    if len(validEcacheList) >1:\n",
    "        for k in validEcacheList:\n",
    "            if k == i:\n",
    "                continue\n",
    "            Ek = calcEk(oS,k)\n",
    "            deltaE = abs(Ei - Ek)\n",
    "            if (deltaE > maxDeltaE):\n",
    "                maxK = k\n",
    "                maxDeltaE = deltaE\n",
    "                Ej = Ek\n",
    "        return maxK,Ej\n",
    "    else:\n",
    "        j = selectJrand(i,oS.m)\n",
    "        Ej = calcEk(oS,j)\n",
    "    return j,Ej\n",
    "    \n",
    "    \n",
    "def updateEk(oS,k):\n",
    "    Ek = calcEk(oS,k)\n",
    "    oS.eCache[k] = [1,Ek]"
   ]
  },
  {
   "cell_type": "markdown",
   "id": "1bf4faf5-ee6d-430f-a838-cf2dbfaf42dd",
   "metadata": {},
   "source": [
    "## 完整的Platt SMO\n",
    "### 内循环"
   ]
  },
  {
   "cell_type": "code",
   "execution_count": 2,
   "id": "adce0d72-1706-45b3-a8db-d0ca3205fee5",
   "metadata": {},
   "outputs": [],
   "source": [
    "# 内循环代码\n",
    "def innerL(i,oS):\n",
    "    Ei = calcEk(oS,i)\n",
    "    # 1是不可容忍且还能调整  2是支持向量，且大于可容忍程度，还能调整\n",
    "    if ((oS.labelMat[i]*Ei < -oS.tol) and (oS.alphas[i] < oS.C)) \\\n",
    "        or ((oS.labelMat[i]*Ei > oS.tol) and (oS.alphas[i]>0)):\n",
    "        j,Ej = selectJ(i,oS,Ei)\n",
    "        \n",
    "        alphaIold = oS.alphas[i].copy()\n",
    "        alphaJold = oS.alphas[j].copy()\n",
    "        \n",
    "        # 确定边界\n",
    "        if oS.labelMat[i] != oS.labelMat[j]:\n",
    "            k = oS.alphas[j] - oS.alphas[i]\n",
    "            L = max(0,k)\n",
    "            H = min(oS.C,oS.C+k)\n",
    "        else:\n",
    "            k = oS.alphas[j] + oS.alphas[i]\n",
    "            L = max(0,k-oS.C)\n",
    "            H = min(oS.C,k)          \n",
    "        \n",
    "        if L==H:\n",
    "            return 0\n",
    "        eta = 2.0 * oS.X[i,:]*oS.X[j,:].T - oS.X[i,:]*oS.X[i,:].T - \\\n",
    "            oS.X[j,:]*oS.X[j,:].T\n",
    "        \n",
    "        if eta>=0:\n",
    "            return 0\n",
    "        \n",
    "        oS.alphas[j] -= oS.labelMat[j]*(Ei-Ej)/eta\n",
    "        oS.alphas[j] = clipAlpha(oS.alphas[j],H,L)        \n",
    "        updateEk(oS,j)\n",
    "        \n",
    "        if(abs(oS.alphas[j]-alphaJold)<0.00001):\n",
    "            # print('j not moving enough')\n",
    "            return 0\n",
    "            \n",
    "            \n",
    "        oS.alphas[i] += oS.labelMat[i]*oS.labelMat[j]*(alphaJold-oS.alphas[j])\n",
    "        updateEk(oS,i)\n",
    "        b1 = oS.b-Ei-oS.labelMat[i]*(oS.alphas[i]-alphaIold)*oS.X[i,:]*oS.X[i,:].T -\\\n",
    "                     oS.labelMat[j]*(oS.alphas[j]-alphaJold)*oS.X[i,:]*oS.X[j,:].T\n",
    "        b2 = oS.b-Ej-oS.labelMat[i]*(oS.alphas[i]-alphaIold)*oS.X[i,:]*oS.X[j,:].T -\\\n",
    "                     oS.labelMat[j]*(oS.alphas[j]-alphaJold)*oS.X[j,:]*oS.X[j,:].T     \n",
    "        \n",
    "        if (0<oS.alphas[i]) and (oS.alphas[i]<oS.C):\n",
    "            oS.b = b1\n",
    "        elif (0<oS.alphas[j]) and (oS.alphas[j]<oS.C):\n",
    "            oS.b = b2\n",
    "        else:\n",
    "            oS.b = (b1+b2)/2.0\n",
    "        return 1\n",
    "    else:\n",
    "        return 0"
   ]
  },
  {
   "cell_type": "markdown",
   "id": "426256bb-7c27-4ae1-8f84-79bf5f1e3431",
   "metadata": {},
   "source": [
    "### 外循环"
   ]
  },
  {
   "cell_type": "code",
   "execution_count": 3,
   "id": "8baf7906-4c7a-4fcc-a1f8-6585a7358a11",
   "metadata": {},
   "outputs": [],
   "source": [
    "# 外循环代码\n",
    "def smoP(dataMatIn,classLabels,C,toler,maxIter,kTup=('lin',0)):\n",
    "    oS = optStruct(np.mat(dataMatIn),np.mat(classLabels).transpose(),C,toler,kTup)\n",
    "    iter = 0\n",
    "    entireSet = True\n",
    "    alphaPairsChanged = 0\n",
    "    while (iter<maxIter) and ((alphaPairsChanged >0)or entireSet):\n",
    "        alphaPairsChanged = 0\n",
    "        if entireSet:\n",
    "            for i in range(oS.m):\n",
    "                alphaPairsChanged += innerL(i,oS)\n",
    "            print('fullSet, iter: %d i:%d, pairs changed %d'%(iter,i,alphaPairsChanged))\n",
    "            iter += 1\n",
    "        else:\n",
    "            nonBoundIs = np.nonzero((oS.alphas.A > 0) * (oS.alphas.A < C))[0]\n",
    "            for i in nonBoundIs:\n",
    "                alphaPairsChanged += innerL(i,oS)\n",
    "            print('non-bound, iter: %d i:%d, pairs changed %d'%(iter,i,alphaPairsChanged))\n",
    "            iter += 1\n",
    "            \n",
    "        if entireSet:\n",
    "            entireSet = False\n",
    "        elif alphaPairsChanged == 0:\n",
    "            entireSet = True\n",
    "        \n",
    "        print('iteration number: %d'% iter)\n",
    "    return oS.b,oS.alphas"
   ]
  },
  {
   "cell_type": "markdown",
   "id": "c4284604-eee1-4010-83c5-4c15783755af",
   "metadata": {},
   "source": [
    "### 训练b,alpha"
   ]
  },
  {
   "cell_type": "code",
   "execution_count": 4,
   "id": "f2b4d68b-094b-4896-861e-a1c33fb7794b",
   "metadata": {},
   "outputs": [
    {
     "name": "stdout",
     "output_type": "stream",
     "text": [
      "fullSet, iter: 0 i:99, pairs changed 6\n",
      "iteration number: 1\n",
      "non-bound, iter: 1 i:54, pairs changed 0\n",
      "iteration number: 2\n",
      "fullSet, iter: 2 i:99, pairs changed 0\n",
      "iteration number: 3\n",
      "0.0909525 seconds process time\n"
     ]
    }
   ],
   "source": [
    "dataArr,labelArr = loadDataSet('../data/SVM/testSet.txt')\n",
    "\n",
    "import time\n",
    "t0 = time.clock()\n",
    "b,alphas = smoP(dataArr,labelArr,0.6,0.001,40)\n",
    "print(time.clock() - t0, \"seconds process time\")"
   ]
  },
  {
   "cell_type": "markdown",
   "id": "88559db9-5c19-438c-a9a6-34b98fb40e61",
   "metadata": {},
   "source": [
    "### 利用alpha计算W "
   ]
  },
  {
   "cell_type": "code",
   "execution_count": 5,
   "id": "35fdd306-526c-4810-9d16-5f63a24c68b0",
   "metadata": {},
   "outputs": [],
   "source": [
    "# 计算权重w\n",
    "def calcWs(alphas,dataArr,classLabels):\n",
    "    X = np.mat(dataArr)\n",
    "    labelMat = np.mat(classLabels).T\n",
    "    m,n = X.shape\n",
    "    w = np.zeros((n,1))\n",
    "    for i in range(m):\n",
    "        w += np.multiply(alphas[i]*labelMat[i],X[i,:].T)\n",
    "    return w"
   ]
  },
  {
   "cell_type": "code",
   "execution_count": 6,
   "id": "70d4c9c1-5384-4f92-b9a1-1459848f800b",
   "metadata": {},
   "outputs": [
    {
     "data": {
      "text/plain": [
       "array([[ 0.73660705],\n",
       "       [-0.33184906]])"
      ]
     },
     "execution_count": 6,
     "metadata": {},
     "output_type": "execute_result"
    }
   ],
   "source": [
    "ws = calcWs(alphas,dataArr,labelArr)\n",
    "ws"
   ]
  },
  {
   "cell_type": "markdown",
   "id": "67a40d09-cfbe-4f85-bbb7-914402c5f50f",
   "metadata": {},
   "source": [
    "### 测试"
   ]
  },
  {
   "cell_type": "code",
   "execution_count": 7,
   "id": "e6e3bbc1-86ef-4971-b497-dc9a98cf17e8",
   "metadata": {},
   "outputs": [],
   "source": [
    "dataMat = np.mat(dataArr)"
   ]
  },
  {
   "cell_type": "code",
   "execution_count": 8,
   "id": "8c73db1c-5ec8-4ae7-9a42-1268011156b6",
   "metadata": {},
   "outputs": [
    {
     "name": "stdout",
     "output_type": "stream",
     "text": [
      "prediction is : [[-1.72371307]] ,   label is :  -1.0\n"
     ]
    }
   ],
   "source": [
    "print('prediction is :',dataMat[0] * np.mat(ws) + b, ',   label is : ',labelArr[0])"
   ]
  },
  {
   "cell_type": "code",
   "execution_count": 9,
   "id": "b8c6f8f7-75f3-45b3-b154-88a0bf42d9b8",
   "metadata": {},
   "outputs": [
    {
     "name": "stdout",
     "output_type": "stream",
     "text": [
      "prediction is : [[-2.30153899]] ,   label is :  -1.0\n"
     ]
    }
   ],
   "source": [
    "print('prediction is :',dataMat[1] * np.mat(ws) + b, ',   label is : ',labelArr[1])"
   ]
  },
  {
   "cell_type": "markdown",
   "id": "617cabb3-8326-44f7-89cb-273c5b515d01",
   "metadata": {},
   "source": [
    "# 应用核函数处理非线性可分问题\n",
    "- 核函数目的在于将原始低纬数据映射到高纬空间中，由核函数来实现这种映射\n",
    "- 核函数有多种类型，经过空间转换后，我们可以在高纬空间中解决线性问题，这等价于在低维空间中解决非线性问题\n",
    "- SVM优化中，存在向量内积运算，在此我们可以将内积运算换成核函数，这种技巧被称为**核技巧**"
   ]
  },
  {
   "cell_type": "markdown",
   "id": "aa192364-9418-4d09-9fd9-aaebdbb94c40",
   "metadata": {},
   "source": [
    "## 径向基核函数\n",
    "- SVM中常用的一个核函数是径向基函数，基于向量距离运算输出一个标量\n",
    "- 径向基函数的高斯版本具体如下，这里高斯函数将从特种空间映射到高纬（无穷）空间\n",
    "$$\n",
    "k(x,y) = \\exp(\\frac{-||x-y||^2}{2\\sigma^2})\n",
    "$$"
   ]
  },
  {
   "cell_type": "code",
   "execution_count": 10,
   "id": "a6bf8fff-c865-48fc-b5c6-8339809a1726",
   "metadata": {},
   "outputs": [],
   "source": [
    "def kernelTrans(X,A,kTup):\n",
    "    m,n = np.shape(X)\n",
    "    k = np.mat(np.zeros((m,1)))\n",
    "    \n",
    "    if kTup[0] == 'lin':\n",
    "        k = X * A.T\n",
    "    elif kTup[0] == 'rbf':\n",
    "        for j in range(m):\n",
    "            deltaRow = X[j,:] - A\n",
    "            k[j] = deltaRow *deltaRow.T\n",
    "        k = np.exp(k/(-1*kTup[1]**2))\n",
    "    else:\n",
    "        print('The kernel is not recognized!')\n",
    "    return k"
   ]
  },
  {
   "cell_type": "code",
   "execution_count": 11,
   "id": "7786592c-16fc-42a7-8e4b-aebbd78f6bd3",
   "metadata": {},
   "outputs": [],
   "source": [
    "class optStruct():\n",
    "    def __init__(self,dataMatIn,classLabels,C,toler,kTup):\n",
    "        self.X = dataMatIn\n",
    "        self.labelMat = classLabels\n",
    "        self.C = C\n",
    "        self.tol = toler\n",
    "        self.m = np.shape(dataMatIn)[0]\n",
    "        self.alphas = np.mat(np.zeros((self.m,1)))\n",
    "        self.b = 0\n",
    "        self.eCache = np.mat(np.zeros((self.m,2)))\n",
    "        self.K = np.mat(np.zeros((self.m,self.m)))\n",
    "        for i in range(self.m):\n",
    "            self.K[:,i] = kernelTrans(self.X,self.X[i,:],kTup)"
   ]
  },
  {
   "cell_type": "code",
   "execution_count": 12,
   "id": "7ccdfd93-e5dd-4ab0-97ac-073fc6981f6a",
   "metadata": {},
   "outputs": [],
   "source": [
    "# 计算误差\n",
    "def calcEk(oS,k):\n",
    "    fXk = float(np.multiply(oS.alphas,oS.labelMat).T * oS.K[:,k] + oS.b)\n",
    "    Ek = fXk - float(oS.labelMat[k])\n",
    "    return Ek\n",
    "\n",
    "# 内循环代码\n",
    "def innerL(i,oS):\n",
    "    Ei = calcEk(oS,i)\n",
    "    # 1是不可容忍且还能调整  2是支持向量，且大于可容忍程度，还能调整\n",
    "    if ((oS.labelMat[i]*Ei < -oS.tol) and (oS.alphas[i] < oS.C)) \\\n",
    "        or ((oS.labelMat[i]*Ei > oS.tol) and (oS.alphas[i]>0)):\n",
    "        j,Ej = selectJ(i,oS,Ei)\n",
    "        \n",
    "        alphaIold = oS.alphas[i].copy()\n",
    "        alphaJold = oS.alphas[j].copy()\n",
    "        \n",
    "        # 确定边界\n",
    "        if oS.labelMat[i] != oS.labelMat[j]:\n",
    "            k = oS.alphas[j] - oS.alphas[i]\n",
    "            L = max(0,k)\n",
    "            H = min(oS.C,oS.C+k)\n",
    "        else:\n",
    "            k = oS.alphas[j] + oS.alphas[i]\n",
    "            L = max(0,k-oS.C)\n",
    "            H = min(oS.C,k)          \n",
    "        \n",
    "        if L==H:\n",
    "            return 0\n",
    "        eta = 2.0 * oS.K[i,j] - oS.K[i,i] - oS.K[j,j]\n",
    "        \n",
    "        if eta>=0:\n",
    "            return 0\n",
    "        \n",
    "        oS.alphas[j] -= oS.labelMat[j]*(Ei-Ej)/eta\n",
    "        oS.alphas[j] = clipAlpha(oS.alphas[j],H,L)        \n",
    "        updateEk(oS,j)\n",
    "        \n",
    "        if(abs(oS.alphas[j]-alphaJold)<0.00001):\n",
    "            # print('j not moving enough')\n",
    "            return 0\n",
    "            \n",
    "            \n",
    "        oS.alphas[i] += oS.labelMat[i]*oS.labelMat[j]*(alphaJold-oS.alphas[j])\n",
    "        updateEk(oS,i)\n",
    "        b1 = oS.b-Ei-oS.labelMat[i]*(oS.alphas[i]-alphaIold)*oS.K[i,i] -\\\n",
    "                     oS.labelMat[j]*(oS.alphas[j]-alphaJold)*oS.K[i,j]\n",
    "        b2 = oS.b-Ej-oS.labelMat[i]*(oS.alphas[i]-alphaIold)*oS.K[i,j] -\\\n",
    "                     oS.labelMat[j]*(oS.alphas[j]-alphaJold)*oS.K[j,j]    \n",
    "        \n",
    "        if (0<oS.alphas[i]) and (oS.alphas[i]<oS.C):\n",
    "            oS.b = b1\n",
    "        elif (0<oS.alphas[j]) and (oS.alphas[j]<oS.C):\n",
    "            oS.b = b2\n",
    "        else:\n",
    "            oS.b = (b1+b2)/2.0\n",
    "        return 1\n",
    "    else:\n",
    "        return 0"
   ]
  },
  {
   "cell_type": "markdown",
   "id": "ed8f098b-911a-49e5-8ada-0f2c8ea4737f",
   "metadata": {},
   "source": [
    "## 测试"
   ]
  },
  {
   "cell_type": "code",
   "execution_count": 13,
   "id": "9f2f0361-c757-4d1c-a0c8-302ae3dde6aa",
   "metadata": {},
   "outputs": [
    {
     "name": "stdout",
     "output_type": "stream",
     "text": [
      "fullSet, iter: 0 i:99, pairs changed 25\n",
      "iteration number: 1\n",
      "non-bound, iter: 1 i:54, pairs changed 3\n",
      "iteration number: 2\n",
      "non-bound, iter: 2 i:54, pairs changed 0\n",
      "iteration number: 3\n",
      "fullSet, iter: 3 i:99, pairs changed 0\n",
      "iteration number: 4\n",
      "there are 21 Support Vectors\n",
      "the training error rate is : 0.110000\n",
      "the test error rate is : 0.210000\n"
     ]
    }
   ],
   "source": [
    "def testRbf(k1 = 1.3):\n",
    "    dataArr,labelArr = loadDataSet('../data/SVM/testSetRBF.txt')\n",
    "    b,alphas = smoP(dataArr,labelArr,200,0.0001,10000,('rbf',k1))\n",
    "    datMat = np.mat(dataArr)\n",
    "    labelMat = np.mat(labelArr).transpose()\n",
    "\n",
    "    # 构建支持向量\n",
    "    svInd = np.nonzero(alphas.A>0)[0]\n",
    "    sVs = datMat[svInd]\n",
    "    labelSV = labelMat[svInd]\n",
    "\n",
    "    print('there are %d Support Vectors'%sVs.shape[0])\n",
    "    m,n = dataMat.shape\n",
    "\n",
    "    errorCount = 0\n",
    "    for i in range(m):\n",
    "        kernelEval = kernelTrans(sVs,datMat[i,:],('rbf',k1))\n",
    "        predict = kernelEval.T*np.multiply(labelSV,alphas[svInd] )+ b\n",
    "        if np.sign(predict) != np.sign(labelArr[i]):\n",
    "            errorCount += 1\n",
    "\n",
    "    print('the training error rate is : %f'%(float(errorCount)/m))\n",
    "\n",
    "    # 测试测试集上的错误率\n",
    "    dataArr,labelArr = loadDataSet('../data/SVM/testSetRBF2.txt')\n",
    "    errorCount = 0\n",
    "    datMat = np.mat(dataArr)\n",
    "    labelMat = np.mat(labelArr).T\n",
    "    m,n = dataMat.shape\n",
    "\n",
    "    for i in range(m):\n",
    "        kernelEval = kernelTrans(sVs,datMat[i,:],('rbf',k1))\n",
    "        predict = kernelEval.T*np.multiply(labelSV,alphas[svInd] )+ b\n",
    "        if np.sign(predict) != np.sign(labelArr[i]):\n",
    "            errorCount += 1\n",
    "\n",
    "    print('the test error rate is : %f'%(float(errorCount)/m))\n",
    "    \n",
    "testRbf()"
   ]
  },
  {
   "cell_type": "code",
   "execution_count": 14,
   "id": "56bb8895-0bdf-43a3-8f90-72724410fcd8",
   "metadata": {},
   "outputs": [
    {
     "name": "stdout",
     "output_type": "stream",
     "text": [
      "fullSet, iter: 0 i:99, pairs changed 85\n",
      "iteration number: 1\n",
      "non-bound, iter: 1 i:99, pairs changed 65\n",
      "iteration number: 2\n",
      "non-bound, iter: 2 i:99, pairs changed 1\n",
      "iteration number: 3\n",
      "non-bound, iter: 3 i:99, pairs changed 0\n",
      "iteration number: 4\n",
      "fullSet, iter: 4 i:99, pairs changed 6\n",
      "iteration number: 5\n",
      "non-bound, iter: 5 i:99, pairs changed 0\n",
      "iteration number: 6\n",
      "fullSet, iter: 6 i:99, pairs changed 0\n",
      "iteration number: 7\n",
      "there are 88 Support Vectors\n",
      "the training error rate is : 0.000000\n",
      "the test error rate is : 0.080000\n"
     ]
    }
   ],
   "source": [
    "testRbf(0.1)"
   ]
  },
  {
   "cell_type": "markdown",
   "id": "e8d1cc1c-91ee-4655-ab6a-aacf2caba463",
   "metadata": {},
   "source": [
    "- sigma影响径向基函数，降低simga往往会获得更多的支持向量。\n",
    "- 支持向量太少，会得到相对较差的决策边界\n",
    "- 支持向量太多，那么每次都利用太多数据进行分类，这就等价于k近邻"
   ]
  },
  {
   "cell_type": "markdown",
   "id": "eaf767ff-8817-47e5-807f-6d0d33e717f5",
   "metadata": {},
   "source": [
    "# 手写数字识别\n",
    "之前使用KNN构建手写数字识别，但是其每次要保留数据集，占用的内存太大。如何保持性能不变而使用更少的内存呢？对此可以考虑使用SVM，保留的样本少了很多，但是能获得接近的效果"
   ]
  },
  {
   "cell_type": "code",
   "execution_count": 15,
   "id": "6a744f4d-7a70-4853-8ef2-4f5fe6d90313",
   "metadata": {},
   "outputs": [],
   "source": [
    "def img2vector(filename):\n",
    "    returnVect = np.zeros((1,1024))\n",
    "    fr = open(filename)\n",
    "    for i in range(32):\n",
    "        lineStr = fr.readline()\n",
    "        for j in range(32):\n",
    "            returnVect[0,32*i+j] = int(lineStr[j])\n",
    "    return returnVect    "
   ]
  },
  {
   "cell_type": "code",
   "execution_count": 16,
   "id": "27625375-3be7-4168-b40d-af2010c9354d",
   "metadata": {},
   "outputs": [],
   "source": [
    "from os import listdir\n",
    "\n",
    "def loadImages(dirName):\n",
    "    hwlabels = []\n",
    "    trainingFileList = listdir(dirName)\n",
    "    m = len(trainingFileList)\n",
    "    trainingMat = np.zeros((m,1024))\n",
    "    for i in range(m):\n",
    "        # 获取标签\n",
    "        fileNameStr = trainingFileList[i]\n",
    "        fileStr = fileNameStr.split('.')[0]\n",
    "        classNumStr = int(fileStr.split('_')[0])\n",
    "        if classNumStr == 9:\n",
    "            hwlabels.append(-1)\n",
    "        # 获取数据\n",
    "        else:\n",
    "            hwlabels.append(1)\n",
    "        trainingMat[i,:] = img2vector(dirName + '/' + fileNameStr)\n",
    "    return trainingMat,hwlabels\n"
   ]
  },
  {
   "cell_type": "code",
   "execution_count": 23,
   "id": "6c2c3267-2996-46c1-8eb1-ff7e2d4348d6",
   "metadata": {},
   "outputs": [],
   "source": [
    "def testDigits(kTup = ('rbf',10)):\n",
    "    dataArr,labelArr = loadImages('../data/SVM/hw_data/trainingDigits')\n",
    "    b,alphas = smoP(dataArr,labelArr,200,0.0001,10000,kTup)\n",
    "\n",
    "    datMat = np.mat(dataArr)\n",
    "    labelMat = np.mat(labelArr).T\n",
    "\n",
    "    # 构建支持向量\n",
    "    svInd = np.nonzero(alphas.A>0)[0]\n",
    "    sVs = datMat[svInd]\n",
    "    labelSV = labelMat[svInd]\n",
    "    print('there are %d Support Vectors'%np.shape(sVs)[0])\n",
    "\n",
    "    m,n = dataMat.shape\n",
    "    errorCount = 0\n",
    "    for i in range(m):\n",
    "        kernelEval = kernelTrans(sVs,datMat[i,:],kTup)\n",
    "        predict = kernelEval.T*np.multiply(labelSV,alphas[svInd] )+ b\n",
    "        if np.sign(predict) != np.sign(labelArr[i]):\n",
    "            errorCount += 1\n",
    "    print('the training error rate is : %f'%(float(errorCount)/m))\n",
    "\n",
    "\n",
    "    # 测试测试集上的错误率\n",
    "    dataArr,labelArr = loadImages('../data/SVM/hw_data/testDigits')\n",
    "    errorCount = 0\n",
    "    datMat = np.mat(dataArr)\n",
    "    labelMat = np.mat(labelArr).T\n",
    "    m,n = dataMat.shape\n",
    "\n",
    "    for i in range(m):\n",
    "        kernelEval = kernelTrans(sVs,datMat[i,:],kTup)\n",
    "        predict = kernelEval.T*np.multiply(labelSV,alphas[svInd] )+ b\n",
    "        if np.sign(predict) != np.sign(labelArr[i]):\n",
    "            errorCount += 1\n",
    "\n",
    "    print('the test error rate is : %f'%(float(errorCount)/m))\n"
   ]
  },
  {
   "cell_type": "code",
   "execution_count": 24,
   "id": "6c1e06b7-f3b2-475b-8803-3151374f407f",
   "metadata": {},
   "outputs": [
    {
     "name": "stdout",
     "output_type": "stream",
     "text": [
      "fullSet, iter: 0 i:401, pairs changed 98\n",
      "iteration number: 1\n",
      "non-bound, iter: 1 i:317, pairs changed 15\n",
      "iteration number: 2\n",
      "non-bound, iter: 2 i:362, pairs changed 0\n",
      "iteration number: 3\n",
      "fullSet, iter: 3 i:401, pairs changed 0\n",
      "iteration number: 4\n",
      "there are 121 Support Vectors\n",
      "the training error rate is : 0.000000\n",
      "the test error rate is : 0.010000\n"
     ]
    }
   ],
   "source": [
    "testDigits(('rbf',10))"
   ]
  },
  {
   "cell_type": "code",
   "execution_count": 25,
   "id": "9d3c1aaa-3d8d-4b04-873f-5158fc95e912",
   "metadata": {},
   "outputs": [
    {
     "name": "stdout",
     "output_type": "stream",
     "text": [
      "fullSet, iter: 0 i:401, pairs changed 401\n",
      "iteration number: 1\n",
      "non-bound, iter: 1 i:401, pairs changed 401\n",
      "iteration number: 2\n",
      "non-bound, iter: 2 i:401, pairs changed 391\n",
      "iteration number: 3\n",
      "non-bound, iter: 3 i:401, pairs changed 369\n",
      "iteration number: 4\n",
      "non-bound, iter: 4 i:401, pairs changed 214\n",
      "iteration number: 5\n",
      "non-bound, iter: 5 i:401, pairs changed 26\n",
      "iteration number: 6\n",
      "non-bound, iter: 6 i:401, pairs changed 0\n",
      "iteration number: 7\n",
      "fullSet, iter: 7 i:401, pairs changed 0\n",
      "iteration number: 8\n",
      "there are 402 Support Vectors\n",
      "the training error rate is : 0.000000\n",
      "the test error rate is : 0.060000\n"
     ]
    }
   ],
   "source": [
    "testDigits(('rbf',5))"
   ]
  },
  {
   "cell_type": "markdown",
   "id": "c28777f3-870e-46e2-8419-c313e35689c7",
   "metadata": {},
   "source": [
    "- sigma取10的时候效果通常不错\n",
    "- 另外线性核函数的效果并不一定很差，可以考虑牺牲线性核函数错误率来换取分类速度"
   ]
  },
  {
   "cell_type": "markdown",
   "id": "2992cda2-7dbf-4bfd-92b4-bfae03ab36c2",
   "metadata": {},
   "source": [
    "# 总结\n",
    "- 支持向量机泛化错误率低，有很好的学习能力，且有很好的推广性，因而使得svm十分流行\n",
    "- 有人认为svm是最好的定式算法\n",
    "- 过去试图求解二次优化问题来最大化分类间隔，训练支持向量机非常复杂且低效；John Platt引入SMO算法，每次优化两个alpha来加速svm训练\n",
    "- 核方法从低维空间将数据映射到高纬空间，因此在低维空间中非线性问题可以在转换为高纬空间中的线性问题来求解\n",
    "- 核方法不止可用于svm还可以用于其他算法，其中径向基函数是一个常用的度量两个向量距离的核函数\n",
    "- 支持向量机是一个二分类器，解决多分类问题时需要进行扩展\n",
    "- SVM效果也对优化参数和核函数中的参数很敏感\n"
   ]
  },
  {
   "cell_type": "code",
   "execution_count": null,
   "id": "43bd8fad-586c-44b8-961d-538a6ff40b8c",
   "metadata": {},
   "outputs": [],
   "source": []
  }
 ],
 "metadata": {
  "kernelspec": {
   "display_name": "Python [conda env:ML] *",
   "language": "python",
   "name": "conda-env-ML-py"
  },
  "language_info": {
   "codemirror_mode": {
    "name": "ipython",
    "version": 3
   },
   "file_extension": ".py",
   "mimetype": "text/x-python",
   "name": "python",
   "nbconvert_exporter": "python",
   "pygments_lexer": "ipython3",
   "version": "3.6.13"
  }
 },
 "nbformat": 4,
 "nbformat_minor": 5
}
