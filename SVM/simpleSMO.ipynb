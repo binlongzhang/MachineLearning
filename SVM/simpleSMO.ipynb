{
 "cells": [
  {
   "cell_type": "markdown",
   "id": "c797f547-491c-46cd-bf28-bfbf17d15419",
   "metadata": {},
   "source": [
    "# 理论基础\n",
    "详细可见《统计学习方法第二版》第七章\n",
    "## SVM的特点\n",
    "- 优点：\n",
    "    - 泛化错误率低\n",
    "    - 计算开销不大\n",
    "    - 结果易解释\n",
    "- 缺点：\n",
    "    - 对参数调节和核函数选择敏感\n",
    "    - 原始分类器不加修改仅适用于处理二分类问题\n",
    "- 使用数据类型：\n",
    "    - 数值型\n",
    "    - 标称型\n",
    "---\n",
    "## 背景\n",
    "- 对于线性可分数据，存在多个N-1维分割超平面来对数据进行划分（也称为分类决策边界）\n",
    "- 距离分割超平面最近的点确保其尽可能远，这里点到分割面的距离称为**间隔**，直觉上我们希望间隔尽可能大\n",
    "- **支持向量**就是距离分割超平面最近的那些点，我们要尝试最大化支持向量与分割面的距离，需要找此问题的优化求解方法\n",
    "\n",
    "---"
   ]
  },
  {
   "cell_type": "markdown",
   "id": "fed95074-eba0-45df-8a66-f87cc77a09bd",
   "metadata": {},
   "source": [
    "## 寻找最大间隔\n",
    "- N维空间上点到N-1维超平面的距离为$\\frac{|W^TX+b|}{||W||}$\n",
    "- 这里类标签使用{-1,+1}实际上和{0,1}等价，但是数学上会方便处理\n",
    "- 我们需要找到最小间隔的数据点，也就是支持向量。随后我们需要对间隔最大化\n",
    "$$\n",
    " arg\\max_{w,b}\\{{\\min_n(y \\cdot \\frac{W^TX+b}{||W||})}\\}\\\\\n",
    " s.t. \\quad y\\cdot(W^TX+b)\\geq 1.0\n",
    "$$\n",
    "- 对于带约束的优化问题，可以使用拉格朗日乘子法，最终优化目标函数可以简化成：\n",
    "$$\n",
    "\\max_\\alpha \\{  \\sum^m_{i=1}\\alpha_i -\\frac12\\sum^m_{i,j=1}{y^iy^j\\alpha_i \\alpha_j<x^i,x^j>} \\}\\\\\n",
    "s.t. \\quad \\alpha \\geq 0,\\sum^m_{i=1}\\alpha_i\\cdot y^i = 0\\\\\n",
    "f(x) = W^Tx+b = \\sum^m_{i=1}{\\alpha_i y_i x_i^Tx} + b\n",
    "$$\n",
    "- 至此我们有个数据必须100%线性可分，然而由于并非所有数据线性可分我们可以引入**松弛变量**，适当允许部分数据点分类错误，此时需要更新约束条件为$C\\geq \\alpha \\geq 0, \\sum^m_{i=1}\\alpha_i\\cdot y^i = 0$\n",
    "- 常数C用于控制*最大化间隔*和*保证大部分点的函数间隔小于1.0*这两个目标的权重\n",
    "- 一旦求出了$\\alpha$分割超平面可以使用alpha表示，这一结论十分直接，SVM就是求解这些$\\alpha$\n",
    "---"
   ]
  },
  {
   "cell_type": "markdown",
   "id": "73ab8b3b-55b9-4b6a-b3b1-925cd269dcee",
   "metadata": {},
   "source": [
    "## SVM的一般框架\n",
    "1. 收集数据\n",
    "2. 准备数据：数值型数据\n",
    "3. 分析数据：有助于可视化分隔超平面\n",
    "4. 训练算法：实现对两个参数的调优\n",
    "5. 测试算法\n",
    "6. 使用算法：几乎所有分类问题都可以使用SVM，值得一提的是SVM被本身是二分类器，对多分类应用需要做出一些修改"
   ]
  },
  {
   "cell_type": "markdown",
   "id": "688d7ac6-821b-49e2-b205-5e5cdc0e7336",
   "metadata": {},
   "source": [
    "# SMO（Sequential Minimal Optimization）高效算法\n",
    "- 在此，我们需要对最后两个式子进行优化，其中一个是最小化的目标函数，另个一是优化过程中需要遵循的约束\n",
    "- 早期，人们使用二次规划求解工具求解上述最优化问题，这种工具是用于在线约束下优化多个变量的二次目标函数的软件，其通过强大的算力支撑，实现也十分复杂\n",
    "- 一旦alpha的最优质的确定，我们就得到了分割超平面并能将之用于数据分类\n",
    "---\n",
    "- 1996年，John Platt发布了一个称为SMO的强大算法，用于训练SVM，其将大优化问题分解成多个小优化问题求解，小优化问题容易求解，对他们顺序求解与整体求解结果完全一致，且SMO求解时间短很多\n",
    "- 原理\n",
    "> 每次循环选两个alpha进行优化，一旦找到一对合适的alpha，增加其中一个同时减小另一个。这里的合适是两个alpha必须满足一定条件\n",
    ">- 条件之一就是这两个alpha必须要在间隔边界之外\n",
    ">- 第二个条件则是两个alpha还没有进行过区间化处理或者不在边界上\n",
    "---"
   ]
  },
  {
   "cell_type": "markdown",
   "id": "1f18bfdc-2a54-41ea-9435-72a6050c5e50",
   "metadata": {},
   "source": [
    "## 简化版的SMO\n",
    "- 首先进行简化版的SMO算法，此处虽然代码少，但执行速度慢\n",
    "- 简化版跳过了确定选择最优alpha对，而是在数据集上遍历每个alpha，然后再剩下的集合中随机选一个来构建alpha对\n",
    "- 之所以要同时改变两个alpha对，是因为我们存在约束$\\sum\\alpha_i\\cdot y^i = 0$,改变一个alpha会导致约束失效，因此需要总同时改变两个\n",
    "- 对此，我们构建一个辅助函数，用于在某个区间内随机选择一个整数，同时也要构造另一个辅助函数，用于在数值太大时对其调整"
   ]
  },
  {
   "cell_type": "code",
   "execution_count": 1,
   "id": "ccbdb83b-34d1-4b0a-908f-30dd537fed4e",
   "metadata": {},
   "outputs": [],
   "source": [
    "# 加载数据\n",
    "def loadDataSet(fileName):\n",
    "    dataMat = []\n",
    "    labelMat = []\n",
    "    fr = open(fileName)\n",
    "    for line in fr.readlines():\n",
    "        lineArr = line.strip().split('\\t')\n",
    "        dataMat.append([float(lineArr[0]),float(lineArr[1])])\n",
    "        labelMat.append(float(lineArr[2]))\n",
    "    return dataMat,labelMat\n",
    "\n",
    "import random\n",
    "# 随机选择另一个alpha\n",
    "def selectJrand(i,m):\n",
    "    j = i\n",
    "    while(j==i):\n",
    "        j = int(random.uniform(0,m))\n",
    "    return j\n",
    "\n",
    "# 调整alpha在H和L之间\n",
    "def clipAlpha(aj,H,L):\n",
    "    if aj>H:\n",
    "        aj = H\n",
    "    if aj<L:\n",
    "        aj = L\n",
    "    return aj"
   ]
  },
  {
   "cell_type": "code",
   "execution_count": 2,
   "id": "0c33a8c4-ffc0-4e73-80e2-fd8d9458ad19",
   "metadata": {},
   "outputs": [
    {
     "name": "stdout",
     "output_type": "stream",
     "text": [
      "[-1.0, -1.0, 1.0, -1.0, 1.0, 1.0, 1.0, -1.0, -1.0, -1.0, -1.0, -1.0, -1.0, 1.0, -1.0, 1.0, 1.0, -1.0, 1.0, -1.0, -1.0, -1.0, 1.0, -1.0, -1.0, 1.0, 1.0, -1.0, -1.0, -1.0, -1.0, 1.0, 1.0, 1.0, 1.0, -1.0, 1.0, -1.0, -1.0, 1.0, -1.0, -1.0, -1.0, -1.0, 1.0, 1.0, 1.0, 1.0, 1.0, -1.0, 1.0, 1.0, -1.0, -1.0, 1.0, 1.0, -1.0, 1.0, -1.0, -1.0, -1.0, -1.0, 1.0, -1.0, 1.0, -1.0, -1.0, 1.0, 1.0, 1.0, -1.0, 1.0, 1.0, -1.0, -1.0, 1.0, -1.0, 1.0, 1.0, 1.0, 1.0, 1.0, 1.0, 1.0, -1.0, -1.0, -1.0, -1.0, 1.0, -1.0, 1.0, 1.0, 1.0, -1.0, -1.0, -1.0, -1.0, -1.0, -1.0, -1.0]\n"
     ]
    }
   ],
   "source": [
    "dataArr,labelArr = loadDataSet('../data/SVM/testSet.txt')\n",
    "print(labelArr)"
   ]
  },
  {
   "cell_type": "code",
   "execution_count": 3,
   "id": "5817c303-ac38-414c-b1fb-d184dd3c498b",
   "metadata": {
    "tags": []
   },
   "outputs": [],
   "source": [
    "import numpy as np\n",
    "\n",
    "def smoSimple(dataMatIn,classLabels,C,toler,maxIter):\n",
    "    dataMatrix = np.mat(dataMatIn)\n",
    "    labelMat = np.mat(classLabels).transpose()\n",
    "    b = 0\n",
    "    m,n = dataMatrix.shape\n",
    "    alphas = np.mat(np.zeros((m,1)))\n",
    "    curIter = 0\n",
    "    while (curIter<maxIter):\n",
    "        # 用于检测alpha是否变化\n",
    "        alphaPairsChanged = 0\n",
    "        for i in range(m):\n",
    "            fxi = float( np.multiply(alphas,labelMat).T * (dataMatrix*dataMatrix[i,:].T) ) + b\n",
    "            Ei = fxi - float(labelMat[i])\n",
    "            # 检测alpha_i是否在两个间隔之外\n",
    "            if ( (labelMat[i]*Ei < -toler) and (alphas[i] < C) ) or ( (labelMat[i]*Ei > toler) and (alphas[i]>0) ):\n",
    "                j = selectJrand(i,m)\n",
    "                fxj = float( np.multiply(alphas,labelMat).T * (dataMatrix*dataMatrix[j,:].T) ) + b\n",
    "                Ej = fxj - float(labelMat[j])\n",
    "\n",
    "                alphaIold = alphas[i].copy()\n",
    "                alphaJold = alphas[j].copy()\n",
    "\n",
    "                if (labelMat[i] != labelMat[j]):\n",
    "                    k = alphas[j] - alphas[i]\n",
    "                    L = max(0,k)\n",
    "                    H = min(C,C+k)\n",
    "                else:\n",
    "                    k = alphas[j] + alphas[i]\n",
    "                    L = max(0,k-C)\n",
    "                    H = min(C,k)\n",
    "\n",
    "                if L==H:\n",
    "                    # print('L==H')\n",
    "                    continue\n",
    "                    \n",
    "                    \n",
    "                eta = 2.0 * dataMatrix[i,:] * dataMatrix[j,:].T - \\\n",
    "                        dataMatrix[i,:]*dataMatrix[i,:].T-\\\n",
    "                        dataMatrix[j,:]*dataMatrix[j,:].T\n",
    "                if eta >= 0:\n",
    "                    # print('eta >= 0')\n",
    "                    continue\n",
    "\n",
    "                alphas[j] -=labelMat[j]*(Ei-Ej)/eta\n",
    "                alphas[j] = clipAlpha(alphas[j],H,L)\n",
    "\n",
    "                if(abs(alphas[j]-alphaJold)<0.00001):\n",
    "                    # print('j not moving enough')\n",
    "                    continue\n",
    "                alphas[i] += labelMat[i]*labelMat[j]*(alphaJold-alphas[j])\n",
    "                b1 = b-Ei-labelMat[i]*(alphas[i]-alphaIold)*dataMatrix[i,:]*dataMatrix[i,:].T -\\\n",
    "                     labelMat[j]*(alphas[j]-alphaJold)*dataMatrix[i,:]*dataMatrix[j,:].T\n",
    "                b2 = b-Ej-labelMat[i]*(alphas[i]-alphaIold)*dataMatrix[i,:]*dataMatrix[j,:].T -\\\n",
    "                     labelMat[j]*(alphas[j]-alphaJold)*dataMatrix[j,:]*dataMatrix[j,:].T     \n",
    "\n",
    "                if (0<alphas[i]) and (alphas[i]<C):\n",
    "                    b = b1\n",
    "                elif (0<alphas[j]) and (alphas[j]<C):\n",
    "                    b = b2\n",
    "                else:\n",
    "                    b = (b1+b2)/2.0\n",
    "                alphaPairsChanged += 1\n",
    "                # print('iter: %d i: %d, pairs changed %d'%(curIter,i,alphaPairsChanged))\n",
    "        if (alphaPairsChanged == 0):\n",
    "            curIter += 1\n",
    "        else:\n",
    "            curIter = 0\n",
    "        # print('iteration number： %d'% curIter)     \n",
    "    return b,alphas\n"
   ]
  },
  {
   "cell_type": "code",
   "execution_count": 4,
   "id": "6c2801b6-55e5-4c23-b624-cc1a994e8d9b",
   "metadata": {},
   "outputs": [
    {
     "name": "stdout",
     "output_type": "stream",
     "text": [
      "4.3119043 seconds process time\n"
     ]
    }
   ],
   "source": [
    "import time\n",
    "\n",
    "t0 = time.clock()\n",
    "b,alphas = smoSimple(dataArr, labelArr, 0.6, 0.001, 40)\n",
    "print(time.clock() - t0, \"seconds process time\")"
   ]
  },
  {
   "cell_type": "code",
   "execution_count": 5,
   "id": "49a8e8bf-3133-491f-97e1-fd3399b01413",
   "metadata": {},
   "outputs": [
    {
     "data": {
      "text/plain": [
       "matrix([[-3.77297324]])"
      ]
     },
     "execution_count": 5,
     "metadata": {},
     "output_type": "execute_result"
    }
   ],
   "source": [
    "b"
   ]
  },
  {
   "cell_type": "code",
   "execution_count": 6,
   "id": "1757fe8c-bac4-4d52-8814-f18914cf0cfd",
   "metadata": {},
   "outputs": [
    {
     "data": {
      "text/plain": [
       "matrix([[0.16820858, 0.09993403, 0.09437796, 0.36252057]])"
      ]
     },
     "execution_count": 6,
     "metadata": {},
     "output_type": "execute_result"
    }
   ],
   "source": [
    "alphas[alphas>0]"
   ]
  },
  {
   "cell_type": "code",
   "execution_count": 7,
   "id": "9d387623-cf99-40fc-988d-b9acf3f36b59",
   "metadata": {},
   "outputs": [
    {
     "name": "stdout",
     "output_type": "stream",
     "text": [
      "[4.658191, 3.507396] -1.0\n",
      "[3.457096, -0.082216] -1.0\n",
      "[2.893743, -1.643468] -1.0\n",
      "[6.080573, 0.418886] 1.0\n"
     ]
    }
   ],
   "source": [
    "for i in range(100):\n",
    "    if alphas[i]>0:\n",
    "        print(dataArr[i],labelArr[i])"
   ]
  }
 ],
 "metadata": {
  "kernelspec": {
   "display_name": "Python [conda env:ML] *",
   "language": "python",
   "name": "conda-env-ML-py"
  },
  "language_info": {
   "codemirror_mode": {
    "name": "ipython",
    "version": 3
   },
   "file_extension": ".py",
   "mimetype": "text/x-python",
   "name": "python",
   "nbconvert_exporter": "python",
   "pygments_lexer": "ipython3",
   "version": "3.6.13"
  }
 },
 "nbformat": 4,
 "nbformat_minor": 5
}
