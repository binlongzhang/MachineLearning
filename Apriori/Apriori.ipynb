{
 "cells": [
  {
   "cell_type": "markdown",
   "id": "955a47dc-73ea-4a9c-96a9-a5e36dca0631",
   "metadata": {},
   "source": [
    "# 关联分析\n",
    "从大规模数据集中寻找对象之间的隐含关系被称为关联分析(association analysis)或者关联规则学习(association rule learning)。这里的问题在于寻找不同组合是十分耗时的，所需的计算代价很高，所以需要更智能的方法在合理的时间范围内找到频繁项集\n",
    "- 关联分析是一种在大规模数据集中寻找有趣关系的任务，其有两种形式\n",
    "    - 频繁项集(frequent item sets): 经常出现在一块的物品的集合\n",
    "    - 关联规则(association rules): 暗示了两种物品之间可能存在很强的关系\n",
    "- 一个项集的支持度(support)被定义为数据集中包含该项集的记录所占比例\n",
    "- 置信度是针对一条关联规则定义的。定义某个元素出现的条件下另一个元素出现的概率\n"
   ]
  },
  {
   "cell_type": "markdown",
   "id": "d52159bc-8d58-49fc-84bd-a3fae09feda4",
   "metadata": {},
   "source": [
    "# Apriori\n",
    "> Apriori原理是说某个项集是频繁的，那么其子集也是频繁的，反过来一个项集是非频繁的，那么其超集也是非频繁的。\n",
    "\n",
    "- Aprior等价于a priori表示一个先验。使用该原理可以避免项集指数增长\n",
    "- Apriori算法是发现频繁项集的一种方法\n",
    "- 算法流程\n",
    "    1. 首先生成所有单个物品的项集列表\n",
    "    2. 扫描交易记录查看哪些项集满足最小支持度要，去掉不满足的项\n",
    "    3. 对剩下的集合进行组合生成包含两个元素的项集\n",
    "    4. 重复直到所有项集被去掉"
   ]
  },
  {
   "cell_type": "code",
   "execution_count": 1,
   "id": "206afd2e-d560-430c-b4d4-c8cc51c86e2f",
   "metadata": {},
   "outputs": [],
   "source": [
    "import numpy as np\n",
    "\n",
    "def loadDataSet():\n",
    "    return [[1,3,4],[2,3,5],[1,2,3,5],[2,5]]\n",
    "\n",
    "def createC1(dataSet):\n",
    "    C1 = []\n",
    "    for transaction in dataSet:\n",
    "        for item in transaction:\n",
    "            if not [item] in C1:\n",
    "                C1.append([item])\n",
    "    C1.sort()\n",
    "    # 对C1中的每个项构建一个不变集合\n",
    "    return list(map(frozenset,C1))\n",
    "\n",
    "def scanD(D,Ck,minSupport):\n",
    "    ssCnt = {}\n",
    "    for tid in D:\n",
    "        for can in Ck:\n",
    "            if can.issubset(tid):\n",
    "                if can not in ssCnt:\n",
    "                    ssCnt[can] = 1\n",
    "                else:\n",
    "                    ssCnt[can] += 1\n",
    "    numItems = float(len(D))\n",
    "    retList = []\n",
    "    supportData = {}\n",
    "    for key in ssCnt:\n",
    "        support = ssCnt[key]/numItems\n",
    "        if support >= minSupport:\n",
    "            retList.insert(0,key)\n",
    "        supportData[key] = support\n",
    "    return retList,supportData"
   ]
  },
  {
   "cell_type": "code",
   "execution_count": 2,
   "id": "ef665df5-2a7b-4fef-b141-f69ae35d16e3",
   "metadata": {},
   "outputs": [
    {
     "data": {
      "text/plain": [
       "[[1, 3, 4], [2, 3, 5], [1, 2, 3, 5], [2, 5]]"
      ]
     },
     "execution_count": 2,
     "metadata": {},
     "output_type": "execute_result"
    }
   ],
   "source": [
    "dataSet = loadDataSet()\n",
    "dataSet"
   ]
  },
  {
   "cell_type": "code",
   "execution_count": 3,
   "id": "9a041d8e-2063-403a-90e6-20623a389f56",
   "metadata": {},
   "outputs": [
    {
     "data": {
      "text/plain": [
       "[{1, 3, 4}, {2, 3, 5}, {1, 2, 3, 5}, {2, 5}]"
      ]
     },
     "execution_count": 3,
     "metadata": {},
     "output_type": "execute_result"
    }
   ],
   "source": [
    "D = list(map(set,dataSet))\n",
    "D"
   ]
  },
  {
   "cell_type": "code",
   "execution_count": 4,
   "id": "b32d0d3c-5195-4dbe-83d7-28ae529f8217",
   "metadata": {},
   "outputs": [
    {
     "data": {
      "text/plain": [
       "[frozenset({1}),\n",
       " frozenset({2}),\n",
       " frozenset({3}),\n",
       " frozenset({4}),\n",
       " frozenset({5})]"
      ]
     },
     "execution_count": 4,
     "metadata": {},
     "output_type": "execute_result"
    }
   ],
   "source": [
    "C1 = createC1(dataSet)\n",
    "C1"
   ]
  },
  {
   "cell_type": "code",
   "execution_count": 5,
   "id": "5efb4a2f-1a9c-40ff-a443-428c353b84b5",
   "metadata": {},
   "outputs": [
    {
     "data": {
      "text/plain": [
       "[frozenset({5}), frozenset({2}), frozenset({3}), frozenset({1})]"
      ]
     },
     "execution_count": 5,
     "metadata": {},
     "output_type": "execute_result"
    }
   ],
   "source": [
    "L1,suppData0 = scanD(D,C1,0.5)\n",
    "L1"
   ]
  },
  {
   "cell_type": "markdown",
   "id": "8a2bbcda-f657-4a10-a404-ff1e39cc9e61",
   "metadata": {},
   "source": [
    "---"
   ]
  },
  {
   "cell_type": "code",
   "execution_count": 6,
   "id": "f08ec4f2-912c-4460-8872-8f4388d97b4c",
   "metadata": {},
   "outputs": [],
   "source": [
    "def apriorGen(Lk,k):\n",
    "    retList = []\n",
    "    lenLk = len(Lk)\n",
    "    for i in range(lenLk):\n",
    "        for j in range(i+1,lenLk):\n",
    "            L1 = list(Lk[i])[:k-2]\n",
    "            L2 = list(Lk[j])[:k-2]\n",
    "            L1.sort()\n",
    "            L2.sort()\n",
    "            if L1==L2:\n",
    "                retList.append(Lk[i] | Lk[j])\n",
    "    return retList"
   ]
  },
  {
   "cell_type": "code",
   "execution_count": 7,
   "id": "1b4c9346-06c2-4575-ab21-26ad92bbff49",
   "metadata": {},
   "outputs": [],
   "source": [
    "def apriori(dataSet,minSupport=0.5):\n",
    "    C1 = createC1(dataSet)\n",
    "    D = list(map(set,dataSet))\n",
    "    L1,supportData = scanD(D,C1,minSupport)\n",
    "    L = [L1]\n",
    "    k=2\n",
    "    while (len(L[k-2])>0 ):\n",
    "        Ck = apriorGen(L[k-2],k)\n",
    "        Lk,supK = scanD(D,Ck,minSupport)\n",
    "        supportData.update(supK)\n",
    "        L.append(Lk)\n",
    "        k += 1\n",
    "    return L,supportData"
   ]
  },
  {
   "cell_type": "code",
   "execution_count": 8,
   "id": "612c8758-8aeb-49a0-aa53-0365ccbe64db",
   "metadata": {},
   "outputs": [
    {
     "data": {
      "text/plain": [
       "[[frozenset({5}), frozenset({2}), frozenset({3}), frozenset({1})],\n",
       " [frozenset({2, 3}), frozenset({3, 5}), frozenset({2, 5}), frozenset({1, 3})],\n",
       " [frozenset({2, 3, 5})],\n",
       " []]"
      ]
     },
     "execution_count": 8,
     "metadata": {},
     "output_type": "execute_result"
    }
   ],
   "source": [
    "L,suppData = apriori(dataSet)\n",
    "L"
   ]
  },
  {
   "cell_type": "markdown",
   "id": "e68a69e7-d4c8-40b6-9c28-4075798267f8",
   "metadata": {},
   "source": [
    "**L包含最小支持度为0.5的频繁项列表**"
   ]
  },
  {
   "cell_type": "code",
   "execution_count": 9,
   "id": "a36318f1-b60f-4bdf-bbe2-b75d63d335ca",
   "metadata": {},
   "outputs": [
    {
     "data": {
      "text/plain": [
       "[[frozenset({5}), frozenset({2}), frozenset({3})], [frozenset({2, 5})], []]"
      ]
     },
     "execution_count": 9,
     "metadata": {},
     "output_type": "execute_result"
    }
   ],
   "source": [
    "L,suppData = apriori(dataSet,0.7)\n",
    "L"
   ]
  },
  {
   "cell_type": "code",
   "execution_count": 10,
   "id": "8fdda131-58b8-45a4-98aa-6dd58b410ccf",
   "metadata": {},
   "outputs": [
    {
     "data": {
      "text/plain": [
       "{frozenset({1}): 0.5,\n",
       " frozenset({3}): 0.75,\n",
       " frozenset({4}): 0.25,\n",
       " frozenset({2}): 0.75,\n",
       " frozenset({5}): 0.75,\n",
       " frozenset({2, 5}): 0.75,\n",
       " frozenset({3, 5}): 0.5,\n",
       " frozenset({2, 3}): 0.5}"
      ]
     },
     "execution_count": 10,
     "metadata": {},
     "output_type": "execute_result"
    }
   ],
   "source": [
    "suppData"
   ]
  },
  {
   "cell_type": "markdown",
   "id": "4065b3d3-5a76-40bc-93be-5dc8fe76f0a4",
   "metadata": {},
   "source": [
    "# 从频繁项集中挖掘关联规则\n",
    "- 类似的，如果某条规则不满足最小可信度要求，那么该规则的所有子集也不会满足最小可信度要求\n",
    "    - 可以首先从一个频繁项集开始，接着创建一个规则列表其中规则右边只包含一个元素，然后对其测试\n",
    "    - 接下来合并所有剩余规则，规则右边包含两个元素\n",
    "    - 这种方法称为**分级法**"
   ]
  },
  {
   "cell_type": "code",
   "execution_count": 11,
   "id": "5e0ecf63-a7c4-4a54-8918-62a20d1990da",
   "metadata": {},
   "outputs": [],
   "source": [
    "def calcConf(freqSet,H,supportData,brl,minConf=0.7):\n",
    "    prunedH = []\n",
    "    for conseq in H:\n",
    "        conf = supportData[freqSet]/supportData[freqSet-conseq]\n",
    "        if conf >= minConf:\n",
    "            print(freqSet-conseq,'-->',conseq,'conf:',conf)\n",
    "            brl.append((freqSet-conseq,conseq,conf))\n",
    "            prunedH.append(conseq)\n",
    "    return prunedH\n",
    "\n",
    "def rulesFromConseq(freqSet,H,supportData,brl,minConf=0.7):\n",
    "    m = len(H[0])\n",
    "    if (len(freqSet) > (1+m)):\n",
    "        Hmp1 = apriorGen(H,m+1)\n",
    "        Hmp1 = calcConf(freqSet,Hmp1,supportData,brl,minConf)\n",
    "        if (len(Hmp1)>1):\n",
    "            rulesFromConseq(freqSet,Hmp1,supportData,brl,minConf)\n",
    "\n",
    "def generateRules(L,supportData,minConf=0.7):\n",
    "    bigRuleList = []\n",
    "    for i in range(1,len(L)):\n",
    "        for freqSet in L[i]:\n",
    "            H1 = [frozenset([item]) for item in freqSet]\n",
    "            if (i>1):\n",
    "                rulesFromConseq(freqSet,H1,supportData,bigRuleList,minConf)\n",
    "            else:\n",
    "                calcConf(freqSet,H1,supportData,bigRuleList,minConf)\n",
    "    return bigRuleList"
   ]
  },
  {
   "cell_type": "code",
   "execution_count": 12,
   "id": "9953babf-bcc4-46a6-a6b4-f0b286026e25",
   "metadata": {},
   "outputs": [
    {
     "data": {
      "text/plain": [
       "[[frozenset({5}), frozenset({2}), frozenset({3}), frozenset({1})],\n",
       " [frozenset({2, 3}), frozenset({3, 5}), frozenset({2, 5}), frozenset({1, 3})],\n",
       " [frozenset({2, 3, 5})],\n",
       " []]"
      ]
     },
     "execution_count": 12,
     "metadata": {},
     "output_type": "execute_result"
    }
   ],
   "source": [
    "L,suppData = apriori(dataSet,0.5)\n",
    "L"
   ]
  },
  {
   "cell_type": "code",
   "execution_count": 13,
   "id": "db72fd93-da33-46bb-abaa-8e903de82351",
   "metadata": {},
   "outputs": [
    {
     "name": "stdout",
     "output_type": "stream",
     "text": [
      "frozenset({5}) --> frozenset({2}) conf: 1.0\n",
      "frozenset({2}) --> frozenset({5}) conf: 1.0\n",
      "frozenset({1}) --> frozenset({3}) conf: 1.0\n"
     ]
    }
   ],
   "source": [
    "rules = generateRules(L,suppData,minConf=0.7)"
   ]
  },
  {
   "cell_type": "code",
   "execution_count": 14,
   "id": "9f5b7061-8aa2-4869-9270-3e43ee6c6703",
   "metadata": {},
   "outputs": [
    {
     "name": "stdout",
     "output_type": "stream",
     "text": [
      "frozenset({3}) --> frozenset({2}) conf: 0.6666666666666666\n",
      "frozenset({2}) --> frozenset({3}) conf: 0.6666666666666666\n",
      "frozenset({5}) --> frozenset({3}) conf: 0.6666666666666666\n",
      "frozenset({3}) --> frozenset({5}) conf: 0.6666666666666666\n",
      "frozenset({5}) --> frozenset({2}) conf: 1.0\n",
      "frozenset({2}) --> frozenset({5}) conf: 1.0\n",
      "frozenset({3}) --> frozenset({1}) conf: 0.6666666666666666\n",
      "frozenset({1}) --> frozenset({3}) conf: 1.0\n",
      "frozenset({5}) --> frozenset({2, 3}) conf: 0.6666666666666666\n",
      "frozenset({3}) --> frozenset({2, 5}) conf: 0.6666666666666666\n",
      "frozenset({2}) --> frozenset({3, 5}) conf: 0.6666666666666666\n"
     ]
    }
   ],
   "source": [
    "rules = generateRules(L,suppData,minConf=0.5)"
   ]
  },
  {
   "cell_type": "markdown",
   "id": "211d30ea-4e7b-4cf3-abde-90eb0d00b1b6",
   "metadata": {},
   "source": [
    "# e.g. 发现毒蘑菇的相似特征"
   ]
  },
  {
   "cell_type": "code",
   "execution_count": 15,
   "id": "09941189-77e3-484a-9970-ee7833b289cb",
   "metadata": {},
   "outputs": [],
   "source": [
    "mushDatSet = [line.split() for line in open('../data/Apriori/mushroom.dat').readlines()]"
   ]
  },
  {
   "cell_type": "code",
   "execution_count": 16,
   "id": "3832d87a-73f8-4cd3-a6f6-80487469ecfa",
   "metadata": {},
   "outputs": [],
   "source": [
    "L,suppData = apriori(mushDatSet,minSupport=0.3)"
   ]
  },
  {
   "cell_type": "code",
   "execution_count": 17,
   "id": "521d7238-6181-4238-ab58-f74d3cb1da35",
   "metadata": {},
   "outputs": [
    {
     "name": "stdout",
     "output_type": "stream",
     "text": [
      "frozenset({'28', '2'})\n",
      "frozenset({'2', '53'})\n",
      "frozenset({'2', '23'})\n",
      "frozenset({'34', '2'})\n",
      "frozenset({'36', '2'})\n",
      "frozenset({'59', '2'})\n",
      "frozenset({'2', '63'})\n",
      "frozenset({'2', '67'})\n",
      "frozenset({'2', '76'})\n",
      "frozenset({'2', '85'})\n",
      "frozenset({'86', '2'})\n",
      "frozenset({'90', '2'})\n",
      "frozenset({'93', '2'})\n",
      "frozenset({'39', '2'})\n"
     ]
    }
   ],
   "source": [
    "for item in L[1]:\n",
    "    if item.intersection('2'):\n",
    "        print(item)"
   ]
  },
  {
   "cell_type": "code",
   "execution_count": null,
   "id": "f1d85745-65a4-4abc-80b2-58a27efc8091",
   "metadata": {},
   "outputs": [],
   "source": []
  }
 ],
 "metadata": {
  "kernelspec": {
   "display_name": "Python [conda env:ML] *",
   "language": "python",
   "name": "conda-env-ML-py"
  },
  "language_info": {
   "codemirror_mode": {
    "name": "ipython",
    "version": 3
   },
   "file_extension": ".py",
   "mimetype": "text/x-python",
   "name": "python",
   "nbconvert_exporter": "python",
   "pygments_lexer": "ipython3",
   "version": "3.6.13"
  }
 },
 "nbformat": 4,
 "nbformat_minor": 5
}
