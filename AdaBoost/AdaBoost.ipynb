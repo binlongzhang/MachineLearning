{
 "cells": [
  {
   "cell_type": "markdown",
   "id": "7aef58a7-46a9-410b-ba55-5e24db345f96",
   "metadata": {},
   "source": [
    "# Ensemble Learning\n",
    "我们可以将不同分类器组合，这种组合结果被称为Ensemble Method 或者 meta-algorithm，这种集成通常有多种形式\n",
    "- 不同算法集成\n",
    "- 同一算法不同设置下的集成\n",
    "- 数据集不同部分分给不同分类器\n",
    "\n",
    "## bagging\n",
    "- 基于数据随机重抽样的分类器构建方法，也叫作Bootstrap aggregating，指从原始数据集选择S次后得到S个新的数据集的一种技术。\n",
    "- 新数据集和原始数据集大小相等，每个数据集都通过在原始数据集中随机选择一个样本替换获得，可以多次选择同一样本\n",
    "- S个数据集建好之后，将某个学习算法分别用于每个数据集，获得S个分类器，分类时则用这S个分类器进行分类，选择分类器投票结果中类别最多的作为最终分类结果\n",
    "\n",
    "## boosting\n",
    "- 与bagging技术很类似，但bagging中多个分类器并行获得。boosting的不同分类器则是串行获得，每个新的分类器根据已经训练出的分类器性能进行训练。boosting通过几种关注被错误分类的数据构建新分类器\n",
    "- boosting分类结果是基于所有分类器加权求和的结果，bagging中多个分类器的权重不相等，每个权重代表其对应分类器在上一轮迭代中的成功度\n",
    "\n"
   ]
  },
  {
   "cell_type": "markdown",
   "id": "b925f030-0030-4891-b33d-378385f666ca",
   "metadata": {},
   "source": [
    "# AdaBoost\n",
    "- 优点: 泛化错误率地，易于编码，可以应用在大部分分类器上，无参数调整\n",
    "- 缺点: 对离群点\n",
    "- 使用数据类型：数值型和标称型数据\n",
    "\n",
    "**一般流程**\n",
    "1. 收集数据\n",
    "2. 准备数据：依赖于所使用弱分类器类型，作为弱分类器，简单分类器效果更好\n",
    "3. 分析数据\n",
    "4. 训练算法: 分类器多次在统一数据集上训练弱分类器\n",
    "5. 测试算法\n",
    "6. 使用算法：通SVM一样AdaBoost是做二分类的，如果想应用于多分类，需要通svm一样做出相应的扩展"
   ]
  },
  {
   "cell_type": "markdown",
   "id": "2d55707c-7ac0-4cc6-af20-46fce27ef19d",
   "metadata": {},
   "source": [
    "**基于错误提升分类器性能**\n",
    "- AdaBoost是adaptive boosting缩写，训练数据中的每个样本都会被赋予一个权重组成权重向量D，初始时权重都初始化为等值\n",
    "- 先在弱分类器训练计算对应的错误率，然后在同一数据集上在此训练弱分类器，第二次训练过程中会调整每个样本的权重，第一次分类对的样本权重会降低，分类错的权重会提高\n",
    "- 为了从所有弱分类器中获得最终分类结果，AdaBoost为每个分类器分配了一个权重值alpha，这些alpha是基于每个弱分类器的错误率进行计算的，其中错误率定义为\n",
    "$$\n",
    "\\varepsilon = \\frac{未正确分类样本数}{所有样本数}\\\\\n",
    "\\alpha = \\frac12 ln(\\frac{1-\\varepsilon}\\varepsilon)\n",
    "$$\n",
    "- 获得alpha后，可以对权重向量D进行更新，使得正确分类的样本权重降低而错分样本权重升高，D的计算方法如下\n",
    "$$\n",
    "正确样本：D^{t+1}_t = \\frac{D^t_i e^{-\\alpha}}{sum(D)}\\\\\n",
    "错误样本：D^{t+1}_t = \\frac{D^t_i e^{\\alpha}}{sum(D)}\n",
    "$$\n",
    "- 随后不断迭代，直到到达用户指定值"
   ]
  },
  {
   "cell_type": "markdown",
   "id": "327aaaeb-79be-47d3-9a21-532372f701e9",
   "metadata": {},
   "source": [
    "## 单层决策树构建弱分类器\n",
    "仅基于单个特征来做决策"
   ]
  },
  {
   "cell_type": "code",
   "execution_count": 1,
   "id": "044bd6a8-1cae-40d2-8b91-154627a690e4",
   "metadata": {},
   "outputs": [],
   "source": [
    "import numpy as np\n",
    "import matplotlib.pyplot as plt\n",
    "\n",
    "def loadSimpData():\n",
    "    dataMat = np.matrix([[ 1. ,  2.1],\n",
    "            [ 2.0,  1.1],\n",
    "            [ 1.3,  1.0 ],\n",
    "            [ 1. ,  1. ],\n",
    "            [ 2. ,  1. ]])\n",
    "    classLabels = [1.0, 1.0, -1.0, -1.0, 1.0]\n",
    "    return dataMat,classLabels"
   ]
  },
  {
   "cell_type": "code",
   "execution_count": 2,
   "id": "199ab4b2-2cc7-4fa6-8cb2-ef4d4cb4e952",
   "metadata": {},
   "outputs": [
    {
     "data": {
      "text/plain": [
       "matrix([[1. , 2.1],\n",
       "        [2. , 1.1],\n",
       "        [1.3, 1. ],\n",
       "        [1. , 1. ],\n",
       "        [2. , 1. ]])"
      ]
     },
     "execution_count": 2,
     "metadata": {},
     "output_type": "execute_result"
    }
   ],
   "source": [
    "dataMat,classLabels = loadSimpData()\n",
    "dataMat"
   ]
  },
  {
   "cell_type": "code",
   "execution_count": 3,
   "id": "756436c2-ec29-4886-81ff-ba98132ebd61",
   "metadata": {},
   "outputs": [
    {
     "data": {
      "image/png": "[encoded data removed]",
      "text/plain": [
       "<Figure size 432x288 with 1 Axes>"
      ]
     },
     "metadata": {
      "needs_background": "light"
     },
     "output_type": "display_data"
    }
   ],
   "source": [
    "# 数据可视化\n",
    "def datashow(dataMat,classLabels):\n",
    "    xcord0 = []\n",
    "    ycord0 = []\n",
    "    xcord1 = []\n",
    "    ycord1 = []\n",
    "    markers =[]\n",
    "    colors =[]\n",
    "\n",
    "    for i in range(len(classLabels)):\n",
    "        i\n",
    "        if classLabels[i]==1.0:\n",
    "            xcord1.append(dataMat[i,0])\n",
    "            ycord1.append(dataMat[i,1])\n",
    "        else:\n",
    "            xcord0.append(dataMat[i,0])\n",
    "            ycord0.append(dataMat[i,1])\n",
    "    fig = plt.figure()\n",
    "    ax = fig.add_subplot(111)       \n",
    "    ax.scatter(xcord0,ycord0, marker='s', s=90)\n",
    "    ax.scatter(xcord1,ycord1, marker='o', s=50, c='red')\n",
    "    plt.title('decision stump test data')\n",
    "    plt.show()\n",
    "\n",
    "datashow(dataMat,classLabels)"
   ]
  },
  {
   "cell_type": "code",
   "execution_count": 4,
   "id": "3ae013b4-e296-4a39-8f6a-ebf55f8d191d",
   "metadata": {},
   "outputs": [],
   "source": [
    "# 分类数据\n",
    "def stumpClassify(dataMatrix,dimen,threshVal,threshIneq):\n",
    "    retArray = np.ones( (np.shape(dataMatrix)[0],1) )\n",
    "    if threshIneq == 'lt':\n",
    "        retArray[dataMatrix[:,dimen] <= threshVal]  = -1.0\n",
    "    else:\n",
    "        retArray[dataMatrix[:,dimen] > threshVal]  = -1.0\n",
    "    return retArray"
   ]
  },
  {
   "cell_type": "code",
   "execution_count": 5,
   "id": "3b3b83f6-a439-4d8c-8ff7-bdd3ccb4e23c",
   "metadata": {},
   "outputs": [],
   "source": [
    "def buildStump(dataArr,classLabels,D):\n",
    "    dataMatrix = np.mat(dataArr)\n",
    "    labelMat = np.mat(classLabels).T\n",
    "    m,n = np.shape(dataMatrix)\n",
    "    \n",
    "    numSteps = 10\n",
    "    bestStump = {}\n",
    "    bestClasEst = np.mat(np.zeros((m,1)))\n",
    "    # 初始化最小err\n",
    "    minError = np.inf\n",
    "    for i in range(n):\n",
    "        rangeMin = dataMatrix[:,i].min()\n",
    "        rangeMax = dataMatrix[:,i].max()\n",
    "        stepSize = (rangeMax-rangeMin)/numSteps\n",
    "        for j in range(-1,int(numSteps)+1):\n",
    "            # 用小于和大于两种方式检测，寻找最合适分类\n",
    "            for inequal in ['lt','gt']:\n",
    "                threshVal = (rangeMin + float(j) * stepSize)\n",
    "                predictedVals = stumpClassify(dataMatrix,i,threshVal,inequal)\n",
    "                errArr = np.mat(np.ones((m,1)))\n",
    "                errArr[predictedVals==labelMat] = 0\n",
    "                # 获取加权错误率\n",
    "                weightedError = D.T * errArr\n",
    "                # print(\"split: dim %d, thresh %.2f, thresh ineqal: %s, the weighted error is %.3f\" % (i, threshVal, inequal, weightedError))\n",
    "                if weightedError < minError:\n",
    "                    minError = weightedError\n",
    "                    bestClasEst = predictedVals.copy()\n",
    "                    bestStump['dim'] = i\n",
    "                    bestStump['thresh'] = threshVal\n",
    "                    bestStump['ineq'] = inequal\n",
    "    return bestStump,minError,bestClasEst"
   ]
  },
  {
   "cell_type": "code",
   "execution_count": 6,
   "id": "5ee39f49-6716-493b-bdbd-3463d72f1d9a",
   "metadata": {},
   "outputs": [
    {
     "data": {
      "text/plain": [
       "({'dim': 0, 'thresh': 1.3, 'ineq': 'lt'},\n",
       " matrix([[0.2]]),\n",
       " array([[-1.],\n",
       "        [ 1.],\n",
       "        [-1.],\n",
       "        [-1.],\n",
       "        [ 1.]]))"
      ]
     },
     "execution_count": 6,
     "metadata": {},
     "output_type": "execute_result"
    }
   ],
   "source": [
    "D = np.mat(np.ones((5,1))/5)\n",
    "buildStump(dataMat,classLabels,D)"
   ]
  },
  {
   "cell_type": "markdown",
   "id": "be177153-b269-4b5b-a01d-2741332680cc",
   "metadata": {},
   "source": [
    "## 完整AdaBoost实现\n",
    "**函数尾部的名称是单层决策树（decision stump）,其是AdaBoost中最流行的弱分类器，但并非唯一可用的弱分类器，实际上任何分类器都可以作为基分类器**"
   ]
  },
  {
   "cell_type": "code",
   "execution_count": 7,
   "id": "be6db316-d359-4b3e-93e5-669c3e581671",
   "metadata": {},
   "outputs": [],
   "source": [
    "# 训练分类器\n",
    "def adaBoostTrainDS(dataArr,classLabels,numIt=40):\n",
    "    weakClassArr = []\n",
    "    m = np.shape(dataArr)[0]\n",
    "    D = np.mat(np.ones((m,1))/m)\n",
    "    aggClassEst = np.mat(np.zeros((m,1)))\n",
    "    for i in range(numIt):\n",
    "        bestStump,error,classEst = buildStump(dataArr,classLabels,D)\n",
    "        # print(\"D:\"+str(D.T))\n",
    "\n",
    "        # 修正数据权重\n",
    "        # 简单处理除0问题\n",
    "        alpha = float(0.5*np.log((1.0-error)/max(error,1e-6)))\n",
    "        bestStump['alpha'] = alpha\n",
    "        weakClassArr.append(bestStump)\n",
    "        # print('classEst: ',classEst.T)\n",
    "        expon = np.multiply(-1*alpha*np.mat(classLabels).T,classEst)\n",
    "        D = np.multiply(D,np.exp(expon))\n",
    "        D = D/D.sum()\n",
    "\n",
    "        aggClassEst += alpha*classEst\n",
    "        # print('aggClassEst: ',aggClassEst.T)\n",
    "        aggErrors = np.multiply(np.sign(aggClassEst)!=np.mat(classLabels).T, np.ones((m,1)))\n",
    "        errorRate = aggErrors.sum()/m\n",
    "        # print('total Error',errorRate)\n",
    "        if errorRate == 0:\n",
    "            break\n",
    "    return weakClassArr"
   ]
  },
  {
   "cell_type": "code",
   "execution_count": 8,
   "id": "ce28823d-692f-42d1-952d-0c27671ea1d6",
   "metadata": {},
   "outputs": [],
   "source": [
    "classifierArr = adaBoostTrainDS(dataMat,classLabels,9)"
   ]
  },
  {
   "cell_type": "code",
   "execution_count": 9,
   "id": "f5582b47-1232-44cd-b5c0-911d9d57b1f0",
   "metadata": {},
   "outputs": [
    {
     "data": {
      "text/plain": [
       "[{'dim': 0, 'thresh': 1.3, 'ineq': 'lt', 'alpha': 0.6931471805599453},\n",
       " {'dim': 1, 'thresh': 1.0, 'ineq': 'lt', 'alpha': 0.9729550745276565},\n",
       " {'dim': 0, 'thresh': 0.9, 'ineq': 'lt', 'alpha': 0.8958797346140273}]"
      ]
     },
     "execution_count": 9,
     "metadata": {},
     "output_type": "execute_result"
    }
   ],
   "source": [
    "classifierArr"
   ]
  },
  {
   "cell_type": "markdown",
   "id": "2cf05e14-bb17-442c-b082-c59b520146ce",
   "metadata": {},
   "source": [
    "## 测试算法"
   ]
  },
  {
   "cell_type": "code",
   "execution_count": 10,
   "id": "975f530b-f8bb-471b-821c-1232d0d15b1d",
   "metadata": {},
   "outputs": [],
   "source": [
    "def adaClassify(datToClass,classifierArr):\n",
    "    dataMatrix = np.mat(datToClass)\n",
    "    m = np.shape(dataMatrix)[0]\n",
    "    aggClassEst = np.mat(np.zeros((m,1)))\n",
    "    for i in range(len(classifierArr)):\n",
    "        classEst = stumpClassify(dataMatrix,classifierArr[i]['dim'],\\\n",
    "                                classifierArr[i]['thresh'],\\\n",
    "                                classifierArr[i]['ineq'])\n",
    "        aggClassEst += classifierArr[i]['alpha']*classEst\n",
    "        # print(aggClassEst)\n",
    "    return np.sign(aggClassEst)"
   ]
  },
  {
   "cell_type": "code",
   "execution_count": 11,
   "id": "13707ca8-b3eb-4e3b-af8b-c97a29eb1449",
   "metadata": {},
   "outputs": [
    {
     "data": {
      "text/plain": [
       "matrix([[-1.]])"
      ]
     },
     "execution_count": 11,
     "metadata": {},
     "output_type": "execute_result"
    }
   ],
   "source": [
    "adaClassify([0,0],classifierArr)"
   ]
  },
  {
   "cell_type": "code",
   "execution_count": 12,
   "id": "70ce083f-65c9-458e-a10f-f77f743052ca",
   "metadata": {},
   "outputs": [
    {
     "data": {
      "text/plain": [
       "matrix([[1.]])"
      ]
     },
     "execution_count": 12,
     "metadata": {},
     "output_type": "execute_result"
    }
   ],
   "source": [
    "adaClassify([5,5],classifierArr)"
   ]
  },
  {
   "cell_type": "markdown",
   "id": "9eaa64a2-30af-493c-b72b-299b7253b201",
   "metadata": {},
   "source": [
    "# AdaBoost示例\n",
    "在马疝病数据集上应用AdaBoost分类器\n",
    "\n",
    "**流程**\n",
    "1. 收集数据\n",
    "2. 确保数据标签是+1和-1\n",
    "3. 分析数据\n",
    "4. 训练算法\n",
    "5. 我们有两个数据集，在不采用随机抽样的方法下，我们对AdaBoost和Logistic回归的结构进行比较\n",
    "6. 使用算法：例如可以建立web网站让驯马师预测马死亡情况"
   ]
  },
  {
   "cell_type": "code",
   "execution_count": 13,
   "id": "1d1c9971-3066-42ff-9a77-3547998f1572",
   "metadata": {},
   "outputs": [],
   "source": [
    "def loadDataSet(fileName):\n",
    "    numFeat = len(open(fileName).readline().split('\\t'))\n",
    "    dataMat = []\n",
    "    labelMat = []\n",
    "    fr = open(fileName)\n",
    "    for line in fr.readlines():\n",
    "        lineArr = [] \n",
    "        curLine = line.strip().split('\\t')\n",
    "        for i in range(numFeat-1):\n",
    "            lineArr.append(float(curLine[i]))\n",
    "        dataMat.append(lineArr)\n",
    "        labelMat.append(float(curLine[-1]))\n",
    "    return dataMat,labelMat"
   ]
  },
  {
   "cell_type": "code",
   "execution_count": 14,
   "id": "ba9419a8-5331-4734-9473-a53d8cd3d932",
   "metadata": {},
   "outputs": [],
   "source": [
    "datArr,labelArr = loadDataSet('../data/AdaBoost/horseColicTraining2.txt')\n",
    "classifierArray = adaBoostTrainDS(datArr,labelArr,10)"
   ]
  },
  {
   "cell_type": "code",
   "execution_count": 15,
   "id": "ed304b5d-c344-49fd-ac36-65d379f0c42a",
   "metadata": {},
   "outputs": [
    {
     "data": {
      "text/plain": [
       "[{'dim': 9, 'thresh': 3.0, 'ineq': 'gt', 'alpha': 0.4616623792657674},\n",
       " {'dim': 17, 'thresh': 52.5, 'ineq': 'gt', 'alpha': 0.31248245042467104},\n",
       " {'dim': 3,\n",
       "  'thresh': 55.199999999999996,\n",
       "  'ineq': 'gt',\n",
       "  'alpha': 0.2868097320169577},\n",
       " {'dim': 18,\n",
       "  'thresh': 62.300000000000004,\n",
       "  'ineq': 'lt',\n",
       "  'alpha': 0.23297004638939506},\n",
       " {'dim': 10, 'thresh': 0.0, 'ineq': 'lt', 'alpha': 0.19803846151213741},\n",
       " {'dim': 5, 'thresh': 2.0, 'ineq': 'gt', 'alpha': 0.18847887349020634},\n",
       " {'dim': 12, 'thresh': 1.2, 'ineq': 'lt', 'alpha': 0.15227368997476778},\n",
       " {'dim': 7, 'thresh': 1.2, 'ineq': 'gt', 'alpha': 0.15510870821690512},\n",
       " {'dim': 5, 'thresh': 0.0, 'ineq': 'lt', 'alpha': 0.13536197353359405},\n",
       " {'dim': 4,\n",
       "  'thresh': 28.799999999999997,\n",
       "  'ineq': 'lt',\n",
       "  'alpha': 0.12521587326132078}]"
      ]
     },
     "execution_count": 15,
     "metadata": {},
     "output_type": "execute_result"
    }
   ],
   "source": [
    "classifierArray"
   ]
  },
  {
   "cell_type": "code",
   "execution_count": 16,
   "id": "d128f902-3929-4f3d-ad55-1ee7d75e1eed",
   "metadata": {},
   "outputs": [],
   "source": [
    "testArr,testLabelArr = loadDataSet('../data/AdaBoost/horseColicTest2.txt')\n",
    "prediction10 = adaClassify(testArr,classifierArray)"
   ]
  },
  {
   "cell_type": "code",
   "execution_count": 17,
   "id": "6abf7c72-ec88-4f1d-9423-fac1790c3ad2",
   "metadata": {},
   "outputs": [
    {
     "data": {
      "text/plain": [
       "16.0"
      ]
     },
     "execution_count": 17,
     "metadata": {},
     "output_type": "execute_result"
    }
   ],
   "source": [
    "errArr = np.mat(np.ones((67,1)))\n",
    "errArr[prediction10!=np.mat(testLabelArr).T].sum()"
   ]
  },
  {
   "cell_type": "markdown",
   "id": "383b530f-3b05-4300-b8f4-cfb5fd66d5a5",
   "metadata": {},
   "source": [
    "- 设置成50可以在训练集上获得将近20%的错误率，但测试集上达到一个最小值之后又会开始上升，其被称为overfitting,对于表现好的数据集AdaBoost错误率会达到稳定值；\n",
    "- 很多人认为AdaBoost和SVM是监督学习中最强大的两种方法，实际上二者间也有相似之处。弱分类器想象成SVM中的一个核函数，可以按照最大化某个最小间隔的方式重写AdaBoost算法\n",
    "- 他们的不同在于定义间隔的计算方式不同，因此结果不同，在高纬空间下二者差异会更加明显"
   ]
  },
  {
   "cell_type": "markdown",
   "id": "258ea401-f6cc-45b9-bb89-bce01c409e5f",
   "metadata": {},
   "source": [
    "# 非均衡分类问题\n",
    "实际上多数情况下不同类别的分类代价并不均等，因此需要考虑新的分类器度量方法，并通过图像技术在上述非均衡问题下不同分类器的性能进行可视化处理，然后考虑分类器算法时可以将不同决策代价考虑在内"
   ]
  },
  {
   "cell_type": "markdown",
   "id": "9ce3f568-ec42-4aa4-8764-c25ed2f77da2",
   "metadata": {
    "tags": []
   },
   "source": [
    "## 分类性能度量的其他指标\n",
    "混淆矩阵（Confusion Matrix）：一个二分类混淆矩阵如下，当某个类别重要性高于其他时，可以利用混淆矩阵定义出多个比错误率更好的新指标\n",
    "\n",
    "|  | 预测：+1 | 预测：-1 |\n",
    "|-----|----|----|\n",
    "| 真实：+1 | TP(真正例) | FN(假负例) |\n",
    "| 真实：-1 | FP(假正例) | TN(真反例) |\n",
    "\n",
    "- 精准率 Precision：$\\frac{TP}{TP+FP}$,给出预测为正例样本中真实正例的比例\n",
    "- 召回率 Recall：$\\frac{TP}{TP+FN}$,给出预测为正的样本占所有真实正例的比例\n",
    "- ROC(receiver operating characteristic)曲线:\n",
    "    - ROC曲线中横轴是伪正比率$\\frac{FP}{FP+TN}$纵轴为真正例$\\frac{TP}{TP+FN}$\n",
    "    - ROC曲线给出的是当前阈值变化时假阳率和真阳率的变化情况\n",
    "    - ROC曲线不但可以用于比较分类器，还可以基于成本效益分析做出决策。不同阈值下，把不同分类器表现可能不同，因此以某种方式将其组合起来更有意义\n",
    "    - 理想状况下最佳分类器应该尽可能处于左上角，这意味着分类器假阳率低的基础上真阳率高\n",
    "    - 对不同ROC曲线进行比较的一个指标是曲线下的面积(Area Unser the Curve, AUC)。AUC给出分类器的平均性能，当然不能完全替代对曲线的观察，完美分类器的AUC为1，而随机猜测则是0.5\n",
    "    - 为了画ROC曲线，分类器必须提供每个样例判正的可信程度，尽管多数分类器都能做到这一点，但通常情况下，这些值会在最后输出离散分类之前被清除\n",
    "    - 为了创建ROC曲线，首先将分类样例按照预测强度排序，然后再选择不同阈值获取对应的数据对，构成ROC曲线"
   ]
  },
  {
   "cell_type": "code",
   "execution_count": 18,
   "id": "3b091854-507d-445c-b82b-76c94e4ac178",
   "metadata": {},
   "outputs": [],
   "source": [
    "# 训练分类器\n",
    "def adaBoostTrainDS(dataArr,classLabels,numIt=40):\n",
    "    weakClassArr = []\n",
    "    m = np.shape(dataArr)[0]\n",
    "    D = np.mat(np.ones((m,1))/m)\n",
    "    aggClassEst = np.mat(np.zeros((m,1)))\n",
    "    for i in range(numIt):\n",
    "        bestStump,error,classEst = buildStump(dataArr,classLabels,D)\n",
    "        # print(\"D:\"+str(D.T))\n",
    "\n",
    "        # 修正数据权重\n",
    "        # 简单处理除0问题\n",
    "        alpha = float(0.5*np.log((1.0-error)/max(error,1e-6)))\n",
    "        bestStump['alpha'] = alpha\n",
    "        weakClassArr.append(bestStump)\n",
    "        # print('classEst: ',classEst.T)\n",
    "        expon = np.multiply(-1*alpha*np.mat(classLabels).T,classEst)\n",
    "        D = np.multiply(D,np.exp(expon))\n",
    "        D = D/D.sum()\n",
    "\n",
    "        aggClassEst += alpha*classEst\n",
    "        # print('aggClassEst: ',aggClassEst.T)\n",
    "        aggErrors = np.multiply(np.sign(aggClassEst)!=np.mat(classLabels).T, np.ones((m,1)))\n",
    "        errorRate = aggErrors.sum()/m\n",
    "        # print('total Error',errorRate)\n",
    "        if errorRate == 0:\n",
    "            break\n",
    "    return weakClassArr,aggClassEst"
   ]
  },
  {
   "cell_type": "code",
   "execution_count": 19,
   "id": "70321e06-1f54-4c7d-adf6-d5ff5c7e1b66",
   "metadata": {},
   "outputs": [],
   "source": [
    "def plotROC(predStrengths,classLabels):\n",
    "    cur = (1.0,1.0)\n",
    "    ySum = 0.0\n",
    "    numPosClas = sum(np.array(classLabels)==1.0)\n",
    "    yStep = 1/float(numPosClas)\n",
    "    xStep = 1/float(len(classLabels)-numPosClas)\n",
    "\n",
    "    sortedIndicies = predStrengths.argsort()\n",
    "    fig = plt.figure()\n",
    "    fig.clf()\n",
    "    ax = plt.subplot(111)\n",
    "    for index in sortedIndicies.tolist()[0]:\n",
    "        if classLabels[index] ==1.0:\n",
    "            delX = 0\n",
    "            delY = yStep\n",
    "        else:\n",
    "            delX = xStep\n",
    "            delY = 0\n",
    "            ySum += cur[1]\n",
    "\n",
    "        ax.plot([cur[0],cur[0]-delX],[cur[1],cur[1]-delY], c='b')\n",
    "        cur = (cur[0]-delX,cur[1]-delY)\n",
    "    ax.plot([0,1],[0,1],'b--')\n",
    "    plt.xlabel('False positive rate'); plt.ylabel('True positive rate')\n",
    "    plt.title('ROC curve for AdaBoost horse colic detection system')\n",
    "    ax.axis([0,1,0,1])\n",
    "    plt.show()\n",
    "    print('The Area Under the Cruve is: ',ySum*xStep)"
   ]
  },
  {
   "cell_type": "code",
   "execution_count": 20,
   "id": "473f2513-599d-42b9-a1e4-09517ded6123",
   "metadata": {},
   "outputs": [
    {
     "data": {
      "image/png": "[encoded data removed]",
      "text/plain": [
       "<Figure size 432x288 with 1 Axes>"
      ]
     },
     "metadata": {
      "needs_background": "light"
     },
     "output_type": "display_data"
    },
    {
     "name": "stdout",
     "output_type": "stream",
     "text": [
      "The Area Under the Cruve is:  0.8582969635063604\n"
     ]
    }
   ],
   "source": [
    "datArr,labelArr = loadDataSet('../data/AdaBoost/horseColicTraining2.txt')\n",
    "classifierArray,aggClassEst = adaBoostTrainDS(datArr,labelArr,10)\n",
    "plotROC(aggClassEst.T,labelArr)"
   ]
  },
  {
   "cell_type": "markdown",
   "id": "d43de3f1-be68-4e81-bf58-396645fec1c0",
   "metadata": {},
   "source": [
    "## 基于代价函数的超分类决策控制\n",
    "- 除了调节分类器阈值之外，我们还有一些其他用于处理非均匀分类代价问题的方法，其中的一种称为代价敏感的学习（cost-sensitive learning）\n",
    "- 分类算法中，可以引入代价信息。AdaBoost可以基于代价函数调整错误权重向量D，可以选择最小期望代价而不是最大概率的类别作为最后结果，例如在SVM中可以在代价函数中对于把不同类别选择不同参数C"
   ]
  },
  {
   "cell_type": "markdown",
   "id": "635584ea-7515-418a-a128-9d4204b72885",
   "metadata": {},
   "source": [
    "## 处理非均衡问题的数据抽样方法\n",
    "- 还有一种针对非均衡问题调节分类器的方法，就是对分类器的训练数据进行改造。这可以通过undersampling或者oversampling来处理"
   ]
  },
  {
   "cell_type": "code",
   "execution_count": null,
   "id": "e5cfcd30-3abb-43fa-91c3-46420c00386e",
   "metadata": {},
   "outputs": [],
   "source": []
  }
 ],
 "metadata": {
  "kernelspec": {
   "display_name": "Python [conda env:ML] *",
   "language": "python",
   "name": "conda-env-ML-py"
  },
  "language_info": {
   "codemirror_mode": {
    "name": "ipython",
    "version": 3
   },
   "file_extension": ".py",
   "mimetype": "text/x-python",
   "name": "python",
   "nbconvert_exporter": "python",
   "pygments_lexer": "ipython3",
   "version": "3.6.13"
  }
 },
 "nbformat": 4,
 "nbformat_minor": 5
}
