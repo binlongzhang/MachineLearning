{
 "cells": [
  {
   "cell_type": "markdown",
   "id": "598d3a1f-a392-4af1-8402-dab99b620613",
   "metadata": {},
   "source": [
    "# 决策树(ID3)\n",
    "> KNN最大的缺点在于算法的可解释性差，而决策树最大优势在于**可解释性强**\n",
    "- 优点\n",
    "    - 计算复杂度低\n",
    "    - 输出结构易于理解\n",
    "    - 对中间值的缺失不敏感\n",
    "    - 可以处理不相关特征数据\n",
    "- 缺点\n",
    "    - 可能产生过度匹配问题\n",
    "- 适用数据类型\n",
    "    - 数值型\n",
    "    - 标称型"
   ]
  },
  {
   "cell_type": "markdown",
   "id": "daac983d-3883-4c40-9283-5bedb23b008e",
   "metadata": {
    "tags": []
   },
   "source": [
    "## 信息熵\n",
    "熵定义为信息的期望，符号$x_i$的信息定义为\n",
    "$$\n",
    "    I(x_i) = -log_2p(x_i)\n",
    "$$\n",
    "为了计算熵，我们要计算所有类别所有可能包含的信息的期望值,n为分类的数目\n",
    "$$\n",
    "    H = -\\sum^n_{i=1}{p(x_i)log_2p(x_i)}\n",
    "$$"
   ]
  },
  {
   "cell_type": "code",
   "execution_count": 1,
   "id": "59da5db8-b1ac-4089-a539-6625289b0c6e",
   "metadata": {},
   "outputs": [
    {
     "data": {
      "text/plain": [
       "[[1, 1, 'yes'], [1, 1, 'yes'], [1, 0, 'no'], [0, 1, 'no'], [0, 1, 'no']]"
      ]
     },
     "execution_count": 1,
     "metadata": {},
     "output_type": "execute_result"
    }
   ],
   "source": [
    "def createDataSet():\n",
    "    \n",
    "    dataSet = [[1,1,'yes'],[1,1,'yes'],\\\n",
    "              [1,0,'no'],[0,1,'no'],[0,1,'no'] ]\n",
    "    labels = ['no surfacing','flippers']\n",
    "    \n",
    "    return dataSet,labels\n",
    "\n",
    "myDat,labels = createDataSet()\n",
    "myDat"
   ]
  },
  {
   "cell_type": "code",
   "execution_count": 2,
   "id": "aa76a0e2-1a7a-4f66-9569-5450bcdd3f30",
   "metadata": {},
   "outputs": [
    {
     "data": {
      "text/plain": [
       "0.9709505944546686"
      ]
     },
     "execution_count": 2,
     "metadata": {},
     "output_type": "execute_result"
    }
   ],
   "source": [
    "# 计算香农熵\n",
    "from math import log\n",
    "def calcShannonEnt(dataSet):\n",
    "    numEnt = len(dataSet)\n",
    "    labelCounts = {}\n",
    "    # 统计数据\n",
    "    for featVec in dataSet:\n",
    "        currentLabel = featVec[-1]\n",
    "        if currentLabel not in labelCounts.keys():\n",
    "            labelCounts[currentLabel] = 0\n",
    "        labelCounts[currentLabel] += 1\n",
    "    # 计算信息熵\n",
    "    shannonEnt = 0.0\n",
    "    for key in labelCounts:\n",
    "        prob = float(labelCounts[key])/numEnt\n",
    "        shannonEnt -= prob * log(prob,2)\n",
    "    return shannonEnt\n",
    "\n",
    "calcShannonEnt(myDat)"
   ]
  },
  {
   "cell_type": "code",
   "execution_count": 3,
   "id": "42169707-8386-4ed7-8126-f1e098c533bd",
   "metadata": {},
   "outputs": [
    {
     "data": {
      "text/plain": [
       "0.7219280948873623"
      ]
     },
     "execution_count": 3,
     "metadata": {},
     "output_type": "execute_result"
    }
   ],
   "source": [
    "myDat[0][-1] = 'no'\n",
    "calcShannonEnt(myDat)"
   ]
  },
  {
   "cell_type": "code",
   "execution_count": 4,
   "id": "dfde5551-fa3c-47ee-b06d-8ccc5583bfc2",
   "metadata": {},
   "outputs": [
    {
     "data": {
      "text/plain": [
       "1.3709505944546687"
      ]
     },
     "execution_count": 4,
     "metadata": {},
     "output_type": "execute_result"
    }
   ],
   "source": [
    "myDat[0][-1] = 'maybe'\n",
    "calcShannonEnt(myDat)"
   ]
  },
  {
   "cell_type": "markdown",
   "id": "393509a8-3921-4a95-b79c-7df2e400e7d4",
   "metadata": {},
   "source": [
    "**由此可见数据越混乱，信息熵越大**"
   ]
  },
  {
   "cell_type": "markdown",
   "id": "faf1f04f-4f91-483a-8b27-9cebb69fafc8",
   "metadata": {},
   "source": [
    "## 划分数据集\n",
    "- 划分数据集\n",
    "- 度量划分数据集的熵\n",
    "\n",
    "我们将对每个特征划分数据集的结果计算一次信息熵，然后判断哪个特征划分数据集是最好的划分方式"
   ]
  },
  {
   "cell_type": "code",
   "execution_count": 5,
   "id": "e91b2669-25a3-4e2b-ae46-5cf084a9d634",
   "metadata": {},
   "outputs": [
    {
     "data": {
      "text/plain": [
       "[[1, 1, 'yes'], [1, 1, 'yes'], [1, 0, 'no'], [0, 1, 'no'], [0, 1, 'no']]"
      ]
     },
     "execution_count": 5,
     "metadata": {},
     "output_type": "execute_result"
    }
   ],
   "source": [
    "def splitDataSet(dataSet,axis,value):\n",
    "    retDataSet = []\n",
    "    for featVec in dataSet:\n",
    "        if featVec[axis] == value:\n",
    "            reducedFeatVec = featVec[:axis]\n",
    "            reducedFeatVec.extend(featVec[axis+1:])\n",
    "            retDataSet.append(reducedFeatVec)\n",
    "    return retDataSet\n",
    "\n",
    "myDat,labels = createDataSet()                                  \n",
    "myDat"
   ]
  },
  {
   "cell_type": "code",
   "execution_count": 6,
   "id": "ad8845bf-5ce8-40fe-a60c-fd65c43025e1",
   "metadata": {},
   "outputs": [
    {
     "data": {
      "text/plain": [
       "[[1, 'yes'], [1, 'yes'], [0, 'no']]"
      ]
     },
     "execution_count": 6,
     "metadata": {},
     "output_type": "execute_result"
    }
   ],
   "source": [
    "splitDataSet(myDat,0,1)"
   ]
  },
  {
   "cell_type": "code",
   "execution_count": 7,
   "id": "dd606785-3df0-425d-bbd6-8d9b97d75563",
   "metadata": {},
   "outputs": [
    {
     "data": {
      "text/plain": [
       "[[1, 'no'], [1, 'no']]"
      ]
     },
     "execution_count": 7,
     "metadata": {},
     "output_type": "execute_result"
    }
   ],
   "source": [
    "splitDataSet(myDat,0,0)"
   ]
  },
  {
   "cell_type": "code",
   "execution_count": 8,
   "id": "a088e167-0341-4936-872b-3be43cb050c2",
   "metadata": {},
   "outputs": [
    {
     "data": {
      "text/plain": [
       "0"
      ]
     },
     "execution_count": 8,
     "metadata": {},
     "output_type": "execute_result"
    }
   ],
   "source": [
    "# 基于信息增益选择最优特征\n",
    "def chooseBestFeatureToSplit(dataSet):\n",
    "    numFeatures = len(dataSet[0]) - 1\n",
    "    baseEnt = calcShannonEnt(dataSet)\n",
    "    dataSetNum = len(dataSet)\n",
    "    bestInfoGain = 0.0\n",
    "    bestFeature = -1\n",
    "    for i in range(numFeatures):\n",
    "        featList = [example[i] for example in dataSet]\n",
    "        uniqueVals = set(featList)\n",
    "        newEnt = 0.0\n",
    "        for value in uniqueVals:\n",
    "            subDataSet = splitDataSet(dataSet,i,value)\n",
    "            prob = len(subDataSet)/float(dataSetNum)\n",
    "            newEnt += prob * calcShannonEnt(subDataSet)\n",
    "\n",
    "        infoGain = baseEnt - newEnt\n",
    "        if (infoGain > bestInfoGain):\n",
    "            bestInfoGain = infoGain\n",
    "            bestFeature = i\n",
    "        return bestFeature\n",
    "    \n",
    "chooseBestFeatureToSplit(myDat)"
   ]
  },
  {
   "cell_type": "markdown",
   "id": "26a9d016-4041-42f1-8722-e89c034f2983",
   "metadata": {},
   "source": [
    "## 递归构建决策树\n",
    "- 决策树本身是树结构，利用递归构建不失为一个简单易懂的方式\n",
    "- 由于特征的值可能多余两个因此可能存在大于两个分支的数据划分\n",
    "- 划分过后数据被向下传递到树分支的下一个节点，在对应节点上可以在此划分数据\n",
    "- 任何叶子节点的数据必然属于叶子结点的分类\n",
    "- 使用了所有特征，类标签仍旧不唯一，通常采用多数表决"
   ]
  },
  {
   "cell_type": "code",
   "execution_count": 9,
   "id": "0a0de91a-f9b3-47cd-9a25-37676c4be0c0",
   "metadata": {},
   "outputs": [],
   "source": [
    "import operator\n",
    "def majorityCnt(classList):\n",
    "    classCount = {}\n",
    "    for vote in classList:\n",
    "        if vote not in classCount.keys():\n",
    "            classCount[vote] = 0\n",
    "        classCount[vote] += 1\n",
    "    sortedClassCount = sorted(classCount.items(),key = operator.itemgetter(1),reverse = True)\n",
    "    return sortedClassCount[0][0]"
   ]
  },
  {
   "cell_type": "code",
   "execution_count": 10,
   "id": "a80f80e3-7b33-4190-82d4-57668657101f",
   "metadata": {},
   "outputs": [],
   "source": [
    "def createTree(dataSet,labels):\n",
    "    classList = [example[-1] for example in dataSet]\n",
    "\n",
    "    # 叶节点样本都属于统一类别的时候返回\n",
    "    setClassList = set(classList)\n",
    "    if len(setClassList)==1:\n",
    "        return classList.pop()\n",
    "\n",
    "    # 遍历玩所有特征时候返回出现次数最多的类标签\n",
    "    if len(dataSet[0])==1:\n",
    "        return majorityCnt(classList)\n",
    "\n",
    "    bestFeat = chooseBestFeatureToSplit(dataSet)\n",
    "    bestFeatBabel = labels[bestFeat]\n",
    "\n",
    "    myTree = {bestFeatBabel:{}}\n",
    "    del(labels[bestFeat])\n",
    "    featValues = [example[bestFeat] for example in dataSet]\n",
    "    uniqueVals = set(featValues)\n",
    "    for value in uniqueVals:\n",
    "        subLabels = labels[:]\n",
    "        myTree[bestFeatBabel][value] = createTree(splitDataSet(dataSet,bestFeat,value),subLabels)\n",
    "    return myTree"
   ]
  },
  {
   "cell_type": "code",
   "execution_count": 11,
   "id": "f1c20394-62fc-4022-8fc3-80bac7520199",
   "metadata": {},
   "outputs": [
    {
     "data": {
      "text/plain": [
       "{'no surfacing': {0: 'no', 1: {'flippers': {0: 'no', 1: 'yes'}}}}"
      ]
     },
     "execution_count": 11,
     "metadata": {},
     "output_type": "execute_result"
    }
   ],
   "source": [
    "myDat,labels = createDataSet()\n",
    "myTree = createTree(myDat,labels)\n",
    "myTree"
   ]
  },
  {
   "cell_type": "markdown",
   "id": "fbaa2fd0-b52e-4e29-ad80-62b17677d808",
   "metadata": {},
   "source": [
    "# matplotLib形象化决策树"
   ]
  },
  {
   "cell_type": "code",
   "execution_count": 12,
   "id": "3c3c84ba-e074-478b-b721-d94097db06b2",
   "metadata": {},
   "outputs": [
    {
     "data": {
      "image/png": "[encoded data removed]",
      "text/plain": [
       "<Figure size 432x288 with 1 Axes>"
      ]
     },
     "metadata": {},
     "output_type": "display_data"
    }
   ],
   "source": [
    "import matplotlib.pyplot as plt\n",
    "\n",
    "decisionNode = dict(boxstyle = 'sawtooth',fc = '0.8')\n",
    "leafNode = dict(boxstyle = 'round4',fc='0.8')\n",
    "arrow_args = dict(arrowstyle = '<-')\n",
    "\n",
    "def plotNode(subfig,nodeTxt,centerPt,parentPt,nodeType):\n",
    "    subfig.annotate(nodeTxt,xy=parentPt,xycoords='axes fraction',\\\n",
    "                           xytext=centerPt,textcoords='axes fraction',\\\n",
    "                           va='center',ha='center',bbox=nodeType,arrowprops=arrow_args)\n",
    "    \n",
    "    \n",
    "def createPlot():\n",
    "    fig = plt.figure(1,facecolor='white')\n",
    "    fig.clf()\n",
    "    subfig = plt.subplot(111,frameon = False)\n",
    "    plotNode(subfig,'a decision Node',(0.5,0.1),(0.1,0.5),decisionNode)\n",
    "    plotNode(subfig,'a leaf Node',(0.8,0.1),(0.3,0.8),leafNode)\n",
    "    plt.show()\n",
    "createPlot()"
   ]
  },
  {
   "cell_type": "markdown",
   "id": "ba5cd1f6-198f-47c4-a235-6651f9d60011",
   "metadata": {},
   "source": [
    "## 获取节点数目和树的层数"
   ]
  },
  {
   "cell_type": "code",
   "execution_count": 13,
   "id": "6af219a0-f20d-4b6c-af49-315e613c814c",
   "metadata": {},
   "outputs": [],
   "source": [
    "# 获取叶节点数目\n",
    "def getNumLeafs(myTree):\n",
    "    numLeafs = 0\n",
    "    firstStr = list(myTree.keys())[0]\n",
    "    secondDict = myTree[firstStr]\n",
    "    for key in secondDict.keys():\n",
    "        if isinstance(secondDict[key],dict):\n",
    "            numLeafs += getNumLeafs(secondDict[key])\n",
    "        else:\n",
    "            numLeafs += 1\n",
    "    return numLeafs\n",
    "\n",
    "def getTreeDepth(myTree):\n",
    "    maxDepth = 0\n",
    "    firstStr = list(myTree.keys())[0]\n",
    "    secondDict = myTree[firstStr]\n",
    "    for key in secondDict.keys():\n",
    "        if isinstance(secondDict[key],dict):\n",
    "            depth = 1 + getTreeDepth(secondDict[key])\n",
    "        else:\n",
    "            depth = 1\n",
    "    if maxDepth>depth:\n",
    "        return maxDepth\n",
    "    else:\n",
    "        return depth"
   ]
  },
  {
   "cell_type": "code",
   "execution_count": 14,
   "id": "9534eccb-6544-41f6-9a1c-5c6aa5a1b05c",
   "metadata": {},
   "outputs": [
    {
     "name": "stdout",
     "output_type": "stream",
     "text": [
      "{'no surfacing': {0: 'no', 1: {'flippers': {0: 'no', 1: 'yes'}}}}\n",
      "3\n",
      "2\n"
     ]
    }
   ],
   "source": [
    "def retrieveTree(i):\n",
    "    listOfTrees =[\\\n",
    "                {'no surfacing': {0: 'no', 1: {'flippers': {0: 'no', 1: 'yes'}}}},\\\n",
    "                {'no surfacing': {0: 'no', 1: \\\n",
    "                      {'flippers': {0: {'head': {0: 'no', 1: 'yes'}}, 1: 'no'}}}}\\\n",
    "                  ]\n",
    "    return listOfTrees[i]\n",
    "myTree = retrieveTree(0)\n",
    "print(myTree)\n",
    "print(getNumLeafs(myTree))\n",
    "print(getTreeDepth(myTree))"
   ]
  },
  {
   "cell_type": "markdown",
   "id": "6313918f-b8e6-43f1-9664-485edadee593",
   "metadata": {},
   "source": [
    "## 绘制决策树"
   ]
  },
  {
   "cell_type": "code",
   "execution_count": 15,
   "id": "bba6667e-b9cc-4fa1-aa27-b65017fd7c2f",
   "metadata": {},
   "outputs": [
    {
     "data": {
      "image/png": "[encoded data removed]",
      "text/plain": [
       "<Figure size 432x288 with 1 Axes>"
      ]
     },
     "metadata": {},
     "output_type": "display_data"
    }
   ],
   "source": [
    "# 在父子节点之间填充文本信息\n",
    "def plotMidText(cntrPt,parentPt,txtString,TreeAtt):\n",
    "    xMid = (parentPt[0]-cntrPt[0])/2 + cntrPt[0]\n",
    "    yMid = (parentPt[1]-cntrPt[1])/2 + cntrPt[1]\n",
    "    TreeAtt['fig'].text(xMid,yMid,txtString)\n",
    "    \n",
    "def plotTree(myTree,parentPt,nodeTxt,TreeAtt):\n",
    "    numLeafs = getNumLeafs(myTree)\n",
    "    depth = getTreeDepth(myTree)\n",
    "    \n",
    "    # 绘制选择节点\n",
    "    firstStr = list(myTree.keys())[0]\n",
    "    cntrPt = (TreeAtt['xOff']+(1.0 + float(numLeafs))/2/TreeAtt['totalW'] , TreeAtt['yOff'])\n",
    "    plotMidText(cntrPt, parentPt, nodeTxt,TreeAtt)\n",
    "    plotNode(TreeAtt['fig'],firstStr, cntrPt, parentPt, decisionNode)\n",
    "    \n",
    "    secondDict = myTree[firstStr]\n",
    "    TreeAtt['yOff'] = TreeAtt['yOff'] - 1.0/TreeAtt['totalD']\n",
    "    for key in secondDict.keys():\n",
    "        if isinstance(secondDict[key],dict):\n",
    "            # 依据根绘制树\n",
    "            plotTree(secondDict[key],cntrPt,str(key),TreeAtt)\n",
    "        else:\n",
    "            # 绘制属性线\n",
    "            TreeAtt['xOff'] = TreeAtt['xOff'] + 1.0/TreeAtt['totalW']\n",
    "            plotNode(TreeAtt['fig'],secondDict[key], (TreeAtt['xOff'], TreeAtt['yOff']), cntrPt, leafNode)\n",
    "            plotMidText((TreeAtt['xOff'], TreeAtt['yOff']), cntrPt, str(key),TreeAtt)\n",
    "    \n",
    "    # 回溯完了之后恢复y轴绘图坐标\n",
    "    TreeAtt['yOff'] = TreeAtt['yOff'] + 1.0/TreeAtt['totalD']\n",
    "    \n",
    "def createPlot(inTree):\n",
    "    fig = plt.figure(1,facecolor='white')\n",
    "    # 清除数据     \n",
    "    fig.clf()\n",
    "    TreeAtt = {}\n",
    "    TreeAtt['fig'] = plt.subplot(111,frameon=False,xticks = [],yticks = [])\n",
    "    TreeAtt['totalW'] = float(getNumLeafs(inTree))\n",
    "    TreeAtt['totalD'] = float(getTreeDepth(inTree))\n",
    "    TreeAtt['xOff'] = -0.5 / TreeAtt['totalW']\n",
    "    TreeAtt['yOff'] = 1.0\n",
    "    \n",
    "    plotTree(inTree,(0.5,1.0),'',TreeAtt)\n",
    "    plt.show()\n",
    "    \n",
    "createPlot(myTree)"
   ]
  },
  {
   "cell_type": "code",
   "execution_count": 16,
   "id": "f4c7cd39-a008-49cb-a552-0bccaa879828",
   "metadata": {},
   "outputs": [
    {
     "data": {
      "text/plain": [
       "{'no surfacing': {0: 'no', 1: {'flippers': {0: 'no', 1: 'yes'}}, 3: 'maybe'}}"
      ]
     },
     "execution_count": 16,
     "metadata": {},
     "output_type": "execute_result"
    }
   ],
   "source": [
    "myTree['no surfacing'][3] = 'maybe'\n",
    "myTree"
   ]
  },
  {
   "cell_type": "code",
   "execution_count": 17,
   "id": "ac29fc6e-c449-4dc4-b9f6-86e8e31dcf47",
   "metadata": {},
   "outputs": [
    {
     "data": {
      "image/png": "[encoded data removed]",
      "text/plain": [
       "<Figure size 432x288 with 1 Axes>"
      ]
     },
     "metadata": {},
     "output_type": "display_data"
    }
   ],
   "source": [
    "createPlot(myTree)"
   ]
  },
  {
   "cell_type": "markdown",
   "id": "48ea7aff-9501-4ce2-a050-b4a7036d2273",
   "metadata": {},
   "source": [
    "# 测试及存储分类器"
   ]
  },
  {
   "cell_type": "markdown",
   "id": "4a19a178-1a49-411d-a067-79c713f9a8d1",
   "metadata": {},
   "source": [
    "## 测试分类器"
   ]
  },
  {
   "cell_type": "code",
   "execution_count": 18,
   "id": "4b7a4b43-1742-4548-b556-586dcb38bba9",
   "metadata": {},
   "outputs": [],
   "source": [
    "def classify(inputTree,featLabels,testVec):\n",
    "    firstStr = list(inputTree.keys())[0]\n",
    "    secondDict = inputTree[firstStr]\n",
    "    featIndex = featLabels.index(firstStr)\n",
    "    for key in secondDict.keys():\n",
    "        if testVec[featIndex]==key:\n",
    "            if isinstance(secondDict[key],dict):\n",
    "                classLabel = classify(secondDict[key],featLabels,testVec)\n",
    "            else:\n",
    "                classLabel = secondDict[key]\n",
    "    return classLabel"
   ]
  },
  {
   "cell_type": "code",
   "execution_count": 19,
   "id": "80974d36-65f3-4057-9607-b2980d3d87e7",
   "metadata": {},
   "outputs": [
    {
     "data": {
      "text/plain": [
       "{'no surfacing': {0: 'no', 1: {'flippers': {0: 'no', 1: 'yes'}}}}"
      ]
     },
     "execution_count": 19,
     "metadata": {},
     "output_type": "execute_result"
    }
   ],
   "source": [
    "myDat,labels = createDataSet()\n",
    "myTree = retrieveTree(0)\n",
    "myTree"
   ]
  },
  {
   "cell_type": "code",
   "execution_count": 20,
   "id": "0ecea37e-9d86-4f87-ba30-dd7df68eaf4c",
   "metadata": {},
   "outputs": [
    {
     "data": {
      "text/plain": [
       "['no surfacing', 'flippers']"
      ]
     },
     "execution_count": 20,
     "metadata": {},
     "output_type": "execute_result"
    }
   ],
   "source": [
    "labels"
   ]
  },
  {
   "cell_type": "code",
   "execution_count": 21,
   "id": "31580abd-55c9-4c42-8b4c-3f71cdbb31e5",
   "metadata": {},
   "outputs": [
    {
     "name": "stdout",
     "output_type": "stream",
     "text": [
      "no\n",
      "yes\n"
     ]
    }
   ],
   "source": [
    "print(classify(myTree,labels,[1,0]))\n",
    "print(classify(myTree,labels,[1,1]))"
   ]
  },
  {
   "cell_type": "markdown",
   "id": "345ca72e-e844-4bdc-999a-79471cac7c69",
   "metadata": {},
   "source": [
    "## 使用算法:存储决策树"
   ]
  },
  {
   "cell_type": "code",
   "execution_count": 22,
   "id": "63d2ddd5-8f3b-47bb-94b4-6445f6953bb9",
   "metadata": {},
   "outputs": [],
   "source": [
    "# 使用pickle序列化对象\n",
    "import pickle\n",
    "def storeTree(inputTree,filename):\n",
    "    fw = open(filename,'wb')\n",
    "    pickle.dump(inputTree,fw)\n",
    "    fw.close()\n",
    "\n",
    "def grabTree(filename):\n",
    "    fr = open(filename,'rb')\n",
    "    return pickle.load(fr)\n",
    "\n",
    "storeTree(myTree,'../data/DecTree/classifierStorage.txt')\n"
   ]
  },
  {
   "cell_type": "code",
   "execution_count": 23,
   "id": "cbecca6d-8e52-4a1f-837a-9ed5b64b3347",
   "metadata": {},
   "outputs": [
    {
     "data": {
      "text/plain": [
       "{'no surfacing': {0: 'no', 1: {'flippers': {0: 'no', 1: 'yes'}}}}"
      ]
     },
     "execution_count": 23,
     "metadata": {},
     "output_type": "execute_result"
    }
   ],
   "source": [
    "grabTree('../data/DecTree/classifierStorage.txt')"
   ]
  },
  {
   "cell_type": "markdown",
   "id": "e1a8b1bc-5433-4d29-b7b7-0e0b9fcb7ebd",
   "metadata": {
    "tags": []
   },
   "source": [
    "# e.g. 使用决策树预测隐形眼镜类型\n",
    "隐形眼镜数据集包含很多患者眼部状况的观察条件及医生推荐的隐形眼镜类别\n",
    "> The dataset is a modified version of the Lenses dataset retrieved from the UCI Machine Learning Repository November 3，\n",
    "2010 [http://archive.ics.uci.edu/mVmachine-leaming-databases/lenses^|. The source of the data is Jadzia Cendrowska and\n",
    "was originally published in UPRISM: An algorithm for inducing modular rules,” in International Journal o f Man-Machine\n",
    "S(udies(i9%ll 27,349-70.)"
   ]
  },
  {
   "cell_type": "code",
   "execution_count": 24,
   "id": "3b179570-3e6e-4359-925d-bff78fd872fe",
   "metadata": {},
   "outputs": [
    {
     "data": {
      "text/plain": [
       "{'age': {'young': {'tearRate': {'no lenses': 'no lenses',\n",
       "    'hard': 'hard',\n",
       "    'soft': 'soft'}},\n",
       "  'presbyopic': {'prescript': {'hyper': {'astigmatic': {'yes': 'no lenses',\n",
       "      'no': {'tearRate': {'reduced': 'no lenses', 'normal': 'soft'}}}},\n",
       "    'myope': {'astigmatic': {'yes': {'tearRate': {'reduced': 'no lenses',\n",
       "        'normal': 'hard'}},\n",
       "      'no': 'no lenses'}}}},\n",
       "  'pre': {'prescript': {'hyper': {'astigmatic': {'yes': 'no lenses',\n",
       "      'no': {'tearRate': {'reduced': 'no lenses', 'normal': 'soft'}}}},\n",
       "    'myope': {'astigmatic': {'yes': {'tearRate': {'reduced': 'no lenses',\n",
       "        'normal': 'hard'}},\n",
       "      'no': {'tearRate': {'reduced': 'no lenses', 'normal': 'soft'}}}}}}}}"
      ]
     },
     "execution_count": 24,
     "metadata": {},
     "output_type": "execute_result"
    }
   ],
   "source": [
    "fr = open('../data/DecTree/lenses.txt')\n",
    "lenses = [inst.strip().split('\\t') for inst in fr.readlines()]\n",
    "lensesLabels = ['age','prescript','astigmatic','tearRate']\n",
    "lensesTree = createTree(lenses,lensesLabels)\n",
    "lensesTree"
   ]
  },
  {
   "cell_type": "code",
   "execution_count": 25,
   "id": "219a788b-1751-4170-98bc-ce6209c68712",
   "metadata": {
    "tags": []
   },
   "outputs": [
    {
     "data": {
      "image/png": "[encoded data removed]",
      "text/plain": [
       "<Figure size 432x288 with 1 Axes>"
      ]
     },
     "metadata": {},
     "output_type": "display_data"
    }
   ],
   "source": [
    "createPlot(lensesTree)"
   ]
  },
  {
   "cell_type": "markdown",
   "id": "94a823d3-38d6-4a3d-833a-4dde65a9c78a",
   "metadata": {},
   "source": [
    "# 总结\n",
    "- 决策树很好的匹配了实验数据，然而这些匹配选项可能过多。该现象被称为overfitting\n",
    "- 可以裁剪决策树，减少过度匹配问题去掉不必要的叶子结点\n",
    "- 叶子结点只增加少量信息，也可以删除，并将其归入到其他叶子节点中\n",
    "- ID3好而不完美，无法处理数值类型数据，尽管可以将数值型转换成标称型，但存在太多划分，ID3仍旧面对其它问题"
   ]
  },
  {
   "cell_type": "code",
   "execution_count": null,
   "id": "25c5ca2e-0e1f-4251-b0af-26f8282251b9",
   "metadata": {},
   "outputs": [],
   "source": []
  }
 ],
 "metadata": {
  "kernelspec": {
   "display_name": "Python [conda env:ML] *",
   "language": "python",
   "name": "conda-env-ML-py"
  },
  "language_info": {
   "codemirror_mode": {
    "name": "ipython",
    "version": 3
   },
   "file_extension": ".py",
   "mimetype": "text/x-python",
   "name": "python",
   "nbconvert_exporter": "python",
   "pygments_lexer": "ipython3",
   "version": "3.6.13"
  },
  "toc-showtags": false
 },
 "nbformat": 4,
 "nbformat_minor": 5
}
